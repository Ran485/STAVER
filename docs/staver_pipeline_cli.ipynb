{
 "cells": [
  {
   "attachments": {},
   "cell_type": "markdown",
   "metadata": {},
   "source": [
    "# Execute the STAVER workflow\n",
    "\n",
    "The `STAVER` algorithm is implemented in the `staver_pipeline` module. This module provides a comprehensive proteomics data analysis tool designed to streamline the workflow from raw data preprocessing to the final result output. We provide a tutorial for running the `STAVER` workflow with the `Command-Line Interface (CLI)`. For more details about the `STAVER` algorithm, please refer to the [STAVER Document](https://staver.readthedocs.io/en/latest/)."
   ]
  },
  {
   "cell_type": "code",
   "execution_count": 2,
   "metadata": {},
   "outputs": [],
   "source": [
    "import pandas as pd\n",
    "import numpy as np\n",
    "import staver as st\n",
    "\n",
    "import warnings\n",
    "warnings.filterwarnings('ignore')"
   ]
  },
  {
   "attachments": {},
   "cell_type": "markdown",
   "metadata": {},
   "source": [
    "## List all the optional command arguments"
   ]
  },
  {
   "cell_type": "code",
   "execution_count": 3,
   "metadata": {},
   "outputs": [
    {
     "name": "stdout",
     "output_type": "stream",
     "text": [
      "usage: staver_pipeline.py [-h] -n NUMBER_THRESHODS -i DIA_PATH\n",
      "                          [-ref REFERENCE_STANDARD_DATASET] -o\n",
      "                          DIA_PEP_DATA_OUTPATH -op DIA_PROTEIN_DATA_OUTPATH\n",
      "                          [-fdr FDR_THRESHOLD] [-c COUNT_CUTOFF_SAME_LIBS]\n",
      "                          [-d COUNT_CUTOFF_DIFF_LIBS]\n",
      "                          [-pep_cv PEPTIDES_CV_THRESH]\n",
      "                          [-pro_cv PROTEINS_CV_THRESH]\n",
      "                          [-na_thresh NA_THRESHOLD] [-top TOP_PRECURSOR_IONS]\n",
      "                          [-norm NORMALIZATION_METHOD] [-suffix FILE_SUFFIX]\n",
      "                          [-sample SAMPLE_TYPE] [-ver VERBOSE] [-v]\n",
      "\n",
      "STAVER: A Standardized Dataset-Based Algorithm for Efficient Variation\n",
      "Reduction in Large-Scale DIA MS Data\n",
      "\n",
      "optional arguments:\n",
      "  -h, --help            show this help message and exit\n",
      "  -n NUMBER_THRESHODS, --thread_numbers NUMBER_THRESHODS\n",
      "                        The number of thresholds for computer operations\n",
      "  -i DIA_PATH, --input DIA_PATH\n",
      "                        The DIA input data path\n",
      "  -ref REFERENCE_STANDARD_DATASET, --reference_dataset_path REFERENCE_STANDARD_DATASET\n",
      "                        The DIA standarde reference directory\n",
      "  -o DIA_PEP_DATA_OUTPATH, --output_peptide DIA_PEP_DATA_OUTPATH\n",
      "                        The processed DIA proteomics of peptide data output\n",
      "                        path\n",
      "  -op DIA_PROTEIN_DATA_OUTPATH, --output_protein DIA_PROTEIN_DATA_OUTPATH\n",
      "                        The processed DIA proteomics protein data output path\n",
      "  -fdr FDR_THRESHOLD, --fdr_threshold FDR_THRESHOLD\n",
      "                        Setting the FDR threshold (default: 0.01)\n",
      "  -c COUNT_CUTOFF_SAME_LIBS, --count_cutoff_same_libs COUNT_CUTOFF_SAME_LIBS\n",
      "                        Setting the count cutoff of same files (default: 1)\n",
      "  -d COUNT_CUTOFF_DIFF_LIBS, --count_cutoff_diff_libs COUNT_CUTOFF_DIFF_LIBS\n",
      "                        Setting the count cutoff of different files (default:\n",
      "                        2)\n",
      "  -pep_cv PEPTIDES_CV_THRESH, --peptides_cv_thresh PEPTIDES_CV_THRESH\n",
      "                        Setting coefficient of variation threshold for the\n",
      "                        peptides (default: 0.3)\n",
      "  -pro_cv PROTEINS_CV_THRESH, --proteins_cv_thresh PROTEINS_CV_THRESH\n",
      "                        Setting coefficient of variation threshold for the\n",
      "                        proteins (default: 0.3)\n",
      "  -na_thresh NA_THRESHOLD, --na_threshold NA_THRESHOLD\n",
      "                        Setting the minimum threshold for NUll peptides\n",
      "                        (default: 0.3)\n",
      "  -top TOP_PRECURSOR_IONS, --top_precursor_ions TOP_PRECURSOR_IONS\n",
      "                        Setting the top high confidence interval precursor\n",
      "                        ions (default: 6)\n",
      "  -norm NORMALIZATION_METHOD, --normalization_method NORMALIZATION_METHOD\n",
      "                        Specify data normalization method\n",
      "  -suffix FILE_SUFFIX, --file_suffix FILE_SUFFIX\n",
      "                        Set the suffix for folder specific identification\n",
      "  -sample SAMPLE_TYPE, --sample_type SAMPLE_TYPE\n",
      "                        Description of the sample type\n",
      "  -ver VERBOSE, --verbose VERBOSE\n",
      "                        Set the verbose mode for the output information\n",
      "  -v, --version         show program's version number and exit\n"
     ]
    }
   ],
   "source": [
    "%run ~/STAVER/staver/staver_pipeline.py  -h"
   ]
  },
  {
   "attachments": {},
   "cell_type": "markdown",
   "metadata": {},
   "source": [
    "## Run the staver_pipeline\n",
    "\n",
    "> (Estimated time: ~5 min of 20 samples)\n",
    "\n",
    "To begin with, the Environment and the DIA dataset should be prepared:\n",
    "\n",
    "1. **Preparing the Environment:**\n",
    "   - Ensure that Python is installed on your system.\n",
    "   - Download or clone the `STAVER` repository to your local machine or HPC. \n",
    "   - Install the required packages by running `pip install -r requirements.txt` in the `STAVER` directory.\n",
    "\n",
    "2. **Setting Up the Parameters:**\n",
    "   - Use the `-n` flag to set the number of threads for computation.\n",
    "   - The `-i` flag should point to your input DIA data path.\n",
    "   - If you have a reference dataset, use the `-ref` flag to provide its path; otherwise, the default dataset will be used.\n",
    "   - Define the output paths for peptide data with `-o` and protein data with `-op`."
   ]
  },
  {
   "cell_type": "code",
   "execution_count": 5,
   "metadata": {},
   "outputs": [
    {
     "name": "stdout",
     "output_type": "stream",
     "text": [
      "All parsed arguments:\n",
      "number_threshods: 16\n",
      "dia_path: /Volumes/T7_Shield/staver/data/likai-diann-raw-20/\n",
      "reference_standard_dataset: /Volumes/T7_Shield/staver/data/likai-diann-raw\n",
      "dia_pep_data_outpath: /Volumes/T7_Shield/staver/results/DIA_repeat20_2023010/peptides/\n",
      "dia_protein_data_outpath: /Volumes/T7_Shield/staver/results/DIA_repeat20_2023010/proteins/\n",
      "fdr_threshold: 0.01\n",
      "count_cutoff_same_libs: 1\n",
      "count_cutoff_diff_libs: 2\n",
      "peptides_cv_thresh: 0.3\n",
      "proteins_cv_thresh: 0.3\n",
      "na_threshold: 0.3\n",
      "top_precursor_ions: 6\n",
      "normalization_method: median\n",
      "file_suffix: _F1_R1\n",
      "sample_type: None\n",
      "verbose: False\n",
      "\n",
      "===================== 'run_staver' function begins running... ======================\n",
      "\n",
      "\n",
      "====================== 'load_data' function begins running... ======================\n",
      "\n",
      "/Volumes/T7_Shield/staver/results/DIA_repeat20_2023010/peptides/\n"
     ]
    }
   ],
   "source": [
    "## run staver_pipeline\n",
    "%run ~/STAVER/staver/staver_pipeline.py \\\n",
    "        --thread_numbers 16 \\\n",
    "        --input /Volumes/T7_Shield/staver/data/likai-diann-raw-20/ \\\n",
    "        --reference_dataset_path /Volumes/T7_Shield/staver/data/likai-diann-raw \\\n",
    "        --output_peptide /Volumes/T7_Shield/staver/results/DIA_repeat20_2023010/peptides/ \\\n",
    "        --output_protein /Volumes/T7_Shield/staver/results/DIA_repeat20_2023010/proteins/ \\\n",
    "        --count_cutoff_same_libs 1 \\\n",
    "        --count_cutoff_diff_libs 2 \\\n",
    "        --fdr_threshold 0.01 \\\n",
    "        --peptides_cv_thresh 0.3 \\\n",
    "        --proteins_cv_thresh 0.3 \\\n",
    "        --na_threshold 0.3 \\\n",
    "        --top_precursor_ions 6 \\\n",
    "        --file_suffix _F1_R1"
   ]
  },
  {
   "cell_type": "code",
   "execution_count": null,
   "metadata": {},
   "outputs": [],
   "source": []
  }
 ],
 "metadata": {
  "kernelspec": {
   "display_name": "STAVER",
   "language": "python",
   "name": "python3"
  },
  "language_info": {
   "codemirror_mode": {
    "name": "ipython",
    "version": 3
   },
   "file_extension": ".py",
   "mimetype": "text/x-python",
   "name": "python",
   "nbconvert_exporter": "python",
   "pygments_lexer": "ipython3",
   "version": "3.9.16"
  },
  "orig_nbformat": 4
 },
 "nbformat": 4,
 "nbformat_minor": 2
}
