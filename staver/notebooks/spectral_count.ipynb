{
 "cells": [
  {
   "cell_type": "code",
   "execution_count": 1,
   "metadata": {},
   "outputs": [],
   "source": [
    "import pandas as pd\n",
    "import numpy as np"
   ]
  },
  {
   "attachments": {},
   "cell_type": "markdown",
   "metadata": {},
   "source": [
    "## 1、获取327库的蛋白质列表和肽段列表及其数目"
   ]
  },
  {
   "cell_type": "code",
   "execution_count": 2,
   "metadata": {},
   "outputs": [
    {
     "data": {
      "text/html": [
       "<div>\n",
       "<style scoped>\n",
       "    .dataframe tbody tr th:only-of-type {\n",
       "        vertical-align: middle;\n",
       "    }\n",
       "\n",
       "    .dataframe tbody tr th {\n",
       "        vertical-align: top;\n",
       "    }\n",
       "\n",
       "    .dataframe thead th {\n",
       "        text-align: right;\n",
       "    }\n",
       "</style>\n",
       "<table border=\"1\" class=\"dataframe\">\n",
       "  <thead>\n",
       "    <tr style=\"text-align: right;\">\n",
       "      <th></th>\n",
       "      <th>FileName</th>\n",
       "      <th>PrecursorMz</th>\n",
       "      <th>ProductMz</th>\n",
       "      <th>Tr_recalibrated</th>\n",
       "      <th>IonMobility</th>\n",
       "      <th>transition_name</th>\n",
       "      <th>LibraryIntensity</th>\n",
       "      <th>transition_group_id</th>\n",
       "      <th>decoy</th>\n",
       "      <th>PeptideSequence</th>\n",
       "      <th>...</th>\n",
       "      <th>PrecursorCharge</th>\n",
       "      <th>PeptideGroupLabel</th>\n",
       "      <th>UniprotID</th>\n",
       "      <th>NTerm</th>\n",
       "      <th>CTerm</th>\n",
       "      <th>FragmentType</th>\n",
       "      <th>FragmentCharge</th>\n",
       "      <th>FragmentSeriesNumber</th>\n",
       "      <th>FragmentLossType</th>\n",
       "      <th>ExcludeFromAssay</th>\n",
       "    </tr>\n",
       "  </thead>\n",
       "  <tbody>\n",
       "    <tr>\n",
       "      <th>0</th>\n",
       "      <td>Z:\\Volumes\\Samsung_T5\\DIA-NN\\Spectral_Library\\...</td>\n",
       "      <td>621.32092</td>\n",
       "      <td>328.16156</td>\n",
       "      <td>1860.7000</td>\n",
       "      <td>0</td>\n",
       "      <td>(UniMod:1)AAAAAAAAAAGAAGGR2_98_1_2_4</td>\n",
       "      <td>1.000000</td>\n",
       "      <td>(UniMod:1)AAAAAAAAAAGAAGGR2</td>\n",
       "      <td>0</td>\n",
       "      <td>AAAAAAAAAAGAAGGR</td>\n",
       "      <td>...</td>\n",
       "      <td>2</td>\n",
       "      <td>(UniMod:1)AAAAAAAAAAGAAGGR</td>\n",
       "      <td>NaN</td>\n",
       "      <td>0</td>\n",
       "      <td>0</td>\n",
       "      <td>b</td>\n",
       "      <td>1</td>\n",
       "      <td>4</td>\n",
       "      <td>NH3</td>\n",
       "      <td>False</td>\n",
       "    </tr>\n",
       "    <tr>\n",
       "      <th>1</th>\n",
       "      <td>Z:\\Volumes\\Samsung_T5\\DIA-NN\\Spectral_Library\\...</td>\n",
       "      <td>621.32092</td>\n",
       "      <td>257.12442</td>\n",
       "      <td>1860.7000</td>\n",
       "      <td>0</td>\n",
       "      <td>(UniMod:1)AAAAAAAAAAGAAGGR2_98_1_2_3</td>\n",
       "      <td>0.964495</td>\n",
       "      <td>(UniMod:1)AAAAAAAAAAGAAGGR2</td>\n",
       "      <td>0</td>\n",
       "      <td>AAAAAAAAAAGAAGGR</td>\n",
       "      <td>...</td>\n",
       "      <td>2</td>\n",
       "      <td>(UniMod:1)AAAAAAAAAAGAAGGR</td>\n",
       "      <td>NaN</td>\n",
       "      <td>0</td>\n",
       "      <td>0</td>\n",
       "      <td>b</td>\n",
       "      <td>1</td>\n",
       "      <td>3</td>\n",
       "      <td>NH3</td>\n",
       "      <td>False</td>\n",
       "    </tr>\n",
       "    <tr>\n",
       "      <th>2</th>\n",
       "      <td>Z:\\Volumes\\Samsung_T5\\DIA-NN\\Spectral_Library\\...</td>\n",
       "      <td>621.32092</td>\n",
       "      <td>399.19867</td>\n",
       "      <td>1860.7000</td>\n",
       "      <td>0</td>\n",
       "      <td>(UniMod:1)AAAAAAAAAAGAAGGR2_98_1_2_5</td>\n",
       "      <td>0.917744</td>\n",
       "      <td>(UniMod:1)AAAAAAAAAAGAAGGR2</td>\n",
       "      <td>0</td>\n",
       "      <td>AAAAAAAAAAGAAGGR</td>\n",
       "      <td>...</td>\n",
       "      <td>2</td>\n",
       "      <td>(UniMod:1)AAAAAAAAAAGAAGGR</td>\n",
       "      <td>NaN</td>\n",
       "      <td>0</td>\n",
       "      <td>0</td>\n",
       "      <td>b</td>\n",
       "      <td>1</td>\n",
       "      <td>5</td>\n",
       "      <td>NH3</td>\n",
       "      <td>False</td>\n",
       "    </tr>\n",
       "    <tr>\n",
       "      <th>3</th>\n",
       "      <td>Z:\\Volumes\\Samsung_T5\\DIA-NN\\Spectral_Library\\...</td>\n",
       "      <td>621.32092</td>\n",
       "      <td>701.36890</td>\n",
       "      <td>1860.7000</td>\n",
       "      <td>0</td>\n",
       "      <td>(UniMod:1)AAAAAAAAAAGAAGGR2_121_1_2_7</td>\n",
       "      <td>0.689947</td>\n",
       "      <td>(UniMod:1)AAAAAAAAAAGAAGGR2</td>\n",
       "      <td>0</td>\n",
       "      <td>AAAAAAAAAAGAAGGR</td>\n",
       "      <td>...</td>\n",
       "      <td>2</td>\n",
       "      <td>(UniMod:1)AAAAAAAAAAGAAGGR</td>\n",
       "      <td>NaN</td>\n",
       "      <td>0</td>\n",
       "      <td>0</td>\n",
       "      <td>y</td>\n",
       "      <td>1</td>\n",
       "      <td>9</td>\n",
       "      <td>NH3</td>\n",
       "      <td>False</td>\n",
       "    </tr>\n",
       "    <tr>\n",
       "      <th>4</th>\n",
       "      <td>Z:\\Volumes\\Samsung_T5\\DIA-NN\\Spectral_Library\\...</td>\n",
       "      <td>621.32092</td>\n",
       "      <td>470.23578</td>\n",
       "      <td>1860.7000</td>\n",
       "      <td>0</td>\n",
       "      <td>(UniMod:1)AAAAAAAAAAGAAGGR2_98_1_2_6</td>\n",
       "      <td>0.681708</td>\n",
       "      <td>(UniMod:1)AAAAAAAAAAGAAGGR2</td>\n",
       "      <td>0</td>\n",
       "      <td>AAAAAAAAAAGAAGGR</td>\n",
       "      <td>...</td>\n",
       "      <td>2</td>\n",
       "      <td>(UniMod:1)AAAAAAAAAAGAAGGR</td>\n",
       "      <td>NaN</td>\n",
       "      <td>0</td>\n",
       "      <td>0</td>\n",
       "      <td>b</td>\n",
       "      <td>1</td>\n",
       "      <td>6</td>\n",
       "      <td>NH3</td>\n",
       "      <td>False</td>\n",
       "    </tr>\n",
       "    <tr>\n",
       "      <th>...</th>\n",
       "      <td>...</td>\n",
       "      <td>...</td>\n",
       "      <td>...</td>\n",
       "      <td>...</td>\n",
       "      <td>...</td>\n",
       "      <td>...</td>\n",
       "      <td>...</td>\n",
       "      <td>...</td>\n",
       "      <td>...</td>\n",
       "      <td>...</td>\n",
       "      <td>...</td>\n",
       "      <td>...</td>\n",
       "      <td>...</td>\n",
       "      <td>...</td>\n",
       "      <td>...</td>\n",
       "      <td>...</td>\n",
       "      <td>...</td>\n",
       "      <td>...</td>\n",
       "      <td>...</td>\n",
       "      <td>...</td>\n",
       "      <td>...</td>\n",
       "    </tr>\n",
       "    <tr>\n",
       "      <th>207505</th>\n",
       "      <td>Z:\\Volumes\\Samsung_T5\\DIA-NN\\Spectral_Library\\...</td>\n",
       "      <td>834.86121</td>\n",
       "      <td>277.10599</td>\n",
       "      <td>2418.8999</td>\n",
       "      <td>0</td>\n",
       "      <td>YYWGGQYTWDMAK2_98_2_2_4</td>\n",
       "      <td>1.000000</td>\n",
       "      <td>YYWGGQYTWDMAK2</td>\n",
       "      <td>0</td>\n",
       "      <td>YYWGGQYTWDMAK</td>\n",
       "      <td>...</td>\n",
       "      <td>2</td>\n",
       "      <td>YYWGGQYTWDMAK</td>\n",
       "      <td>P02675</td>\n",
       "      <td>0</td>\n",
       "      <td>0</td>\n",
       "      <td>b</td>\n",
       "      <td>2</td>\n",
       "      <td>4</td>\n",
       "      <td>NH3</td>\n",
       "      <td>False</td>\n",
       "    </tr>\n",
       "    <tr>\n",
       "      <th>207506</th>\n",
       "      <td>Z:\\Volumes\\Samsung_T5\\DIA-NN\\Spectral_Library\\...</td>\n",
       "      <td>834.86121</td>\n",
       "      <td>1156.50920</td>\n",
       "      <td>2418.8999</td>\n",
       "      <td>0</td>\n",
       "      <td>YYWGGQYTWDMAK2_121_1_2_3</td>\n",
       "      <td>0.935732</td>\n",
       "      <td>YYWGGQYTWDMAK2</td>\n",
       "      <td>0</td>\n",
       "      <td>YYWGGQYTWDMAK</td>\n",
       "      <td>...</td>\n",
       "      <td>2</td>\n",
       "      <td>YYWGGQYTWDMAK</td>\n",
       "      <td>P02675</td>\n",
       "      <td>0</td>\n",
       "      <td>0</td>\n",
       "      <td>y</td>\n",
       "      <td>1</td>\n",
       "      <td>10</td>\n",
       "      <td>NH3</td>\n",
       "      <td>False</td>\n",
       "    </tr>\n",
       "    <tr>\n",
       "      <th>207507</th>\n",
       "      <td>Z:\\Volumes\\Samsung_T5\\DIA-NN\\Spectral_Library\\...</td>\n",
       "      <td>834.86121</td>\n",
       "      <td>751.34436</td>\n",
       "      <td>2418.8999</td>\n",
       "      <td>0</td>\n",
       "      <td>YYWGGQYTWDMAK2_121_1_2_7</td>\n",
       "      <td>0.479098</td>\n",
       "      <td>YYWGGQYTWDMAK2</td>\n",
       "      <td>0</td>\n",
       "      <td>YYWGGQYTWDMAK</td>\n",
       "      <td>...</td>\n",
       "      <td>2</td>\n",
       "      <td>YYWGGQYTWDMAK</td>\n",
       "      <td>P02675</td>\n",
       "      <td>0</td>\n",
       "      <td>0</td>\n",
       "      <td>y</td>\n",
       "      <td>1</td>\n",
       "      <td>6</td>\n",
       "      <td>NH3</td>\n",
       "      <td>False</td>\n",
       "    </tr>\n",
       "    <tr>\n",
       "      <th>207508</th>\n",
       "      <td>Z:\\Volumes\\Samsung_T5\\DIA-NN\\Spectral_Library\\...</td>\n",
       "      <td>834.86121</td>\n",
       "      <td>1342.58850</td>\n",
       "      <td>2418.8999</td>\n",
       "      <td>0</td>\n",
       "      <td>YYWGGQYTWDMAK2_121_1_2_2</td>\n",
       "      <td>0.409878</td>\n",
       "      <td>YYWGGQYTWDMAK2</td>\n",
       "      <td>0</td>\n",
       "      <td>YYWGGQYTWDMAK</td>\n",
       "      <td>...</td>\n",
       "      <td>2</td>\n",
       "      <td>YYWGGQYTWDMAK</td>\n",
       "      <td>P02675</td>\n",
       "      <td>0</td>\n",
       "      <td>0</td>\n",
       "      <td>y</td>\n",
       "      <td>1</td>\n",
       "      <td>11</td>\n",
       "      <td>NH3</td>\n",
       "      <td>False</td>\n",
       "    </tr>\n",
       "    <tr>\n",
       "      <th>207509</th>\n",
       "      <td>Z:\\Volumes\\Samsung_T5\\DIA-NN\\Spectral_Library\\...</td>\n",
       "      <td>834.86121</td>\n",
       "      <td>914.40765</td>\n",
       "      <td>2418.8999</td>\n",
       "      <td>0</td>\n",
       "      <td>YYWGGQYTWDMAK2_121_1_2_6</td>\n",
       "      <td>0.393146</td>\n",
       "      <td>YYWGGQYTWDMAK2</td>\n",
       "      <td>0</td>\n",
       "      <td>YYWGGQYTWDMAK</td>\n",
       "      <td>...</td>\n",
       "      <td>2</td>\n",
       "      <td>YYWGGQYTWDMAK</td>\n",
       "      <td>P02675</td>\n",
       "      <td>0</td>\n",
       "      <td>0</td>\n",
       "      <td>y</td>\n",
       "      <td>1</td>\n",
       "      <td>7</td>\n",
       "      <td>NH3</td>\n",
       "      <td>False</td>\n",
       "    </tr>\n",
       "  </tbody>\n",
       "</table>\n",
       "<p>207510 rows × 29 columns</p>\n",
       "</div>"
      ],
      "text/plain": [
       "                                                 FileName  PrecursorMz  \\\n",
       "0       Z:\\Volumes\\Samsung_T5\\DIA-NN\\Spectral_Library\\...    621.32092   \n",
       "1       Z:\\Volumes\\Samsung_T5\\DIA-NN\\Spectral_Library\\...    621.32092   \n",
       "2       Z:\\Volumes\\Samsung_T5\\DIA-NN\\Spectral_Library\\...    621.32092   \n",
       "3       Z:\\Volumes\\Samsung_T5\\DIA-NN\\Spectral_Library\\...    621.32092   \n",
       "4       Z:\\Volumes\\Samsung_T5\\DIA-NN\\Spectral_Library\\...    621.32092   \n",
       "...                                                   ...          ...   \n",
       "207505  Z:\\Volumes\\Samsung_T5\\DIA-NN\\Spectral_Library\\...    834.86121   \n",
       "207506  Z:\\Volumes\\Samsung_T5\\DIA-NN\\Spectral_Library\\...    834.86121   \n",
       "207507  Z:\\Volumes\\Samsung_T5\\DIA-NN\\Spectral_Library\\...    834.86121   \n",
       "207508  Z:\\Volumes\\Samsung_T5\\DIA-NN\\Spectral_Library\\...    834.86121   \n",
       "207509  Z:\\Volumes\\Samsung_T5\\DIA-NN\\Spectral_Library\\...    834.86121   \n",
       "\n",
       "         ProductMz  Tr_recalibrated  IonMobility  \\\n",
       "0        328.16156        1860.7000            0   \n",
       "1        257.12442        1860.7000            0   \n",
       "2        399.19867        1860.7000            0   \n",
       "3        701.36890        1860.7000            0   \n",
       "4        470.23578        1860.7000            0   \n",
       "...            ...              ...          ...   \n",
       "207505   277.10599        2418.8999            0   \n",
       "207506  1156.50920        2418.8999            0   \n",
       "207507   751.34436        2418.8999            0   \n",
       "207508  1342.58850        2418.8999            0   \n",
       "207509   914.40765        2418.8999            0   \n",
       "\n",
       "                              transition_name  LibraryIntensity  \\\n",
       "0        (UniMod:1)AAAAAAAAAAGAAGGR2_98_1_2_4          1.000000   \n",
       "1        (UniMod:1)AAAAAAAAAAGAAGGR2_98_1_2_3          0.964495   \n",
       "2        (UniMod:1)AAAAAAAAAAGAAGGR2_98_1_2_5          0.917744   \n",
       "3       (UniMod:1)AAAAAAAAAAGAAGGR2_121_1_2_7          0.689947   \n",
       "4        (UniMod:1)AAAAAAAAAAGAAGGR2_98_1_2_6          0.681708   \n",
       "...                                       ...               ...   \n",
       "207505                YYWGGQYTWDMAK2_98_2_2_4          1.000000   \n",
       "207506               YYWGGQYTWDMAK2_121_1_2_3          0.935732   \n",
       "207507               YYWGGQYTWDMAK2_121_1_2_7          0.479098   \n",
       "207508               YYWGGQYTWDMAK2_121_1_2_2          0.409878   \n",
       "207509               YYWGGQYTWDMAK2_121_1_2_6          0.393146   \n",
       "\n",
       "                transition_group_id  decoy   PeptideSequence  ...  \\\n",
       "0       (UniMod:1)AAAAAAAAAAGAAGGR2      0  AAAAAAAAAAGAAGGR  ...   \n",
       "1       (UniMod:1)AAAAAAAAAAGAAGGR2      0  AAAAAAAAAAGAAGGR  ...   \n",
       "2       (UniMod:1)AAAAAAAAAAGAAGGR2      0  AAAAAAAAAAGAAGGR  ...   \n",
       "3       (UniMod:1)AAAAAAAAAAGAAGGR2      0  AAAAAAAAAAGAAGGR  ...   \n",
       "4       (UniMod:1)AAAAAAAAAAGAAGGR2      0  AAAAAAAAAAGAAGGR  ...   \n",
       "...                             ...    ...               ...  ...   \n",
       "207505               YYWGGQYTWDMAK2      0     YYWGGQYTWDMAK  ...   \n",
       "207506               YYWGGQYTWDMAK2      0     YYWGGQYTWDMAK  ...   \n",
       "207507               YYWGGQYTWDMAK2      0     YYWGGQYTWDMAK  ...   \n",
       "207508               YYWGGQYTWDMAK2      0     YYWGGQYTWDMAK  ...   \n",
       "207509               YYWGGQYTWDMAK2      0     YYWGGQYTWDMAK  ...   \n",
       "\n",
       "        PrecursorCharge           PeptideGroupLabel  UniprotID  NTerm CTerm  \\\n",
       "0                     2  (UniMod:1)AAAAAAAAAAGAAGGR        NaN      0     0   \n",
       "1                     2  (UniMod:1)AAAAAAAAAAGAAGGR        NaN      0     0   \n",
       "2                     2  (UniMod:1)AAAAAAAAAAGAAGGR        NaN      0     0   \n",
       "3                     2  (UniMod:1)AAAAAAAAAAGAAGGR        NaN      0     0   \n",
       "4                     2  (UniMod:1)AAAAAAAAAAGAAGGR        NaN      0     0   \n",
       "...                 ...                         ...        ...    ...   ...   \n",
       "207505                2               YYWGGQYTWDMAK     P02675      0     0   \n",
       "207506                2               YYWGGQYTWDMAK     P02675      0     0   \n",
       "207507                2               YYWGGQYTWDMAK     P02675      0     0   \n",
       "207508                2               YYWGGQYTWDMAK     P02675      0     0   \n",
       "207509                2               YYWGGQYTWDMAK     P02675      0     0   \n",
       "\n",
       "       FragmentType FragmentCharge FragmentSeriesNumber FragmentLossType  \\\n",
       "0                 b              1                    4              NH3   \n",
       "1                 b              1                    3              NH3   \n",
       "2                 b              1                    5              NH3   \n",
       "3                 y              1                    9              NH3   \n",
       "4                 b              1                    6              NH3   \n",
       "...             ...            ...                  ...              ...   \n",
       "207505            b              2                    4              NH3   \n",
       "207506            y              1                   10              NH3   \n",
       "207507            y              1                    6              NH3   \n",
       "207508            y              1                   11              NH3   \n",
       "207509            y              1                    7              NH3   \n",
       "\n",
       "        ExcludeFromAssay  \n",
       "0                  False  \n",
       "1                  False  \n",
       "2                  False  \n",
       "3                  False  \n",
       "4                  False  \n",
       "...                  ...  \n",
       "207505             False  \n",
       "207506             False  \n",
       "207507             False  \n",
       "207508             False  \n",
       "207509             False  \n",
       "\n",
       "[207510 rows x 29 columns]"
      ]
     },
     "execution_count": 2,
     "metadata": {},
     "output_type": "execute_result"
    }
   ],
   "source": [
    "df = pd.read_table(\"/Volumes/Samsung_T5/Spectral_Library/Colon_049134\")\n",
    "df"
   ]
  },
  {
   "cell_type": "code",
   "execution_count": 4,
   "metadata": {},
   "outputs": [
    {
     "data": {
      "text/plain": [
       "Index(['FileName', 'PrecursorMz', 'ProductMz', 'Tr_recalibrated',\n",
       "       'IonMobility', 'transition_name', 'LibraryIntensity',\n",
       "       'transition_group_id', 'decoy', 'PeptideSequence', 'Proteotypic',\n",
       "       'QValue', 'PGQValue', 'Ms1ProfileCorr', 'ProteinGroup', 'ProteinName',\n",
       "       'Genes', 'FullUniModPeptideName', 'ModifiedPeptide', 'PrecursorCharge',\n",
       "       'PeptideGroupLabel', 'UniprotID', 'NTerm', 'CTerm', 'FragmentType',\n",
       "       'FragmentCharge', 'FragmentSeriesNumber', 'FragmentLossType',\n",
       "       'ExcludeFromAssay'],\n",
       "      dtype='object')"
      ]
     },
     "execution_count": 4,
     "metadata": {},
     "output_type": "execute_result"
    }
   ],
   "source": [
    "df.columns"
   ]
  },
  {
   "cell_type": "code",
   "execution_count": 11,
   "metadata": {},
   "outputs": [],
   "source": [
    "def process_data(data):\n",
    "    data = data[data['QValue'] < 0.05]\n",
    "    data = data[data['ProteinGroup'].notnull()]\n",
    "    data = data[~data['ProteinGroup'].str.startswith('rev')]\n",
    "    data['index'] = data['ProteinGroup'] + '_' + data['PeptideSequence']\n",
    "    processed_data = data.groupby('index')['LibraryIntensity'].agg(['sum', 'count'])\n",
    "    return processed_data"
   ]
  },
  {
   "cell_type": "code",
   "execution_count": 12,
   "metadata": {},
   "outputs": [
    {
     "data": {
      "text/html": [
       "<div>\n",
       "<style scoped>\n",
       "    .dataframe tbody tr th:only-of-type {\n",
       "        vertical-align: middle;\n",
       "    }\n",
       "\n",
       "    .dataframe tbody tr th {\n",
       "        vertical-align: top;\n",
       "    }\n",
       "\n",
       "    .dataframe thead th {\n",
       "        text-align: right;\n",
       "    }\n",
       "</style>\n",
       "<table border=\"1\" class=\"dataframe\">\n",
       "  <thead>\n",
       "    <tr style=\"text-align: right;\">\n",
       "      <th></th>\n",
       "      <th>sum</th>\n",
       "      <th>count</th>\n",
       "    </tr>\n",
       "    <tr>\n",
       "      <th>index</th>\n",
       "      <th></th>\n",
       "      <th></th>\n",
       "    </tr>\n",
       "  </thead>\n",
       "  <tbody>\n",
       "    <tr>\n",
       "      <th>A0A024RBG1;Q9NZJ9_SEQEDEVLLVSSSR</th>\n",
       "      <td>4.176150</td>\n",
       "      <td>6</td>\n",
       "    </tr>\n",
       "    <tr>\n",
       "      <th>A0A024RBG1;Q9NZJ9_YPDQWIVPGGGMEPEEEPGGAAVR</th>\n",
       "      <td>1.720320</td>\n",
       "      <td>6</td>\n",
       "    </tr>\n",
       "    <tr>\n",
       "      <th>A0A075B6H7;A0A0C4DH55;P01624_LLIYGASTR</th>\n",
       "      <td>2.423840</td>\n",
       "      <td>4</td>\n",
       "    </tr>\n",
       "    <tr>\n",
       "      <th>A0A075B6H9_FSGSSSGAER</th>\n",
       "      <td>2.392946</td>\n",
       "      <td>6</td>\n",
       "    </tr>\n",
       "    <tr>\n",
       "      <th>A0A075B6I9;P04211_FSGSLLGGK</th>\n",
       "      <td>3.578083</td>\n",
       "      <td>6</td>\n",
       "    </tr>\n",
       "    <tr>\n",
       "      <th>...</th>\n",
       "      <td>...</td>\n",
       "      <td>...</td>\n",
       "    </tr>\n",
       "    <tr>\n",
       "      <th>Q9Y6Y8_LEPMIVPDLDLK</th>\n",
       "      <td>2.694449</td>\n",
       "      <td>5</td>\n",
       "    </tr>\n",
       "    <tr>\n",
       "      <th>Q9Y6Y8_SAWQTLNEFAR</th>\n",
       "      <td>3.124483</td>\n",
       "      <td>6</td>\n",
       "    </tr>\n",
       "    <tr>\n",
       "      <th>Q9Y6Y8_VEFLPVHWHSSLGGDATGVDR</th>\n",
       "      <td>6.198215</td>\n",
       "      <td>11</td>\n",
       "    </tr>\n",
       "    <tr>\n",
       "      <th>Q9Y6Y8_VIVQFQPSSVPDEWGTTQDGQTRPR</th>\n",
       "      <td>1.910019</td>\n",
       "      <td>6</td>\n",
       "    </tr>\n",
       "    <tr>\n",
       "      <th>Q9Y6Y8_YDVYLYDR</th>\n",
       "      <td>3.143890</td>\n",
       "      <td>5</td>\n",
       "    </tr>\n",
       "  </tbody>\n",
       "</table>\n",
       "<p>26421 rows × 2 columns</p>\n",
       "</div>"
      ],
      "text/plain": [
       "                                                 sum  count\n",
       "index                                                      \n",
       "A0A024RBG1;Q9NZJ9_SEQEDEVLLVSSSR            4.176150      6\n",
       "A0A024RBG1;Q9NZJ9_YPDQWIVPGGGMEPEEEPGGAAVR  1.720320      6\n",
       "A0A075B6H7;A0A0C4DH55;P01624_LLIYGASTR      2.423840      4\n",
       "A0A075B6H9_FSGSSSGAER                       2.392946      6\n",
       "A0A075B6I9;P04211_FSGSLLGGK                 3.578083      6\n",
       "...                                              ...    ...\n",
       "Q9Y6Y8_LEPMIVPDLDLK                         2.694449      5\n",
       "Q9Y6Y8_SAWQTLNEFAR                          3.124483      6\n",
       "Q9Y6Y8_VEFLPVHWHSSLGGDATGVDR                6.198215     11\n",
       "Q9Y6Y8_VIVQFQPSSVPDEWGTTQDGQTRPR            1.910019      6\n",
       "Q9Y6Y8_YDVYLYDR                             3.143890      5\n",
       "\n",
       "[26421 rows x 2 columns]"
      ]
     },
     "execution_count": 12,
     "metadata": {},
     "output_type": "execute_result"
    }
   ],
   "source": [
    "df = process_data(df)\n",
    "df"
   ]
  },
  {
   "cell_type": "code",
   "execution_count": 15,
   "metadata": {},
   "outputs": [
    {
     "data": {
      "text/html": [
       "<div>\n",
       "<style scoped>\n",
       "    .dataframe tbody tr th:only-of-type {\n",
       "        vertical-align: middle;\n",
       "    }\n",
       "\n",
       "    .dataframe tbody tr th {\n",
       "        vertical-align: top;\n",
       "    }\n",
       "\n",
       "    .dataframe thead th {\n",
       "        text-align: right;\n",
       "    }\n",
       "</style>\n",
       "<table border=\"1\" class=\"dataframe\">\n",
       "  <thead>\n",
       "    <tr style=\"text-align: right;\">\n",
       "      <th></th>\n",
       "      <th>FileName</th>\n",
       "      <th>PrecursorMz</th>\n",
       "      <th>ProductMz</th>\n",
       "      <th>Tr_recalibrated</th>\n",
       "      <th>IonMobility</th>\n",
       "      <th>transition_name</th>\n",
       "      <th>LibraryIntensity</th>\n",
       "      <th>transition_group_id</th>\n",
       "      <th>decoy</th>\n",
       "      <th>PeptideSequence</th>\n",
       "      <th>...</th>\n",
       "      <th>PrecursorCharge</th>\n",
       "      <th>PeptideGroupLabel</th>\n",
       "      <th>UniprotID</th>\n",
       "      <th>NTerm</th>\n",
       "      <th>CTerm</th>\n",
       "      <th>FragmentType</th>\n",
       "      <th>FragmentCharge</th>\n",
       "      <th>FragmentSeriesNumber</th>\n",
       "      <th>FragmentLossType</th>\n",
       "      <th>ExcludeFromAssay</th>\n",
       "    </tr>\n",
       "  </thead>\n",
       "  <tbody>\n",
       "    <tr>\n",
       "      <th>0</th>\n",
       "      <td>Z:\\Volumes\\Samsung_T5\\DIA-NN\\Spectral_Library\\...</td>\n",
       "      <td>621.32092</td>\n",
       "      <td>328.16156</td>\n",
       "      <td>1863.7</td>\n",
       "      <td>0</td>\n",
       "      <td>(UniMod:1)AAAAAAAAAAGAAGGR2_98_1_2_4</td>\n",
       "      <td>1.000000</td>\n",
       "      <td>(UniMod:1)AAAAAAAAAAGAAGGR2</td>\n",
       "      <td>0</td>\n",
       "      <td>AAAAAAAAAAGAAGGR</td>\n",
       "      <td>...</td>\n",
       "      <td>2</td>\n",
       "      <td>(UniMod:1)AAAAAAAAAAGAAGGR</td>\n",
       "      <td>NaN</td>\n",
       "      <td>0</td>\n",
       "      <td>0</td>\n",
       "      <td>b</td>\n",
       "      <td>1</td>\n",
       "      <td>4</td>\n",
       "      <td>NH3</td>\n",
       "      <td>False</td>\n",
       "    </tr>\n",
       "    <tr>\n",
       "      <th>1</th>\n",
       "      <td>Z:\\Volumes\\Samsung_T5\\DIA-NN\\Spectral_Library\\...</td>\n",
       "      <td>621.32092</td>\n",
       "      <td>399.19867</td>\n",
       "      <td>1863.7</td>\n",
       "      <td>0</td>\n",
       "      <td>(UniMod:1)AAAAAAAAAAGAAGGR2_98_1_2_5</td>\n",
       "      <td>0.886050</td>\n",
       "      <td>(UniMod:1)AAAAAAAAAAGAAGGR2</td>\n",
       "      <td>0</td>\n",
       "      <td>AAAAAAAAAAGAAGGR</td>\n",
       "      <td>...</td>\n",
       "      <td>2</td>\n",
       "      <td>(UniMod:1)AAAAAAAAAAGAAGGR</td>\n",
       "      <td>NaN</td>\n",
       "      <td>0</td>\n",
       "      <td>0</td>\n",
       "      <td>b</td>\n",
       "      <td>1</td>\n",
       "      <td>5</td>\n",
       "      <td>NH3</td>\n",
       "      <td>False</td>\n",
       "    </tr>\n",
       "    <tr>\n",
       "      <th>2</th>\n",
       "      <td>Z:\\Volumes\\Samsung_T5\\DIA-NN\\Spectral_Library\\...</td>\n",
       "      <td>621.32092</td>\n",
       "      <td>257.12442</td>\n",
       "      <td>1863.7</td>\n",
       "      <td>0</td>\n",
       "      <td>(UniMod:1)AAAAAAAAAAGAAGGR2_98_1_2_3</td>\n",
       "      <td>0.860340</td>\n",
       "      <td>(UniMod:1)AAAAAAAAAAGAAGGR2</td>\n",
       "      <td>0</td>\n",
       "      <td>AAAAAAAAAAGAAGGR</td>\n",
       "      <td>...</td>\n",
       "      <td>2</td>\n",
       "      <td>(UniMod:1)AAAAAAAAAAGAAGGR</td>\n",
       "      <td>NaN</td>\n",
       "      <td>0</td>\n",
       "      <td>0</td>\n",
       "      <td>b</td>\n",
       "      <td>1</td>\n",
       "      <td>3</td>\n",
       "      <td>NH3</td>\n",
       "      <td>False</td>\n",
       "    </tr>\n",
       "    <tr>\n",
       "      <th>3</th>\n",
       "      <td>Z:\\Volumes\\Samsung_T5\\DIA-NN\\Spectral_Library\\...</td>\n",
       "      <td>621.32092</td>\n",
       "      <td>772.40601</td>\n",
       "      <td>1863.7</td>\n",
       "      <td>0</td>\n",
       "      <td>(UniMod:1)AAAAAAAAAAGAAGGR2_121_1_2_6</td>\n",
       "      <td>0.590580</td>\n",
       "      <td>(UniMod:1)AAAAAAAAAAGAAGGR2</td>\n",
       "      <td>0</td>\n",
       "      <td>AAAAAAAAAAGAAGGR</td>\n",
       "      <td>...</td>\n",
       "      <td>2</td>\n",
       "      <td>(UniMod:1)AAAAAAAAAAGAAGGR</td>\n",
       "      <td>NaN</td>\n",
       "      <td>0</td>\n",
       "      <td>0</td>\n",
       "      <td>y</td>\n",
       "      <td>1</td>\n",
       "      <td>10</td>\n",
       "      <td>NH3</td>\n",
       "      <td>False</td>\n",
       "    </tr>\n",
       "    <tr>\n",
       "      <th>4</th>\n",
       "      <td>Z:\\Volumes\\Samsung_T5\\DIA-NN\\Spectral_Library\\...</td>\n",
       "      <td>621.32092</td>\n",
       "      <td>470.23578</td>\n",
       "      <td>1863.7</td>\n",
       "      <td>0</td>\n",
       "      <td>(UniMod:1)AAAAAAAAAAGAAGGR2_98_1_2_6</td>\n",
       "      <td>0.586920</td>\n",
       "      <td>(UniMod:1)AAAAAAAAAAGAAGGR2</td>\n",
       "      <td>0</td>\n",
       "      <td>AAAAAAAAAAGAAGGR</td>\n",
       "      <td>...</td>\n",
       "      <td>2</td>\n",
       "      <td>(UniMod:1)AAAAAAAAAAGAAGGR</td>\n",
       "      <td>NaN</td>\n",
       "      <td>0</td>\n",
       "      <td>0</td>\n",
       "      <td>b</td>\n",
       "      <td>1</td>\n",
       "      <td>6</td>\n",
       "      <td>NH3</td>\n",
       "      <td>False</td>\n",
       "    </tr>\n",
       "    <tr>\n",
       "      <th>...</th>\n",
       "      <td>...</td>\n",
       "      <td>...</td>\n",
       "      <td>...</td>\n",
       "      <td>...</td>\n",
       "      <td>...</td>\n",
       "      <td>...</td>\n",
       "      <td>...</td>\n",
       "      <td>...</td>\n",
       "      <td>...</td>\n",
       "      <td>...</td>\n",
       "      <td>...</td>\n",
       "      <td>...</td>\n",
       "      <td>...</td>\n",
       "      <td>...</td>\n",
       "      <td>...</td>\n",
       "      <td>...</td>\n",
       "      <td>...</td>\n",
       "      <td>...</td>\n",
       "      <td>...</td>\n",
       "      <td>...</td>\n",
       "      <td>...</td>\n",
       "    </tr>\n",
       "    <tr>\n",
       "      <th>193571</th>\n",
       "      <td>Z:\\Volumes\\Samsung_T5\\DIA-NN\\Spectral_Library\\...</td>\n",
       "      <td>737.84113</td>\n",
       "      <td>356.17291</td>\n",
       "      <td>1712.4</td>\n",
       "      <td>0</td>\n",
       "      <td>YYYWAVNPQDR2_121_2_2_5</td>\n",
       "      <td>1.000000</td>\n",
       "      <td>YYYWAVNPQDR2</td>\n",
       "      <td>0</td>\n",
       "      <td>YYYWAVNPQDR</td>\n",
       "      <td>...</td>\n",
       "      <td>2</td>\n",
       "      <td>YYYWAVNPQDR</td>\n",
       "      <td>P50851</td>\n",
       "      <td>0</td>\n",
       "      <td>0</td>\n",
       "      <td>y</td>\n",
       "      <td>2</td>\n",
       "      <td>6</td>\n",
       "      <td>NH3</td>\n",
       "      <td>False</td>\n",
       "    </tr>\n",
       "    <tr>\n",
       "      <th>193572</th>\n",
       "      <td>Z:\\Volumes\\Samsung_T5\\DIA-NN\\Spectral_Library\\...</td>\n",
       "      <td>737.84113</td>\n",
       "      <td>728.36859</td>\n",
       "      <td>1712.4</td>\n",
       "      <td>0</td>\n",
       "      <td>YYYWAVNPQDR2_121_1_2_5</td>\n",
       "      <td>0.533244</td>\n",
       "      <td>YYYWAVNPQDR2</td>\n",
       "      <td>0</td>\n",
       "      <td>YYYWAVNPQDR</td>\n",
       "      <td>...</td>\n",
       "      <td>2</td>\n",
       "      <td>YYYWAVNPQDR</td>\n",
       "      <td>P50851</td>\n",
       "      <td>0</td>\n",
       "      <td>0</td>\n",
       "      <td>y</td>\n",
       "      <td>1</td>\n",
       "      <td>6</td>\n",
       "      <td>NH3</td>\n",
       "      <td>False</td>\n",
       "    </tr>\n",
       "    <tr>\n",
       "      <th>193573</th>\n",
       "      <td>Z:\\Volumes\\Samsung_T5\\DIA-NN\\Spectral_Library\\...</td>\n",
       "      <td>737.84113</td>\n",
       "      <td>799.40570</td>\n",
       "      <td>1712.4</td>\n",
       "      <td>0</td>\n",
       "      <td>YYYWAVNPQDR2_121_1_2_4</td>\n",
       "      <td>0.494529</td>\n",
       "      <td>YYYWAVNPQDR2</td>\n",
       "      <td>0</td>\n",
       "      <td>YYYWAVNPQDR</td>\n",
       "      <td>...</td>\n",
       "      <td>2</td>\n",
       "      <td>YYYWAVNPQDR</td>\n",
       "      <td>P50851</td>\n",
       "      <td>0</td>\n",
       "      <td>0</td>\n",
       "      <td>y</td>\n",
       "      <td>1</td>\n",
       "      <td>7</td>\n",
       "      <td>NH3</td>\n",
       "      <td>False</td>\n",
       "    </tr>\n",
       "    <tr>\n",
       "      <th>193574</th>\n",
       "      <td>Z:\\Volumes\\Samsung_T5\\DIA-NN\\Spectral_Library\\...</td>\n",
       "      <td>737.84113</td>\n",
       "      <td>985.48499</td>\n",
       "      <td>1712.4</td>\n",
       "      <td>0</td>\n",
       "      <td>YYYWAVNPQDR2_121_1_2_3</td>\n",
       "      <td>0.377804</td>\n",
       "      <td>YYYWAVNPQDR2</td>\n",
       "      <td>0</td>\n",
       "      <td>YYYWAVNPQDR</td>\n",
       "      <td>...</td>\n",
       "      <td>2</td>\n",
       "      <td>YYYWAVNPQDR</td>\n",
       "      <td>P50851</td>\n",
       "      <td>0</td>\n",
       "      <td>0</td>\n",
       "      <td>y</td>\n",
       "      <td>1</td>\n",
       "      <td>8</td>\n",
       "      <td>NH3</td>\n",
       "      <td>False</td>\n",
       "    </tr>\n",
       "    <tr>\n",
       "      <th>193575</th>\n",
       "      <td>Z:\\Volumes\\Samsung_T5\\DIA-NN\\Spectral_Library\\...</td>\n",
       "      <td>737.84113</td>\n",
       "      <td>258.13226</td>\n",
       "      <td>1712.4</td>\n",
       "      <td>0</td>\n",
       "      <td>YYYWAVNPQDR2_121_2_2_7</td>\n",
       "      <td>0.326349</td>\n",
       "      <td>YYYWAVNPQDR2</td>\n",
       "      <td>0</td>\n",
       "      <td>YYYWAVNPQDR</td>\n",
       "      <td>...</td>\n",
       "      <td>2</td>\n",
       "      <td>YYYWAVNPQDR</td>\n",
       "      <td>P50851</td>\n",
       "      <td>0</td>\n",
       "      <td>0</td>\n",
       "      <td>y</td>\n",
       "      <td>2</td>\n",
       "      <td>4</td>\n",
       "      <td>NH3</td>\n",
       "      <td>False</td>\n",
       "    </tr>\n",
       "  </tbody>\n",
       "</table>\n",
       "<p>193576 rows × 29 columns</p>\n",
       "</div>"
      ],
      "text/plain": [
       "                                                 FileName  PrecursorMz  \\\n",
       "0       Z:\\Volumes\\Samsung_T5\\DIA-NN\\Spectral_Library\\...    621.32092   \n",
       "1       Z:\\Volumes\\Samsung_T5\\DIA-NN\\Spectral_Library\\...    621.32092   \n",
       "2       Z:\\Volumes\\Samsung_T5\\DIA-NN\\Spectral_Library\\...    621.32092   \n",
       "3       Z:\\Volumes\\Samsung_T5\\DIA-NN\\Spectral_Library\\...    621.32092   \n",
       "4       Z:\\Volumes\\Samsung_T5\\DIA-NN\\Spectral_Library\\...    621.32092   \n",
       "...                                                   ...          ...   \n",
       "193571  Z:\\Volumes\\Samsung_T5\\DIA-NN\\Spectral_Library\\...    737.84113   \n",
       "193572  Z:\\Volumes\\Samsung_T5\\DIA-NN\\Spectral_Library\\...    737.84113   \n",
       "193573  Z:\\Volumes\\Samsung_T5\\DIA-NN\\Spectral_Library\\...    737.84113   \n",
       "193574  Z:\\Volumes\\Samsung_T5\\DIA-NN\\Spectral_Library\\...    737.84113   \n",
       "193575  Z:\\Volumes\\Samsung_T5\\DIA-NN\\Spectral_Library\\...    737.84113   \n",
       "\n",
       "        ProductMz  Tr_recalibrated  IonMobility  \\\n",
       "0       328.16156           1863.7            0   \n",
       "1       399.19867           1863.7            0   \n",
       "2       257.12442           1863.7            0   \n",
       "3       772.40601           1863.7            0   \n",
       "4       470.23578           1863.7            0   \n",
       "...           ...              ...          ...   \n",
       "193571  356.17291           1712.4            0   \n",
       "193572  728.36859           1712.4            0   \n",
       "193573  799.40570           1712.4            0   \n",
       "193574  985.48499           1712.4            0   \n",
       "193575  258.13226           1712.4            0   \n",
       "\n",
       "                              transition_name  LibraryIntensity  \\\n",
       "0        (UniMod:1)AAAAAAAAAAGAAGGR2_98_1_2_4          1.000000   \n",
       "1        (UniMod:1)AAAAAAAAAAGAAGGR2_98_1_2_5          0.886050   \n",
       "2        (UniMod:1)AAAAAAAAAAGAAGGR2_98_1_2_3          0.860340   \n",
       "3       (UniMod:1)AAAAAAAAAAGAAGGR2_121_1_2_6          0.590580   \n",
       "4        (UniMod:1)AAAAAAAAAAGAAGGR2_98_1_2_6          0.586920   \n",
       "...                                       ...               ...   \n",
       "193571                 YYYWAVNPQDR2_121_2_2_5          1.000000   \n",
       "193572                 YYYWAVNPQDR2_121_1_2_5          0.533244   \n",
       "193573                 YYYWAVNPQDR2_121_1_2_4          0.494529   \n",
       "193574                 YYYWAVNPQDR2_121_1_2_3          0.377804   \n",
       "193575                 YYYWAVNPQDR2_121_2_2_7          0.326349   \n",
       "\n",
       "                transition_group_id  decoy   PeptideSequence  ...  \\\n",
       "0       (UniMod:1)AAAAAAAAAAGAAGGR2      0  AAAAAAAAAAGAAGGR  ...   \n",
       "1       (UniMod:1)AAAAAAAAAAGAAGGR2      0  AAAAAAAAAAGAAGGR  ...   \n",
       "2       (UniMod:1)AAAAAAAAAAGAAGGR2      0  AAAAAAAAAAGAAGGR  ...   \n",
       "3       (UniMod:1)AAAAAAAAAAGAAGGR2      0  AAAAAAAAAAGAAGGR  ...   \n",
       "4       (UniMod:1)AAAAAAAAAAGAAGGR2      0  AAAAAAAAAAGAAGGR  ...   \n",
       "...                             ...    ...               ...  ...   \n",
       "193571                 YYYWAVNPQDR2      0       YYYWAVNPQDR  ...   \n",
       "193572                 YYYWAVNPQDR2      0       YYYWAVNPQDR  ...   \n",
       "193573                 YYYWAVNPQDR2      0       YYYWAVNPQDR  ...   \n",
       "193574                 YYYWAVNPQDR2      0       YYYWAVNPQDR  ...   \n",
       "193575                 YYYWAVNPQDR2      0       YYYWAVNPQDR  ...   \n",
       "\n",
       "        PrecursorCharge           PeptideGroupLabel  UniprotID  NTerm CTerm  \\\n",
       "0                     2  (UniMod:1)AAAAAAAAAAGAAGGR        NaN      0     0   \n",
       "1                     2  (UniMod:1)AAAAAAAAAAGAAGGR        NaN      0     0   \n",
       "2                     2  (UniMod:1)AAAAAAAAAAGAAGGR        NaN      0     0   \n",
       "3                     2  (UniMod:1)AAAAAAAAAAGAAGGR        NaN      0     0   \n",
       "4                     2  (UniMod:1)AAAAAAAAAAGAAGGR        NaN      0     0   \n",
       "...                 ...                         ...        ...    ...   ...   \n",
       "193571                2                 YYYWAVNPQDR     P50851      0     0   \n",
       "193572                2                 YYYWAVNPQDR     P50851      0     0   \n",
       "193573                2                 YYYWAVNPQDR     P50851      0     0   \n",
       "193574                2                 YYYWAVNPQDR     P50851      0     0   \n",
       "193575                2                 YYYWAVNPQDR     P50851      0     0   \n",
       "\n",
       "       FragmentType FragmentCharge FragmentSeriesNumber FragmentLossType  \\\n",
       "0                 b              1                    4              NH3   \n",
       "1                 b              1                    5              NH3   \n",
       "2                 b              1                    3              NH3   \n",
       "3                 y              1                   10              NH3   \n",
       "4                 b              1                    6              NH3   \n",
       "...             ...            ...                  ...              ...   \n",
       "193571            y              2                    6              NH3   \n",
       "193572            y              1                    6              NH3   \n",
       "193573            y              1                    7              NH3   \n",
       "193574            y              1                    8              NH3   \n",
       "193575            y              2                    4              NH3   \n",
       "\n",
       "        ExcludeFromAssay  \n",
       "0                  False  \n",
       "1                  False  \n",
       "2                  False  \n",
       "3                  False  \n",
       "4                  False  \n",
       "...                  ...  \n",
       "193571             False  \n",
       "193572             False  \n",
       "193573             False  \n",
       "193574             False  \n",
       "193575             False  \n",
       "\n",
       "[193576 rows x 29 columns]"
      ]
     },
     "execution_count": 15,
     "metadata": {},
     "output_type": "execute_result"
    }
   ],
   "source": [
    "df1 = pd.read_table(\"/Volumes/Samsung_T5/Spectral_Library/Colon_049136\")\n",
    "df1"
   ]
  },
  {
   "cell_type": "code",
   "execution_count": 16,
   "metadata": {},
   "outputs": [
    {
     "data": {
      "text/html": [
       "<div>\n",
       "<style scoped>\n",
       "    .dataframe tbody tr th:only-of-type {\n",
       "        vertical-align: middle;\n",
       "    }\n",
       "\n",
       "    .dataframe tbody tr th {\n",
       "        vertical-align: top;\n",
       "    }\n",
       "\n",
       "    .dataframe thead th {\n",
       "        text-align: right;\n",
       "    }\n",
       "</style>\n",
       "<table border=\"1\" class=\"dataframe\">\n",
       "  <thead>\n",
       "    <tr style=\"text-align: right;\">\n",
       "      <th></th>\n",
       "      <th>sum</th>\n",
       "      <th>count</th>\n",
       "    </tr>\n",
       "    <tr>\n",
       "      <th>index</th>\n",
       "      <th></th>\n",
       "      <th></th>\n",
       "    </tr>\n",
       "  </thead>\n",
       "  <tbody>\n",
       "    <tr>\n",
       "      <th>A0A075B6H9_FSGSSSGAER</th>\n",
       "      <td>2.537755</td>\n",
       "      <td>6</td>\n",
       "    </tr>\n",
       "    <tr>\n",
       "      <th>A0A075B6P5;A0A075B6S2;A0A075B6S6;A0A087WW87;A0A0A0MRZ7;A2NJV5;P01614;P01615;P06310_FSGSGSGTDFTLK</th>\n",
       "      <td>4.208455</td>\n",
       "      <td>6</td>\n",
       "    </tr>\n",
       "    <tr>\n",
       "      <th>A0A075B6P5;P01615_PGQSPQLLIYLGSNR</th>\n",
       "      <td>4.038152</td>\n",
       "      <td>6</td>\n",
       "    </tr>\n",
       "    <tr>\n",
       "      <th>A0A075B6R9;A0A0C4DH68_FSGSGAGTDFTLK</th>\n",
       "      <td>4.570913</td>\n",
       "      <td>6</td>\n",
       "    </tr>\n",
       "    <tr>\n",
       "      <th>A0A075B6S5;A0A0C4DH67;A0A0C4DH69_LLIYAASTLQSGVPSR</th>\n",
       "      <td>3.783741</td>\n",
       "      <td>6</td>\n",
       "    </tr>\n",
       "    <tr>\n",
       "      <th>...</th>\n",
       "      <td>...</td>\n",
       "      <td>...</td>\n",
       "    </tr>\n",
       "    <tr>\n",
       "      <th>Q9Y6Y0_LYIVGGSDPYGQK</th>\n",
       "      <td>2.942585</td>\n",
       "      <td>5</td>\n",
       "    </tr>\n",
       "    <tr>\n",
       "      <th>Q9Y6Y8_AAYWEEEPAEVR</th>\n",
       "      <td>3.219392</td>\n",
       "      <td>5</td>\n",
       "    </tr>\n",
       "    <tr>\n",
       "      <th>Q9Y6Y8_PGAPSVQVPSPF</th>\n",
       "      <td>3.692773</td>\n",
       "      <td>5</td>\n",
       "    </tr>\n",
       "    <tr>\n",
       "      <th>Q9Y6Y8_SAWQTLNEFAR</th>\n",
       "      <td>2.970029</td>\n",
       "      <td>6</td>\n",
       "    </tr>\n",
       "    <tr>\n",
       "      <th>Q9Y6Y8_VEFLPVHWHSSLGGDATGVDR</th>\n",
       "      <td>6.571308</td>\n",
       "      <td>11</td>\n",
       "    </tr>\n",
       "  </tbody>\n",
       "</table>\n",
       "<p>24579 rows × 2 columns</p>\n",
       "</div>"
      ],
      "text/plain": [
       "                                                         sum  count\n",
       "index                                                              \n",
       "A0A075B6H9_FSGSSSGAER                               2.537755      6\n",
       "A0A075B6P5;A0A075B6S2;A0A075B6S6;A0A087WW87;A0A...  4.208455      6\n",
       "A0A075B6P5;P01615_PGQSPQLLIYLGSNR                   4.038152      6\n",
       "A0A075B6R9;A0A0C4DH68_FSGSGAGTDFTLK                 4.570913      6\n",
       "A0A075B6S5;A0A0C4DH67;A0A0C4DH69_LLIYAASTLQSGVPSR   3.783741      6\n",
       "...                                                      ...    ...\n",
       "Q9Y6Y0_LYIVGGSDPYGQK                                2.942585      5\n",
       "Q9Y6Y8_AAYWEEEPAEVR                                 3.219392      5\n",
       "Q9Y6Y8_PGAPSVQVPSPF                                 3.692773      5\n",
       "Q9Y6Y8_SAWQTLNEFAR                                  2.970029      6\n",
       "Q9Y6Y8_VEFLPVHWHSSLGGDATGVDR                        6.571308     11\n",
       "\n",
       "[24579 rows x 2 columns]"
      ]
     },
     "execution_count": 16,
     "metadata": {},
     "output_type": "execute_result"
    }
   ],
   "source": [
    "df1 = process_data(df1)\n",
    "df1"
   ]
  },
  {
   "cell_type": "code",
   "execution_count": 17,
   "metadata": {},
   "outputs": [
    {
     "data": {
      "text/html": [
       "<div>\n",
       "<style scoped>\n",
       "    .dataframe tbody tr th:only-of-type {\n",
       "        vertical-align: middle;\n",
       "    }\n",
       "\n",
       "    .dataframe tbody tr th {\n",
       "        vertical-align: top;\n",
       "    }\n",
       "\n",
       "    .dataframe thead th {\n",
       "        text-align: right;\n",
       "    }\n",
       "</style>\n",
       "<table border=\"1\" class=\"dataframe\">\n",
       "  <thead>\n",
       "    <tr style=\"text-align: right;\">\n",
       "      <th></th>\n",
       "      <th>sum_x</th>\n",
       "      <th>count_x</th>\n",
       "      <th>sum_y</th>\n",
       "      <th>count_y</th>\n",
       "    </tr>\n",
       "    <tr>\n",
       "      <th>index</th>\n",
       "      <th></th>\n",
       "      <th></th>\n",
       "      <th></th>\n",
       "      <th></th>\n",
       "    </tr>\n",
       "  </thead>\n",
       "  <tbody>\n",
       "    <tr>\n",
       "      <th>A0A024RBG1;Q9NZJ9_SEQEDEVLLVSSSR</th>\n",
       "      <td>4.176150</td>\n",
       "      <td>6.0</td>\n",
       "      <td>NaN</td>\n",
       "      <td>NaN</td>\n",
       "    </tr>\n",
       "    <tr>\n",
       "      <th>A0A024RBG1;Q9NZJ9_YPDQWIVPGGGMEPEEEPGGAAVR</th>\n",
       "      <td>1.720320</td>\n",
       "      <td>6.0</td>\n",
       "      <td>NaN</td>\n",
       "      <td>NaN</td>\n",
       "    </tr>\n",
       "    <tr>\n",
       "      <th>A0A075B6H7;A0A0C4DH55;P01624_LLIYGASTR</th>\n",
       "      <td>2.423840</td>\n",
       "      <td>4.0</td>\n",
       "      <td>NaN</td>\n",
       "      <td>NaN</td>\n",
       "    </tr>\n",
       "    <tr>\n",
       "      <th>A0A075B6H9_FSGSSSGAER</th>\n",
       "      <td>2.392946</td>\n",
       "      <td>6.0</td>\n",
       "      <td>2.537755</td>\n",
       "      <td>6.0</td>\n",
       "    </tr>\n",
       "    <tr>\n",
       "      <th>A0A075B6I9;P04211_FSGSLLGGK</th>\n",
       "      <td>3.578083</td>\n",
       "      <td>6.0</td>\n",
       "      <td>NaN</td>\n",
       "      <td>NaN</td>\n",
       "    </tr>\n",
       "    <tr>\n",
       "      <th>...</th>\n",
       "      <td>...</td>\n",
       "      <td>...</td>\n",
       "      <td>...</td>\n",
       "      <td>...</td>\n",
       "    </tr>\n",
       "    <tr>\n",
       "      <th>Q9Y6U3_ATEVPLSWDSFNK</th>\n",
       "      <td>NaN</td>\n",
       "      <td>NaN</td>\n",
       "      <td>2.488668</td>\n",
       "      <td>5.0</td>\n",
       "    </tr>\n",
       "    <tr>\n",
       "      <th>Q9Y6U3_EPVHLLSLFK</th>\n",
       "      <td>NaN</td>\n",
       "      <td>NaN</td>\n",
       "      <td>2.588569</td>\n",
       "      <td>5.0</td>\n",
       "    </tr>\n",
       "    <tr>\n",
       "      <th>Q9Y6W3_TGPLLIELR</th>\n",
       "      <td>NaN</td>\n",
       "      <td>NaN</td>\n",
       "      <td>2.785341</td>\n",
       "      <td>5.0</td>\n",
       "    </tr>\n",
       "    <tr>\n",
       "      <th>Q9Y6Y0_LYIVGGSDPYGQK</th>\n",
       "      <td>NaN</td>\n",
       "      <td>NaN</td>\n",
       "      <td>2.942585</td>\n",
       "      <td>5.0</td>\n",
       "    </tr>\n",
       "    <tr>\n",
       "      <th>Q9Y6Y8_PGAPSVQVPSPF</th>\n",
       "      <td>NaN</td>\n",
       "      <td>NaN</td>\n",
       "      <td>3.692773</td>\n",
       "      <td>5.0</td>\n",
       "    </tr>\n",
       "  </tbody>\n",
       "</table>\n",
       "<p>32860 rows × 4 columns</p>\n",
       "</div>"
      ],
      "text/plain": [
       "                                               sum_x  count_x     sum_y  \\\n",
       "index                                                                     \n",
       "A0A024RBG1;Q9NZJ9_SEQEDEVLLVSSSR            4.176150      6.0       NaN   \n",
       "A0A024RBG1;Q9NZJ9_YPDQWIVPGGGMEPEEEPGGAAVR  1.720320      6.0       NaN   \n",
       "A0A075B6H7;A0A0C4DH55;P01624_LLIYGASTR      2.423840      4.0       NaN   \n",
       "A0A075B6H9_FSGSSSGAER                       2.392946      6.0  2.537755   \n",
       "A0A075B6I9;P04211_FSGSLLGGK                 3.578083      6.0       NaN   \n",
       "...                                              ...      ...       ...   \n",
       "Q9Y6U3_ATEVPLSWDSFNK                             NaN      NaN  2.488668   \n",
       "Q9Y6U3_EPVHLLSLFK                                NaN      NaN  2.588569   \n",
       "Q9Y6W3_TGPLLIELR                                 NaN      NaN  2.785341   \n",
       "Q9Y6Y0_LYIVGGSDPYGQK                             NaN      NaN  2.942585   \n",
       "Q9Y6Y8_PGAPSVQVPSPF                              NaN      NaN  3.692773   \n",
       "\n",
       "                                            count_y  \n",
       "index                                                \n",
       "A0A024RBG1;Q9NZJ9_SEQEDEVLLVSSSR                NaN  \n",
       "A0A024RBG1;Q9NZJ9_YPDQWIVPGGGMEPEEEPGGAAVR      NaN  \n",
       "A0A075B6H7;A0A0C4DH55;P01624_LLIYGASTR          NaN  \n",
       "A0A075B6H9_FSGSSSGAER                           6.0  \n",
       "A0A075B6I9;P04211_FSGSLLGGK                     NaN  \n",
       "...                                             ...  \n",
       "Q9Y6U3_ATEVPLSWDSFNK                            5.0  \n",
       "Q9Y6U3_EPVHLLSLFK                               5.0  \n",
       "Q9Y6W3_TGPLLIELR                                5.0  \n",
       "Q9Y6Y0_LYIVGGSDPYGQK                            5.0  \n",
       "Q9Y6Y8_PGAPSVQVPSPF                             5.0  \n",
       "\n",
       "[32860 rows x 4 columns]"
      ]
     },
     "execution_count": 17,
     "metadata": {},
     "output_type": "execute_result"
    }
   ],
   "source": [
    "pd.merge(df, df1, on='index', how='outer')\n"
   ]
  },
  {
   "cell_type": "code",
   "execution_count": 14,
   "metadata": {},
   "outputs": [
    {
     "name": "stdout",
     "output_type": "stream",
     "text": [
      "Starting processing\n"
     ]
    },
    {
     "data": {
      "text/html": [
       "<pre style=\"white-space:pre;overflow-x:auto;line-height:normal;font-family:Menlo,'DejaVu Sans Mono',consolas,'Courier New',monospace\">\n",
       "<span style=\"color: #808000; text-decoration-color: #808000; font-weight: bold\">Calling </span><span style=\"color: #008080; text-decoration-color: #008080; font-weight: bold\">16</span><span style=\"color: #808000; text-decoration-color: #808000; font-weight: bold\"> CPU threads for parallel processing...</span>\n",
       "</pre>\n"
      ],
      "text/plain": [
       "\n",
       "\u001b[1;33mCalling \u001b[0m\u001b[1;36m16\u001b[0m\u001b[1;33m CPU threads for parallel processing\u001b[0m\u001b[1;33m...\u001b[0m\n"
      ]
     },
     "metadata": {},
     "output_type": "display_data"
    },
    {
     "data": {
      "application/vnd.jupyter.widget-view+json": {
       "model_id": "f8fba8694fe341ef9def274418225f36",
       "version_major": 2,
       "version_minor": 0
      },
      "text/plain": [
       "Output()"
      ]
     },
     "metadata": {},
     "output_type": "display_data"
    },
    {
     "data": {
      "text/html": [
       "<pre style=\"white-space:pre;overflow-x:auto;line-height:normal;font-family:Menlo,'DejaVu Sans Mono',consolas,'Courier New',monospace\">Processed file: /Volumes/Samsung_T5/Spectral_Library/Colon_050740\n",
       "</pre>\n"
      ],
      "text/plain": [
       "Processed file: /Volumes/Samsung_T5/Spectral_Library/Colon_050740\n"
      ]
     },
     "metadata": {},
     "output_type": "display_data"
    },
    {
     "data": {
      "text/html": [
       "<pre style=\"white-space:pre;overflow-x:auto;line-height:normal;font-family:Menlo,'DejaVu Sans Mono',consolas,'Courier New',monospace\">Processed file: /Volumes/Samsung_T5/Spectral_Library/Colon_054408\n",
       "</pre>\n"
      ],
      "text/plain": [
       "Processed file: /Volumes/Samsung_T5/Spectral_Library/Colon_054408\n"
      ]
     },
     "metadata": {},
     "output_type": "display_data"
    },
    {
     "data": {
      "text/html": [
       "<pre style=\"white-space:pre;overflow-x:auto;line-height:normal;font-family:Menlo,'DejaVu Sans Mono',consolas,'Courier New',monospace\">Processed file: /Volumes/Samsung_T5/Spectral_Library/CRC_051908\n",
       "</pre>\n"
      ],
      "text/plain": [
       "Processed file: /Volumes/Samsung_T5/Spectral_Library/CRC_051908\n"
      ]
     },
     "metadata": {},
     "output_type": "display_data"
    },
    {
     "data": {
      "text/html": [
       "<pre style=\"white-space:pre;overflow-x:auto;line-height:normal;font-family:Menlo,'DejaVu Sans Mono',consolas,'Courier New',monospace\">Processed file: /Volumes/Samsung_T5/Spectral_Library/CRC_051931\n",
       "</pre>\n"
      ],
      "text/plain": [
       "Processed file: /Volumes/Samsung_T5/Spectral_Library/CRC_051931\n"
      ]
     },
     "metadata": {},
     "output_type": "display_data"
    },
    {
     "data": {
      "text/html": [
       "<pre style=\"white-space:pre;overflow-x:auto;line-height:normal;font-family:Menlo,'DejaVu Sans Mono',consolas,'Courier New',monospace\">Processed file: /Volumes/Samsung_T5/Spectral_Library/CRC_051872\n",
       "</pre>\n"
      ],
      "text/plain": [
       "Processed file: /Volumes/Samsung_T5/Spectral_Library/CRC_051872\n"
      ]
     },
     "metadata": {},
     "output_type": "display_data"
    },
    {
     "data": {
      "text/html": [
       "<pre style=\"white-space:pre;overflow-x:auto;line-height:normal;font-family:Menlo,'DejaVu Sans Mono',consolas,'Courier New',monospace\">Processed file: /Volumes/Samsung_T5/Spectral_Library/CRC_051926\n",
       "</pre>\n"
      ],
      "text/plain": [
       "Processed file: /Volumes/Samsung_T5/Spectral_Library/CRC_051926\n"
      ]
     },
     "metadata": {},
     "output_type": "display_data"
    },
    {
     "data": {
      "text/html": [
       "<pre style=\"white-space:pre;overflow-x:auto;line-height:normal;font-family:Menlo,'DejaVu Sans Mono',consolas,'Courier New',monospace\">Processed file: /Volumes/Samsung_T5/Spectral_Library/Colon_049761\n",
       "</pre>\n"
      ],
      "text/plain": [
       "Processed file: /Volumes/Samsung_T5/Spectral_Library/Colon_049761\n"
      ]
     },
     "metadata": {},
     "output_type": "display_data"
    },
    {
     "data": {
      "text/html": [
       "<pre style=\"white-space:pre;overflow-x:auto;line-height:normal;font-family:Menlo,'DejaVu Sans Mono',consolas,'Courier New',monospace\">Processed file: /Volumes/Samsung_T5/Spectral_Library/CRC_051890\n",
       "</pre>\n"
      ],
      "text/plain": [
       "Processed file: /Volumes/Samsung_T5/Spectral_Library/CRC_051890\n"
      ]
     },
     "metadata": {},
     "output_type": "display_data"
    },
    {
     "data": {
      "text/html": [
       "<pre style=\"white-space:pre;overflow-x:auto;line-height:normal;font-family:Menlo,'DejaVu Sans Mono',consolas,'Courier New',monospace\">Processed file: /Volumes/Samsung_T5/Spectral_Library/Colon_049136\n",
       "</pre>\n"
      ],
      "text/plain": [
       "Processed file: /Volumes/Samsung_T5/Spectral_Library/Colon_049136\n"
      ]
     },
     "metadata": {},
     "output_type": "display_data"
    },
    {
     "data": {
      "text/html": [
       "<pre style=\"white-space:pre;overflow-x:auto;line-height:normal;font-family:Menlo,'DejaVu Sans Mono',consolas,'Courier New',monospace\">Processed file: /Volumes/Samsung_T5/Spectral_Library/Colon_049135\n",
       "</pre>\n"
      ],
      "text/plain": [
       "Processed file: /Volumes/Samsung_T5/Spectral_Library/Colon_049135\n"
      ]
     },
     "metadata": {},
     "output_type": "display_data"
    },
    {
     "data": {
      "text/html": [
       "<pre style=\"white-space:pre;overflow-x:auto;line-height:normal;font-family:Menlo,'DejaVu Sans Mono',consolas,'Courier New',monospace\">Processed file: /Volumes/Samsung_T5/Spectral_Library/CRC_051888\n",
       "</pre>\n"
      ],
      "text/plain": [
       "Processed file: /Volumes/Samsung_T5/Spectral_Library/CRC_051888\n"
      ]
     },
     "metadata": {},
     "output_type": "display_data"
    },
    {
     "data": {
      "text/html": [
       "<pre style=\"white-space:pre;overflow-x:auto;line-height:normal;font-family:Menlo,'DejaVu Sans Mono',consolas,'Courier New',monospace\">Processed file: /Volumes/Samsung_T5/Spectral_Library/CRC_051868\n",
       "</pre>\n"
      ],
      "text/plain": [
       "Processed file: /Volumes/Samsung_T5/Spectral_Library/CRC_051868\n"
      ]
     },
     "metadata": {},
     "output_type": "display_data"
    },
    {
     "data": {
      "text/html": [
       "<pre style=\"white-space:pre;overflow-x:auto;line-height:normal;font-family:Menlo,'DejaVu Sans Mono',consolas,'Courier New',monospace\">Processed file: /Volumes/Samsung_T5/Spectral_Library/CRC_051867\n",
       "</pre>\n"
      ],
      "text/plain": [
       "Processed file: /Volumes/Samsung_T5/Spectral_Library/CRC_051867\n"
      ]
     },
     "metadata": {},
     "output_type": "display_data"
    },
    {
     "data": {
      "text/html": [
       "<pre style=\"white-space:pre;overflow-x:auto;line-height:normal;font-family:Menlo,'DejaVu Sans Mono',consolas,'Courier New',monospace\">Processed file: /Volumes/Samsung_T5/Spectral_Library/CRC_051870\n",
       "</pre>\n"
      ],
      "text/plain": [
       "Processed file: /Volumes/Samsung_T5/Spectral_Library/CRC_051870\n"
      ]
     },
     "metadata": {},
     "output_type": "display_data"
    },
    {
     "data": {
      "text/html": [
       "<pre style=\"white-space:pre;overflow-x:auto;line-height:normal;font-family:Menlo,'DejaVu Sans Mono',consolas,'Courier New',monospace\">Processed file: /Volumes/Samsung_T5/Spectral_Library/CRC_051865\n",
       "</pre>\n"
      ],
      "text/plain": [
       "Processed file: /Volumes/Samsung_T5/Spectral_Library/CRC_051865\n"
      ]
     },
     "metadata": {},
     "output_type": "display_data"
    },
    {
     "data": {
      "text/html": [
       "<pre style=\"white-space:pre;overflow-x:auto;line-height:normal;font-family:Menlo,'DejaVu Sans Mono',consolas,'Courier New',monospace\">Processed file: /Volumes/Samsung_T5/Spectral_Library/Colon_049134\n",
       "</pre>\n"
      ],
      "text/plain": [
       "Processed file: /Volumes/Samsung_T5/Spectral_Library/Colon_049134\n"
      ]
     },
     "metadata": {},
     "output_type": "display_data"
    },
    {
     "data": {
      "text/html": [
       "<pre style=\"white-space:pre;overflow-x:auto;line-height:normal;font-family:Menlo,'DejaVu Sans Mono',consolas,'Courier New',monospace\">Processed file: /Volumes/Samsung_T5/Spectral_Library/Colon_054415\n",
       "</pre>\n"
      ],
      "text/plain": [
       "Processed file: /Volumes/Samsung_T5/Spectral_Library/Colon_054415\n"
      ]
     },
     "metadata": {},
     "output_type": "display_data"
    },
    {
     "data": {
      "text/html": [
       "<pre style=\"white-space:pre;overflow-x:auto;line-height:normal;font-family:Menlo,'DejaVu Sans Mono',consolas,'Courier New',monospace\">Processed file: /Volumes/Samsung_T5/Spectral_Library/Colon_054411\n",
       "</pre>\n"
      ],
      "text/plain": [
       "Processed file: /Volumes/Samsung_T5/Spectral_Library/Colon_054411\n"
      ]
     },
     "metadata": {},
     "output_type": "display_data"
    },
    {
     "data": {
      "text/html": [
       "<pre style=\"white-space:pre;overflow-x:auto;line-height:normal;font-family:Menlo,'DejaVu Sans Mono',consolas,'Courier New',monospace\">Processed file: /Volumes/Samsung_T5/Spectral_Library/Colon_054418\n",
       "</pre>\n"
      ],
      "text/plain": [
       "Processed file: /Volumes/Samsung_T5/Spectral_Library/Colon_054418\n"
      ]
     },
     "metadata": {},
     "output_type": "display_data"
    },
    {
     "data": {
      "text/html": [
       "<pre style=\"white-space:pre;overflow-x:auto;line-height:normal;font-family:Menlo,'DejaVu Sans Mono',consolas,'Courier New',monospace\">Processed file: /Volumes/Samsung_T5/Spectral_Library/DLBCL_044772\n",
       "</pre>\n"
      ],
      "text/plain": [
       "Processed file: /Volumes/Samsung_T5/Spectral_Library/DLBCL_044772\n"
      ]
     },
     "metadata": {},
     "output_type": "display_data"
    },
    {
     "data": {
      "text/html": [
       "<pre style=\"white-space:pre;overflow-x:auto;line-height:normal;font-family:Menlo,'DejaVu Sans Mono',consolas,'Courier New',monospace\">Processed file: /Volumes/Samsung_T5/Spectral_Library/DLBCL_042896\n",
       "</pre>\n"
      ],
      "text/plain": [
       "Processed file: /Volumes/Samsung_T5/Spectral_Library/DLBCL_042896\n"
      ]
     },
     "metadata": {},
     "output_type": "display_data"
    },
    {
     "data": {
      "text/html": [
       "<pre style=\"white-space:pre;overflow-x:auto;line-height:normal;font-family:Menlo,'DejaVu Sans Mono',consolas,'Courier New',monospace\">Processed file: /Volumes/Samsung_T5/Spectral_Library/DLBCL_046495\n",
       "</pre>\n"
      ],
      "text/plain": [
       "Processed file: /Volumes/Samsung_T5/Spectral_Library/DLBCL_046495\n"
      ]
     },
     "metadata": {},
     "output_type": "display_data"
    },
    {
     "data": {
      "text/html": [
       "<pre style=\"white-space:pre;overflow-x:auto;line-height:normal;font-family:Menlo,'DejaVu Sans Mono',consolas,'Courier New',monospace\">Processed file: /Volumes/Samsung_T5/Spectral_Library/DLBCL_042898\n",
       "</pre>\n"
      ],
      "text/plain": [
       "Processed file: /Volumes/Samsung_T5/Spectral_Library/DLBCL_042898\n"
      ]
     },
     "metadata": {},
     "output_type": "display_data"
    },
    {
     "data": {
      "text/html": [
       "<pre style=\"white-space:pre;overflow-x:auto;line-height:normal;font-family:Menlo,'DejaVu Sans Mono',consolas,'Courier New',monospace\">Processed file: /Volumes/Samsung_T5/Spectral_Library/DLBCL_044773\n",
       "</pre>\n"
      ],
      "text/plain": [
       "Processed file: /Volumes/Samsung_T5/Spectral_Library/DLBCL_044773\n"
      ]
     },
     "metadata": {},
     "output_type": "display_data"
    },
    {
     "data": {
      "text/html": [
       "<pre style=\"white-space:pre;overflow-x:auto;line-height:normal;font-family:Menlo,'DejaVu Sans Mono',consolas,'Courier New',monospace\">Processed file: /Volumes/Samsung_T5/Spectral_Library/DLBCL_044764\n",
       "</pre>\n"
      ],
      "text/plain": [
       "Processed file: /Volumes/Samsung_T5/Spectral_Library/DLBCL_044764\n"
      ]
     },
     "metadata": {},
     "output_type": "display_data"
    },
    {
     "data": {
      "text/html": [
       "<pre style=\"white-space:pre;overflow-x:auto;line-height:normal;font-family:Menlo,'DejaVu Sans Mono',consolas,'Courier New',monospace\">Processed file: /Volumes/Samsung_T5/Spectral_Library/DLBCL_044767\n",
       "</pre>\n"
      ],
      "text/plain": [
       "Processed file: /Volumes/Samsung_T5/Spectral_Library/DLBCL_044767\n"
      ]
     },
     "metadata": {},
     "output_type": "display_data"
    },
    {
     "data": {
      "text/html": [
       "<pre style=\"white-space:pre;overflow-x:auto;line-height:normal;font-family:Menlo,'DejaVu Sans Mono',consolas,'Courier New',monospace\">Processed file: /Volumes/Samsung_T5/Spectral_Library/ESD2_050285\n",
       "</pre>\n"
      ],
      "text/plain": [
       "Processed file: /Volumes/Samsung_T5/Spectral_Library/ESD2_050285\n"
      ]
     },
     "metadata": {},
     "output_type": "display_data"
    },
    {
     "data": {
      "text/html": [
       "<pre style=\"white-space:pre;overflow-x:auto;line-height:normal;font-family:Menlo,'DejaVu Sans Mono',consolas,'Courier New',monospace\">Processed file: /Volumes/Samsung_T5/Spectral_Library/ESD2_050298\n",
       "</pre>\n"
      ],
      "text/plain": [
       "Processed file: /Volumes/Samsung_T5/Spectral_Library/ESD2_050298\n"
      ]
     },
     "metadata": {},
     "output_type": "display_data"
    },
    {
     "data": {
      "text/html": [
       "<pre style=\"white-space:pre;overflow-x:auto;line-height:normal;font-family:Menlo,'DejaVu Sans Mono',consolas,'Courier New',monospace\">Processed file: /Volumes/Samsung_T5/Spectral_Library/ESD2_050292\n",
       "</pre>\n"
      ],
      "text/plain": [
       "Processed file: /Volumes/Samsung_T5/Spectral_Library/ESD2_050292\n"
      ]
     },
     "metadata": {},
     "output_type": "display_data"
    },
    {
     "data": {
      "text/html": [
       "<pre style=\"white-space:pre;overflow-x:auto;line-height:normal;font-family:Menlo,'DejaVu Sans Mono',consolas,'Courier New',monospace\">Processed file: /Volumes/Samsung_T5/Spectral_Library/ESD2_050319\n",
       "</pre>\n"
      ],
      "text/plain": [
       "Processed file: /Volumes/Samsung_T5/Spectral_Library/ESD2_050319\n"
      ]
     },
     "metadata": {},
     "output_type": "display_data"
    },
    {
     "data": {
      "text/html": [
       "<pre style=\"white-space:pre;overflow-x:auto;line-height:normal;font-family:Menlo,'DejaVu Sans Mono',consolas,'Courier New',monospace\">Processed file: /Volumes/Samsung_T5/Spectral_Library/ESD2_050321\n",
       "</pre>\n"
      ],
      "text/plain": [
       "Processed file: /Volumes/Samsung_T5/Spectral_Library/ESD2_050321\n"
      ]
     },
     "metadata": {},
     "output_type": "display_data"
    },
    {
     "data": {
      "text/html": [
       "<pre style=\"white-space:pre;overflow-x:auto;line-height:normal;font-family:Menlo,'DejaVu Sans Mono',consolas,'Courier New',monospace\">Processed file: /Volumes/Samsung_T5/Spectral_Library/ESD2_058683\n",
       "</pre>\n"
      ],
      "text/plain": [
       "Processed file: /Volumes/Samsung_T5/Spectral_Library/ESD2_058683\n"
      ]
     },
     "metadata": {},
     "output_type": "display_data"
    },
    {
     "data": {
      "text/html": [
       "<pre style=\"white-space:pre;overflow-x:auto;line-height:normal;font-family:Menlo,'DejaVu Sans Mono',consolas,'Courier New',monospace\">Processed file: /Volumes/Samsung_T5/Spectral_Library/ESD2_055274\n",
       "</pre>\n"
      ],
      "text/plain": [
       "Processed file: /Volumes/Samsung_T5/Spectral_Library/ESD2_055274\n"
      ]
     },
     "metadata": {},
     "output_type": "display_data"
    },
    {
     "data": {
      "text/html": [
       "<pre style=\"white-space:pre;overflow-x:auto;line-height:normal;font-family:Menlo,'DejaVu Sans Mono',consolas,'Courier New',monospace\">Processed file: /Volumes/Samsung_T5/Spectral_Library/ESD2_058689\n",
       "</pre>\n"
      ],
      "text/plain": [
       "Processed file: /Volumes/Samsung_T5/Spectral_Library/ESD2_058689\n"
      ]
     },
     "metadata": {},
     "output_type": "display_data"
    },
    {
     "data": {
      "text/html": [
       "<pre style=\"white-space:pre;overflow-x:auto;line-height:normal;font-family:Menlo,'DejaVu Sans Mono',consolas,'Courier New',monospace\">Processed file: /Volumes/Samsung_T5/Spectral_Library/ESDN2_042941\n",
       "</pre>\n"
      ],
      "text/plain": [
       "Processed file: /Volumes/Samsung_T5/Spectral_Library/ESDN2_042941\n"
      ]
     },
     "metadata": {},
     "output_type": "display_data"
    },
    {
     "data": {
      "text/html": [
       "<pre style=\"white-space:pre;overflow-x:auto;line-height:normal;font-family:Menlo,'DejaVu Sans Mono',consolas,'Courier New',monospace\">Processed file: /Volumes/Samsung_T5/Spectral_Library/ESDN2_043565\n",
       "</pre>\n"
      ],
      "text/plain": [
       "Processed file: /Volumes/Samsung_T5/Spectral_Library/ESDN2_043565\n"
      ]
     },
     "metadata": {},
     "output_type": "display_data"
    },
    {
     "data": {
      "text/html": [
       "<pre style=\"white-space:pre;overflow-x:auto;line-height:normal;font-family:Menlo,'DejaVu Sans Mono',consolas,'Courier New',monospace\">Processed file: /Volumes/Samsung_T5/Spectral_Library/ESDN2_044375\n",
       "</pre>\n"
      ],
      "text/plain": [
       "Processed file: /Volumes/Samsung_T5/Spectral_Library/ESDN2_044375\n"
      ]
     },
     "metadata": {},
     "output_type": "display_data"
    },
    {
     "data": {
      "text/html": [
       "<pre style=\"white-space:pre;overflow-x:auto;line-height:normal;font-family:Menlo,'DejaVu Sans Mono',consolas,'Courier New',monospace\">Processed file: /Volumes/Samsung_T5/Spectral_Library/ESDN2_042925\n",
       "</pre>\n"
      ],
      "text/plain": [
       "Processed file: /Volumes/Samsung_T5/Spectral_Library/ESDN2_042925\n"
      ]
     },
     "metadata": {},
     "output_type": "display_data"
    },
    {
     "data": {
      "text/html": [
       "<pre style=\"white-space:pre;overflow-x:auto;line-height:normal;font-family:Menlo,'DejaVu Sans Mono',consolas,'Courier New',monospace\">Processed file: /Volumes/Samsung_T5/Spectral_Library/ESDN2_044377\n",
       "</pre>\n"
      ],
      "text/plain": [
       "Processed file: /Volumes/Samsung_T5/Spectral_Library/ESDN2_044377\n"
      ]
     },
     "metadata": {},
     "output_type": "display_data"
    },
    {
     "data": {
      "text/html": [
       "<pre style=\"white-space:pre;overflow-x:auto;line-height:normal;font-family:Menlo,'DejaVu Sans Mono',consolas,'Courier New',monospace\">Processed file: /Volumes/Samsung_T5/Spectral_Library/ESDN2_045834\n",
       "</pre>\n"
      ],
      "text/plain": [
       "Processed file: /Volumes/Samsung_T5/Spectral_Library/ESDN2_045834\n"
      ]
     },
     "metadata": {},
     "output_type": "display_data"
    },
    {
     "data": {
      "text/html": [
       "<pre style=\"white-space:pre;overflow-x:auto;line-height:normal;font-family:Menlo,'DejaVu Sans Mono',consolas,'Courier New',monospace\">Processed file: /Volumes/Samsung_T5/Spectral_Library/ESD2_061350\n",
       "</pre>\n"
      ],
      "text/plain": [
       "Processed file: /Volumes/Samsung_T5/Spectral_Library/ESD2_061350\n"
      ]
     },
     "metadata": {},
     "output_type": "display_data"
    },
    {
     "data": {
      "text/html": [
       "<pre style=\"white-space:pre;overflow-x:auto;line-height:normal;font-family:Menlo,'DejaVu Sans Mono',consolas,'Courier New',monospace\">Processed file: /Volumes/Samsung_T5/Spectral_Library/ESDN2_046204\n",
       "</pre>\n"
      ],
      "text/plain": [
       "Processed file: /Volumes/Samsung_T5/Spectral_Library/ESDN2_046204\n"
      ]
     },
     "metadata": {},
     "output_type": "display_data"
    },
    {
     "data": {
      "text/html": [
       "<pre style=\"white-space:pre;overflow-x:auto;line-height:normal;font-family:Menlo,'DejaVu Sans Mono',consolas,'Courier New',monospace\">Processed file: /Volumes/Samsung_T5/Spectral_Library/ESDN2_046401\n",
       "</pre>\n"
      ],
      "text/plain": [
       "Processed file: /Volumes/Samsung_T5/Spectral_Library/ESDN2_046401\n"
      ]
     },
     "metadata": {},
     "output_type": "display_data"
    },
    {
     "data": {
      "text/html": [
       "<pre style=\"white-space:pre;overflow-x:auto;line-height:normal;font-family:Menlo,'DejaVu Sans Mono',consolas,'Courier New',monospace\">Processed file: /Volumes/Samsung_T5/Spectral_Library/ESD_036776\n",
       "</pre>\n"
      ],
      "text/plain": [
       "Processed file: /Volumes/Samsung_T5/Spectral_Library/ESD_036776\n"
      ]
     },
     "metadata": {},
     "output_type": "display_data"
    },
    {
     "data": {
      "text/html": [
       "<pre style=\"white-space:pre;overflow-x:auto;line-height:normal;font-family:Menlo,'DejaVu Sans Mono',consolas,'Courier New',monospace\">Processed file: /Volumes/Samsung_T5/Spectral_Library/ESDN2_049729\n",
       "</pre>\n"
      ],
      "text/plain": [
       "Processed file: /Volumes/Samsung_T5/Spectral_Library/ESDN2_049729\n"
      ]
     },
     "metadata": {},
     "output_type": "display_data"
    },
    {
     "data": {
      "text/html": [
       "<pre style=\"white-space:pre;overflow-x:auto;line-height:normal;font-family:Menlo,'DejaVu Sans Mono',consolas,'Courier New',monospace\">Processed file: /Volumes/Samsung_T5/Spectral_Library/ESD_036777\n",
       "</pre>\n"
      ],
      "text/plain": [
       "Processed file: /Volumes/Samsung_T5/Spectral_Library/ESD_036777\n"
      ]
     },
     "metadata": {},
     "output_type": "display_data"
    },
    {
     "data": {
      "text/html": [
       "<pre style=\"white-space:pre;overflow-x:auto;line-height:normal;font-family:Menlo,'DejaVu Sans Mono',consolas,'Courier New',monospace\">Processed file: /Volumes/Samsung_T5/Spectral_Library/ESD_036779\n",
       "</pre>\n"
      ],
      "text/plain": [
       "Processed file: /Volumes/Samsung_T5/Spectral_Library/ESD_036779\n"
      ]
     },
     "metadata": {},
     "output_type": "display_data"
    },
    {
     "data": {
      "text/html": [
       "<pre style=\"white-space:pre;overflow-x:auto;line-height:normal;font-family:Menlo,'DejaVu Sans Mono',consolas,'Courier New',monospace\">Processed file: /Volumes/Samsung_T5/Spectral_Library/ESD_036850\n",
       "</pre>\n"
      ],
      "text/plain": [
       "Processed file: /Volumes/Samsung_T5/Spectral_Library/ESD_036850\n"
      ]
     },
     "metadata": {},
     "output_type": "display_data"
    },
    {
     "data": {
      "text/html": [
       "<pre style=\"white-space:pre;overflow-x:auto;line-height:normal;font-family:Menlo,'DejaVu Sans Mono',consolas,'Courier New',monospace\">Processed file: /Volumes/Samsung_T5/Spectral_Library/ESD_036847\n",
       "</pre>\n"
      ],
      "text/plain": [
       "Processed file: /Volumes/Samsung_T5/Spectral_Library/ESD_036847\n"
      ]
     },
     "metadata": {},
     "output_type": "display_data"
    },
    {
     "data": {
      "text/html": [
       "<pre style=\"white-space:pre;overflow-x:auto;line-height:normal;font-family:Menlo,'DejaVu Sans Mono',consolas,'Courier New',monospace\">Processed file: /Volumes/Samsung_T5/Spectral_Library/ESDN2_049728\n",
       "</pre>\n"
      ],
      "text/plain": [
       "Processed file: /Volumes/Samsung_T5/Spectral_Library/ESDN2_049728\n"
      ]
     },
     "metadata": {},
     "output_type": "display_data"
    },
    {
     "data": {
      "text/html": [
       "<pre style=\"white-space:pre;overflow-x:auto;line-height:normal;font-family:Menlo,'DejaVu Sans Mono',consolas,'Courier New',monospace\">Processed file: /Volumes/Samsung_T5/Spectral_Library/ESD_036828\n",
       "</pre>\n"
      ],
      "text/plain": [
       "Processed file: /Volumes/Samsung_T5/Spectral_Library/ESD_036828\n"
      ]
     },
     "metadata": {},
     "output_type": "display_data"
    },
    {
     "data": {
      "text/html": [
       "<pre style=\"white-space:pre;overflow-x:auto;line-height:normal;font-family:Menlo,'DejaVu Sans Mono',consolas,'Courier New',monospace\">Processed file: /Volumes/Samsung_T5/Spectral_Library/ESD_036781\n",
       "</pre>\n"
      ],
      "text/plain": [
       "Processed file: /Volumes/Samsung_T5/Spectral_Library/ESD_036781\n"
      ]
     },
     "metadata": {},
     "output_type": "display_data"
    },
    {
     "data": {
      "text/html": [
       "<pre style=\"white-space:pre;overflow-x:auto;line-height:normal;font-family:Menlo,'DejaVu Sans Mono',consolas,'Courier New',monospace\">Processed file: /Volumes/Samsung_T5/Spectral_Library/Exp033485_Plasma_kit_F2\n",
       "</pre>\n"
      ],
      "text/plain": [
       "Processed file: /Volumes/Samsung_T5/Spectral_Library/Exp033485_Plasma_kit_F2\n"
      ]
     },
     "metadata": {},
     "output_type": "display_data"
    },
    {
     "data": {
      "text/html": [
       "<pre style=\"white-space:pre;overflow-x:auto;line-height:normal;font-family:Menlo,'DejaVu Sans Mono',consolas,'Courier New',monospace\">Processed file: /Volumes/Samsung_T5/Spectral_Library/Exp033485_Plasma_kit_F3\n",
       "</pre>\n"
      ],
      "text/plain": [
       "Processed file: /Volumes/Samsung_T5/Spectral_Library/Exp033485_Plasma_kit_F3\n"
      ]
     },
     "metadata": {},
     "output_type": "display_data"
    },
    {
     "data": {
      "text/html": [
       "<pre style=\"white-space:pre;overflow-x:auto;line-height:normal;font-family:Menlo,'DejaVu Sans Mono',consolas,'Courier New',monospace\">Processed file: /Volumes/Samsung_T5/Spectral_Library/Exp033485_Plasma_kit_F4\n",
       "</pre>\n"
      ],
      "text/plain": [
       "Processed file: /Volumes/Samsung_T5/Spectral_Library/Exp033485_Plasma_kit_F4\n"
      ]
     },
     "metadata": {},
     "output_type": "display_data"
    },
    {
     "data": {
      "text/html": [
       "<pre style=\"white-space:pre;overflow-x:auto;line-height:normal;font-family:Menlo,'DejaVu Sans Mono',consolas,'Courier New',monospace\">Processed file: /Volumes/Samsung_T5/Spectral_Library/ESD_036891\n",
       "</pre>\n"
      ],
      "text/plain": [
       "Processed file: /Volumes/Samsung_T5/Spectral_Library/ESD_036891\n"
      ]
     },
     "metadata": {},
     "output_type": "display_data"
    },
    {
     "data": {
      "text/html": [
       "<pre style=\"white-space:pre;overflow-x:auto;line-height:normal;font-family:Menlo,'DejaVu Sans Mono',consolas,'Courier New',monospace\">Processed file: /Volumes/Samsung_T5/Spectral_Library/ESD_037832\n",
       "</pre>\n"
      ],
      "text/plain": [
       "Processed file: /Volumes/Samsung_T5/Spectral_Library/ESD_037832\n"
      ]
     },
     "metadata": {},
     "output_type": "display_data"
    },
    {
     "data": {
      "text/html": [
       "<pre style=\"white-space:pre;overflow-x:auto;line-height:normal;font-family:Menlo,'DejaVu Sans Mono',consolas,'Courier New',monospace\">Processed file: /Volumes/Samsung_T5/Spectral_Library/Exp033485_Plasma_kit_F5\n",
       "</pre>\n"
      ],
      "text/plain": [
       "Processed file: /Volumes/Samsung_T5/Spectral_Library/Exp033485_Plasma_kit_F5\n"
      ]
     },
     "metadata": {},
     "output_type": "display_data"
    },
    {
     "data": {
      "text/html": [
       "<pre style=\"white-space:pre;overflow-x:auto;line-height:normal;font-family:Menlo,'DejaVu Sans Mono',consolas,'Courier New',monospace\">Processed file: /Volumes/Samsung_T5/Spectral_Library/Exp033485_Plasma_kit_F6\n",
       "</pre>\n"
      ],
      "text/plain": [
       "Processed file: /Volumes/Samsung_T5/Spectral_Library/Exp033485_Plasma_kit_F6\n"
      ]
     },
     "metadata": {},
     "output_type": "display_data"
    },
    {
     "data": {
      "text/html": [
       "<pre style=\"white-space:pre;overflow-x:auto;line-height:normal;font-family:Menlo,'DejaVu Sans Mono',consolas,'Courier New',monospace\">Processed file: /Volumes/Samsung_T5/Spectral_Library/Exp033485_Plasma_kit_F7\n",
       "</pre>\n"
      ],
      "text/plain": [
       "Processed file: /Volumes/Samsung_T5/Spectral_Library/Exp033485_Plasma_kit_F7\n"
      ]
     },
     "metadata": {},
     "output_type": "display_data"
    },
    {
     "data": {
      "text/html": [
       "<pre style=\"white-space:pre;overflow-x:auto;line-height:normal;font-family:Menlo,'DejaVu Sans Mono',consolas,'Courier New',monospace\">Processed file: /Volumes/Samsung_T5/Spectral_Library/Exp033485_Plasma_kit_F8\n",
       "</pre>\n"
      ],
      "text/plain": [
       "Processed file: /Volumes/Samsung_T5/Spectral_Library/Exp033485_Plasma_kit_F8\n"
      ]
     },
     "metadata": {},
     "output_type": "display_data"
    },
    {
     "data": {
      "text/html": [
       "<pre style=\"white-space:pre;overflow-x:auto;line-height:normal;font-family:Menlo,'DejaVu Sans Mono',consolas,'Courier New',monospace\">Processed file: /Volumes/Samsung_T5/Spectral_Library/Exp033487_serum_kit_F4\n",
       "</pre>\n"
      ],
      "text/plain": [
       "Processed file: /Volumes/Samsung_T5/Spectral_Library/Exp033487_serum_kit_F4\n"
      ]
     },
     "metadata": {},
     "output_type": "display_data"
    },
    {
     "data": {
      "text/html": [
       "<pre style=\"white-space:pre;overflow-x:auto;line-height:normal;font-family:Menlo,'DejaVu Sans Mono',consolas,'Courier New',monospace\">Processed file: /Volumes/Samsung_T5/Spectral_Library/Exp033485_Plasma_kit_F9\n",
       "</pre>\n"
      ],
      "text/plain": [
       "Processed file: /Volumes/Samsung_T5/Spectral_Library/Exp033485_Plasma_kit_F9\n"
      ]
     },
     "metadata": {},
     "output_type": "display_data"
    },
    {
     "data": {
      "text/html": [
       "<pre style=\"white-space:pre;overflow-x:auto;line-height:normal;font-family:Menlo,'DejaVu Sans Mono',consolas,'Courier New',monospace\">Processed file: /Volumes/Samsung_T5/Spectral_Library/Exp034217_Plasma_kit_F2\n",
       "</pre>\n"
      ],
      "text/plain": [
       "Processed file: /Volumes/Samsung_T5/Spectral_Library/Exp034217_Plasma_kit_F2\n"
      ]
     },
     "metadata": {},
     "output_type": "display_data"
    },
    {
     "data": {
      "text/html": [
       "<pre style=\"white-space:pre;overflow-x:auto;line-height:normal;font-family:Menlo,'DejaVu Sans Mono',consolas,'Courier New',monospace\">Processed file: /Volumes/Samsung_T5/Spectral_Library/Exp033487_serum_kit_F6\n",
       "</pre>\n"
      ],
      "text/plain": [
       "Processed file: /Volumes/Samsung_T5/Spectral_Library/Exp033487_serum_kit_F6\n"
      ]
     },
     "metadata": {},
     "output_type": "display_data"
    },
    {
     "data": {
      "text/html": [
       "<pre style=\"white-space:pre;overflow-x:auto;line-height:normal;font-family:Menlo,'DejaVu Sans Mono',consolas,'Courier New',monospace\">Processed file: /Volumes/Samsung_T5/Spectral_Library/Exp033487_serum_kit_F9\n",
       "</pre>\n"
      ],
      "text/plain": [
       "Processed file: /Volumes/Samsung_T5/Spectral_Library/Exp033487_serum_kit_F9\n"
      ]
     },
     "metadata": {},
     "output_type": "display_data"
    },
    {
     "data": {
      "text/html": [
       "<pre style=\"white-space:pre;overflow-x:auto;line-height:normal;font-family:Menlo,'DejaVu Sans Mono',consolas,'Courier New',monospace\">Processed file: /Volumes/Samsung_T5/Spectral_Library/Exp033487_serum_kit_F7\n",
       "</pre>\n"
      ],
      "text/plain": [
       "Processed file: /Volumes/Samsung_T5/Spectral_Library/Exp033487_serum_kit_F7\n"
      ]
     },
     "metadata": {},
     "output_type": "display_data"
    },
    {
     "data": {
      "text/html": [
       "<pre style=\"white-space:pre;overflow-x:auto;line-height:normal;font-family:Menlo,'DejaVu Sans Mono',consolas,'Courier New',monospace\">Processed file: /Volumes/Samsung_T5/Spectral_Library/Exp033487_serum_kit_F8\n",
       "</pre>\n"
      ],
      "text/plain": [
       "Processed file: /Volumes/Samsung_T5/Spectral_Library/Exp033487_serum_kit_F8\n"
      ]
     },
     "metadata": {},
     "output_type": "display_data"
    },
    {
     "data": {
      "text/html": [
       "<pre style=\"white-space:pre;overflow-x:auto;line-height:normal;font-family:Menlo,'DejaVu Sans Mono',consolas,'Courier New',monospace\">Processed file: /Volumes/Samsung_T5/Spectral_Library/Exp034217_Plasma_kit_F3\n",
       "</pre>\n"
      ],
      "text/plain": [
       "Processed file: /Volumes/Samsung_T5/Spectral_Library/Exp034217_Plasma_kit_F3\n"
      ]
     },
     "metadata": {},
     "output_type": "display_data"
    },
    {
     "data": {
      "text/html": [
       "<pre style=\"white-space:pre;overflow-x:auto;line-height:normal;font-family:Menlo,'DejaVu Sans Mono',consolas,'Courier New',monospace\">Processed file: /Volumes/Samsung_T5/Spectral_Library/Exp034217_Plasma_kit_F4\n",
       "</pre>\n"
      ],
      "text/plain": [
       "Processed file: /Volumes/Samsung_T5/Spectral_Library/Exp034217_Plasma_kit_F4\n"
      ]
     },
     "metadata": {},
     "output_type": "display_data"
    },
    {
     "data": {
      "text/html": [
       "<pre style=\"white-space:pre;overflow-x:auto;line-height:normal;font-family:Menlo,'DejaVu Sans Mono',consolas,'Courier New',monospace\">Processed file: /Volumes/Samsung_T5/Spectral_Library/Exp034217_Plasma_kit_F8\n",
       "</pre>\n"
      ],
      "text/plain": [
       "Processed file: /Volumes/Samsung_T5/Spectral_Library/Exp034217_Plasma_kit_F8\n"
      ]
     },
     "metadata": {},
     "output_type": "display_data"
    },
    {
     "data": {
      "text/html": [
       "<pre style=\"white-space:pre;overflow-x:auto;line-height:normal;font-family:Menlo,'DejaVu Sans Mono',consolas,'Courier New',monospace\">Processed file: /Volumes/Samsung_T5/Spectral_Library/Exp034217_Plasma_kit_F6\n",
       "</pre>\n"
      ],
      "text/plain": [
       "Processed file: /Volumes/Samsung_T5/Spectral_Library/Exp034217_Plasma_kit_F6\n"
      ]
     },
     "metadata": {},
     "output_type": "display_data"
    },
    {
     "data": {
      "text/html": [
       "<pre style=\"white-space:pre;overflow-x:auto;line-height:normal;font-family:Menlo,'DejaVu Sans Mono',consolas,'Courier New',monospace\">Processed file: /Volumes/Samsung_T5/Spectral_Library/Esophageal_032540\n",
       "</pre>\n"
      ],
      "text/plain": [
       "Processed file: /Volumes/Samsung_T5/Spectral_Library/Esophageal_032540\n"
      ]
     },
     "metadata": {},
     "output_type": "display_data"
    },
    {
     "data": {
      "text/html": [
       "<pre style=\"white-space:pre;overflow-x:auto;line-height:normal;font-family:Menlo,'DejaVu Sans Mono',consolas,'Courier New',monospace\">Processed file: /Volumes/Samsung_T5/Spectral_Library/Exp036316_Blood_KIT_F10\n",
       "</pre>\n"
      ],
      "text/plain": [
       "Processed file: /Volumes/Samsung_T5/Spectral_Library/Exp036316_Blood_KIT_F10\n"
      ]
     },
     "metadata": {},
     "output_type": "display_data"
    },
    {
     "data": {
      "text/html": [
       "<pre style=\"white-space:pre;overflow-x:auto;line-height:normal;font-family:Menlo,'DejaVu Sans Mono',consolas,'Courier New',monospace\">Processed file: /Volumes/Samsung_T5/Spectral_Library/Esophageal_033837\n",
       "</pre>\n"
      ],
      "text/plain": [
       "Processed file: /Volumes/Samsung_T5/Spectral_Library/Esophageal_033837\n"
      ]
     },
     "metadata": {},
     "output_type": "display_data"
    },
    {
     "data": {
      "text/html": [
       "<pre style=\"white-space:pre;overflow-x:auto;line-height:normal;font-family:Menlo,'DejaVu Sans Mono',consolas,'Courier New',monospace\">Processed file: /Volumes/Samsung_T5/Spectral_Library/Exp036316_Blood_KIT_F11\n",
       "</pre>\n"
      ],
      "text/plain": [
       "Processed file: /Volumes/Samsung_T5/Spectral_Library/Exp036316_Blood_KIT_F11\n"
      ]
     },
     "metadata": {},
     "output_type": "display_data"
    },
    {
     "data": {
      "text/html": [
       "<pre style=\"white-space:pre;overflow-x:auto;line-height:normal;font-family:Menlo,'DejaVu Sans Mono',consolas,'Courier New',monospace\">Processed file: /Volumes/Samsung_T5/Spectral_Library/Exp036316_Blood_KIT_F12\n",
       "</pre>\n"
      ],
      "text/plain": [
       "Processed file: /Volumes/Samsung_T5/Spectral_Library/Exp036316_Blood_KIT_F12\n"
      ]
     },
     "metadata": {},
     "output_type": "display_data"
    },
    {
     "data": {
      "text/html": [
       "<pre style=\"white-space:pre;overflow-x:auto;line-height:normal;font-family:Menlo,'DejaVu Sans Mono',consolas,'Courier New',monospace\">Processed file: /Volumes/Samsung_T5/Spectral_Library/Exp036316_Blood_KIT_F16\n",
       "</pre>\n"
      ],
      "text/plain": [
       "Processed file: /Volumes/Samsung_T5/Spectral_Library/Exp036316_Blood_KIT_F16\n"
      ]
     },
     "metadata": {},
     "output_type": "display_data"
    },
    {
     "data": {
      "text/html": [
       "<pre style=\"white-space:pre;overflow-x:auto;line-height:normal;font-family:Menlo,'DejaVu Sans Mono',consolas,'Courier New',monospace\">Processed file: /Volumes/Samsung_T5/Spectral_Library/Exp036316_Blood_KIT_F1\n",
       "</pre>\n"
      ],
      "text/plain": [
       "Processed file: /Volumes/Samsung_T5/Spectral_Library/Exp036316_Blood_KIT_F1\n"
      ]
     },
     "metadata": {},
     "output_type": "display_data"
    },
    {
     "data": {
      "text/html": [
       "<pre style=\"white-space:pre;overflow-x:auto;line-height:normal;font-family:Menlo,'DejaVu Sans Mono',consolas,'Courier New',monospace\">Processed file: /Volumes/Samsung_T5/Spectral_Library/Exp036316_Blood_KIT_F14\n",
       "</pre>\n"
      ],
      "text/plain": [
       "Processed file: /Volumes/Samsung_T5/Spectral_Library/Exp036316_Blood_KIT_F14\n"
      ]
     },
     "metadata": {},
     "output_type": "display_data"
    },
    {
     "data": {
      "text/html": [
       "<pre style=\"white-space:pre;overflow-x:auto;line-height:normal;font-family:Menlo,'DejaVu Sans Mono',consolas,'Courier New',monospace\">Processed file: /Volumes/Samsung_T5/Spectral_Library/Exp036316_Blood_KIT_F13\n",
       "</pre>\n"
      ],
      "text/plain": [
       "Processed file: /Volumes/Samsung_T5/Spectral_Library/Exp036316_Blood_KIT_F13\n"
      ]
     },
     "metadata": {},
     "output_type": "display_data"
    },
    {
     "data": {
      "text/html": [
       "<pre style=\"white-space:pre;overflow-x:auto;line-height:normal;font-family:Menlo,'DejaVu Sans Mono',consolas,'Courier New',monospace\">Processed file: /Volumes/Samsung_T5/Spectral_Library/Exp036316_Blood_KIT_F15\n",
       "</pre>\n"
      ],
      "text/plain": [
       "Processed file: /Volumes/Samsung_T5/Spectral_Library/Exp036316_Blood_KIT_F15\n"
      ]
     },
     "metadata": {},
     "output_type": "display_data"
    },
    {
     "data": {
      "text/html": [
       "<pre style=\"white-space:pre;overflow-x:auto;line-height:normal;font-family:Menlo,'DejaVu Sans Mono',consolas,'Courier New',monospace\">Processed file: /Volumes/Samsung_T5/Spectral_Library/Exp036316_Blood_KIT_F18\n",
       "</pre>\n"
      ],
      "text/plain": [
       "Processed file: /Volumes/Samsung_T5/Spectral_Library/Exp036316_Blood_KIT_F18\n"
      ]
     },
     "metadata": {},
     "output_type": "display_data"
    },
    {
     "data": {
      "text/html": [
       "<pre style=\"white-space:pre;overflow-x:auto;line-height:normal;font-family:Menlo,'DejaVu Sans Mono',consolas,'Courier New',monospace\">Processed file: /Volumes/Samsung_T5/Spectral_Library/Exp036316_Blood_KIT_F19\n",
       "</pre>\n"
      ],
      "text/plain": [
       "Processed file: /Volumes/Samsung_T5/Spectral_Library/Exp036316_Blood_KIT_F19\n"
      ]
     },
     "metadata": {},
     "output_type": "display_data"
    },
    {
     "data": {
      "text/html": [
       "<pre style=\"white-space:pre;overflow-x:auto;line-height:normal;font-family:Menlo,'DejaVu Sans Mono',consolas,'Courier New',monospace\">Processed file: /Volumes/Samsung_T5/Spectral_Library/Exp036316_Blood_KIT_F21\n",
       "</pre>\n"
      ],
      "text/plain": [
       "Processed file: /Volumes/Samsung_T5/Spectral_Library/Exp036316_Blood_KIT_F21\n"
      ]
     },
     "metadata": {},
     "output_type": "display_data"
    },
    {
     "data": {
      "text/html": [
       "<pre style=\"white-space:pre;overflow-x:auto;line-height:normal;font-family:Menlo,'DejaVu Sans Mono',consolas,'Courier New',monospace\">Processed file: /Volumes/Samsung_T5/Spectral_Library/Exp036316_Blood_KIT_F22\n",
       "</pre>\n"
      ],
      "text/plain": [
       "Processed file: /Volumes/Samsung_T5/Spectral_Library/Exp036316_Blood_KIT_F22\n"
      ]
     },
     "metadata": {},
     "output_type": "display_data"
    },
    {
     "data": {
      "text/html": [
       "<pre style=\"white-space:pre;overflow-x:auto;line-height:normal;font-family:Menlo,'DejaVu Sans Mono',consolas,'Courier New',monospace\">Processed file: /Volumes/Samsung_T5/Spectral_Library/Exp036316_Blood_KIT_F23\n",
       "</pre>\n"
      ],
      "text/plain": [
       "Processed file: /Volumes/Samsung_T5/Spectral_Library/Exp036316_Blood_KIT_F23\n"
      ]
     },
     "metadata": {},
     "output_type": "display_data"
    },
    {
     "data": {
      "text/html": [
       "<pre style=\"white-space:pre;overflow-x:auto;line-height:normal;font-family:Menlo,'DejaVu Sans Mono',consolas,'Courier New',monospace\">Processed file: /Volumes/Samsung_T5/Spectral_Library/Exp036316_Blood_KIT_F27\n",
       "</pre>\n"
      ],
      "text/plain": [
       "Processed file: /Volumes/Samsung_T5/Spectral_Library/Exp036316_Blood_KIT_F27\n"
      ]
     },
     "metadata": {},
     "output_type": "display_data"
    },
    {
     "data": {
      "text/html": [
       "<pre style=\"white-space:pre;overflow-x:auto;line-height:normal;font-family:Menlo,'DejaVu Sans Mono',consolas,'Courier New',monospace\">Processed file: /Volumes/Samsung_T5/Spectral_Library/Exp036316_Blood_KIT_F24\n",
       "</pre>\n"
      ],
      "text/plain": [
       "Processed file: /Volumes/Samsung_T5/Spectral_Library/Exp036316_Blood_KIT_F24\n"
      ]
     },
     "metadata": {},
     "output_type": "display_data"
    },
    {
     "data": {
      "text/html": [
       "<pre style=\"white-space:pre;overflow-x:auto;line-height:normal;font-family:Menlo,'DejaVu Sans Mono',consolas,'Courier New',monospace\">Processed file: /Volumes/Samsung_T5/Spectral_Library/Exp036316_Blood_KIT_F25\n",
       "</pre>\n"
      ],
      "text/plain": [
       "Processed file: /Volumes/Samsung_T5/Spectral_Library/Exp036316_Blood_KIT_F25\n"
      ]
     },
     "metadata": {},
     "output_type": "display_data"
    },
    {
     "data": {
      "text/html": [
       "<pre style=\"white-space:pre;overflow-x:auto;line-height:normal;font-family:Menlo,'DejaVu Sans Mono',consolas,'Courier New',monospace\">Processed file: /Volumes/Samsung_T5/Spectral_Library/Esophageal_041009\n",
       "</pre>\n"
      ],
      "text/plain": [
       "Processed file: /Volumes/Samsung_T5/Spectral_Library/Esophageal_041009\n"
      ]
     },
     "metadata": {},
     "output_type": "display_data"
    },
    {
     "data": {
      "text/html": [
       "<pre style=\"white-space:pre;overflow-x:auto;line-height:normal;font-family:Menlo,'DejaVu Sans Mono',consolas,'Courier New',monospace\">Processed file: /Volumes/Samsung_T5/Spectral_Library/Exp036316_Blood_KIT_F2\n",
       "</pre>\n"
      ],
      "text/plain": [
       "Processed file: /Volumes/Samsung_T5/Spectral_Library/Exp036316_Blood_KIT_F2\n"
      ]
     },
     "metadata": {},
     "output_type": "display_data"
    },
    {
     "data": {
      "text/html": [
       "<pre style=\"white-space:pre;overflow-x:auto;line-height:normal;font-family:Menlo,'DejaVu Sans Mono',consolas,'Courier New',monospace\">Processed file: /Volumes/Samsung_T5/Spectral_Library/Exp036316_Blood_KIT_F28\n",
       "</pre>\n"
      ],
      "text/plain": [
       "Processed file: /Volumes/Samsung_T5/Spectral_Library/Exp036316_Blood_KIT_F28\n"
      ]
     },
     "metadata": {},
     "output_type": "display_data"
    },
    {
     "data": {
      "text/html": [
       "<pre style=\"white-space:pre;overflow-x:auto;line-height:normal;font-family:Menlo,'DejaVu Sans Mono',consolas,'Courier New',monospace\">Processed file: /Volumes/Samsung_T5/Spectral_Library/Exp036316_Blood_KIT_F26\n",
       "</pre>\n"
      ],
      "text/plain": [
       "Processed file: /Volumes/Samsung_T5/Spectral_Library/Exp036316_Blood_KIT_F26\n"
      ]
     },
     "metadata": {},
     "output_type": "display_data"
    },
    {
     "data": {
      "text/html": [
       "<pre style=\"white-space:pre;overflow-x:auto;line-height:normal;font-family:Menlo,'DejaVu Sans Mono',consolas,'Courier New',monospace\">Processed file: /Volumes/Samsung_T5/Spectral_Library/Esophageal_041011\n",
       "</pre>\n"
      ],
      "text/plain": [
       "Processed file: /Volumes/Samsung_T5/Spectral_Library/Esophageal_041011\n"
      ]
     },
     "metadata": {},
     "output_type": "display_data"
    },
    {
     "data": {
      "text/html": [
       "<pre style=\"white-space:pre;overflow-x:auto;line-height:normal;font-family:Menlo,'DejaVu Sans Mono',consolas,'Courier New',monospace\">Processed file: /Volumes/Samsung_T5/Spectral_Library/Esophageal_045685\n",
       "</pre>\n"
      ],
      "text/plain": [
       "Processed file: /Volumes/Samsung_T5/Spectral_Library/Esophageal_045685\n"
      ]
     },
     "metadata": {},
     "output_type": "display_data"
    },
    {
     "data": {
      "text/html": [
       "<pre style=\"white-space:pre;overflow-x:auto;line-height:normal;font-family:Menlo,'DejaVu Sans Mono',consolas,'Courier New',monospace\">Processed file: /Volumes/Samsung_T5/Spectral_Library/Esophageal_041025\n",
       "</pre>\n"
      ],
      "text/plain": [
       "Processed file: /Volumes/Samsung_T5/Spectral_Library/Esophageal_041025\n"
      ]
     },
     "metadata": {},
     "output_type": "display_data"
    },
    {
     "data": {
      "text/html": [
       "<pre style=\"white-space:pre;overflow-x:auto;line-height:normal;font-family:Menlo,'DejaVu Sans Mono',consolas,'Courier New',monospace\">Processed file: /Volumes/Samsung_T5/Spectral_Library/Exp040890_TMJ_F11\n",
       "</pre>\n"
      ],
      "text/plain": [
       "Processed file: /Volumes/Samsung_T5/Spectral_Library/Exp040890_TMJ_F11\n"
      ]
     },
     "metadata": {},
     "output_type": "display_data"
    },
    {
     "data": {
      "text/html": [
       "<pre style=\"white-space:pre;overflow-x:auto;line-height:normal;font-family:Menlo,'DejaVu Sans Mono',consolas,'Courier New',monospace\">Processed file: /Volumes/Samsung_T5/Spectral_Library/Exp040890_TMJ_F12\n",
       "</pre>\n"
      ],
      "text/plain": [
       "Processed file: /Volumes/Samsung_T5/Spectral_Library/Exp040890_TMJ_F12\n"
      ]
     },
     "metadata": {},
     "output_type": "display_data"
    },
    {
     "data": {
      "text/html": [
       "<pre style=\"white-space:pre;overflow-x:auto;line-height:normal;font-family:Menlo,'DejaVu Sans Mono',consolas,'Courier New',monospace\">Processed file: /Volumes/Samsung_T5/Spectral_Library/Exp040890_TMJ_F1\n",
       "</pre>\n"
      ],
      "text/plain": [
       "Processed file: /Volumes/Samsung_T5/Spectral_Library/Exp040890_TMJ_F1\n"
      ]
     },
     "metadata": {},
     "output_type": "display_data"
    },
    {
     "data": {
      "text/html": [
       "<pre style=\"white-space:pre;overflow-x:auto;line-height:normal;font-family:Menlo,'DejaVu Sans Mono',consolas,'Courier New',monospace\">Processed file: /Volumes/Samsung_T5/Spectral_Library/Exp036316_Blood_KIT_F8\n",
       "</pre>\n"
      ],
      "text/plain": [
       "Processed file: /Volumes/Samsung_T5/Spectral_Library/Exp036316_Blood_KIT_F8\n"
      ]
     },
     "metadata": {},
     "output_type": "display_data"
    },
    {
     "data": {
      "text/html": [
       "<pre style=\"white-space:pre;overflow-x:auto;line-height:normal;font-family:Menlo,'DejaVu Sans Mono',consolas,'Courier New',monospace\">Processed file: /Volumes/Samsung_T5/Spectral_Library/Exp036316_Blood_KIT_F3\n",
       "</pre>\n"
      ],
      "text/plain": [
       "Processed file: /Volumes/Samsung_T5/Spectral_Library/Exp036316_Blood_KIT_F3\n"
      ]
     },
     "metadata": {},
     "output_type": "display_data"
    },
    {
     "data": {
      "text/html": [
       "<pre style=\"white-space:pre;overflow-x:auto;line-height:normal;font-family:Menlo,'DejaVu Sans Mono',consolas,'Courier New',monospace\">Processed file: /Volumes/Samsung_T5/Spectral_Library/Exp036316_Blood_KIT_F4\n",
       "</pre>\n"
      ],
      "text/plain": [
       "Processed file: /Volumes/Samsung_T5/Spectral_Library/Exp036316_Blood_KIT_F4\n"
      ]
     },
     "metadata": {},
     "output_type": "display_data"
    },
    {
     "data": {
      "text/html": [
       "<pre style=\"white-space:pre;overflow-x:auto;line-height:normal;font-family:Menlo,'DejaVu Sans Mono',consolas,'Courier New',monospace\">Processed file: /Volumes/Samsung_T5/Spectral_Library/Exp040890_TMJ_F15\n",
       "</pre>\n"
      ],
      "text/plain": [
       "Processed file: /Volumes/Samsung_T5/Spectral_Library/Exp040890_TMJ_F15\n"
      ]
     },
     "metadata": {},
     "output_type": "display_data"
    },
    {
     "data": {
      "text/html": [
       "<pre style=\"white-space:pre;overflow-x:auto;line-height:normal;font-family:Menlo,'DejaVu Sans Mono',consolas,'Courier New',monospace\">Processed file: /Volumes/Samsung_T5/Spectral_Library/Exp040890_TMJ_F10\n",
       "</pre>\n"
      ],
      "text/plain": [
       "Processed file: /Volumes/Samsung_T5/Spectral_Library/Exp040890_TMJ_F10\n"
      ]
     },
     "metadata": {},
     "output_type": "display_data"
    },
    {
     "data": {
      "text/html": [
       "<pre style=\"white-space:pre;overflow-x:auto;line-height:normal;font-family:Menlo,'DejaVu Sans Mono',consolas,'Courier New',monospace\">Processed file: /Volumes/Samsung_T5/Spectral_Library/Exp036316_Blood_KIT_F5\n",
       "</pre>\n"
      ],
      "text/plain": [
       "Processed file: /Volumes/Samsung_T5/Spectral_Library/Exp036316_Blood_KIT_F5\n"
      ]
     },
     "metadata": {},
     "output_type": "display_data"
    },
    {
     "data": {
      "text/html": [
       "<pre style=\"white-space:pre;overflow-x:auto;line-height:normal;font-family:Menlo,'DejaVu Sans Mono',consolas,'Courier New',monospace\">Processed file: /Volumes/Samsung_T5/Spectral_Library/Exp036316_Blood_KIT_F6\n",
       "</pre>\n"
      ],
      "text/plain": [
       "Processed file: /Volumes/Samsung_T5/Spectral_Library/Exp036316_Blood_KIT_F6\n"
      ]
     },
     "metadata": {},
     "output_type": "display_data"
    },
    {
     "data": {
      "text/html": [
       "<pre style=\"white-space:pre;overflow-x:auto;line-height:normal;font-family:Menlo,'DejaVu Sans Mono',consolas,'Courier New',monospace\">Processed file: /Volumes/Samsung_T5/Spectral_Library/Exp036316_Blood_KIT_F7\n",
       "</pre>\n"
      ],
      "text/plain": [
       "Processed file: /Volumes/Samsung_T5/Spectral_Library/Exp036316_Blood_KIT_F7\n"
      ]
     },
     "metadata": {},
     "output_type": "display_data"
    },
    {
     "data": {
      "text/html": [
       "<pre style=\"white-space:pre;overflow-x:auto;line-height:normal;font-family:Menlo,'DejaVu Sans Mono',consolas,'Courier New',monospace\">Processed file: /Volumes/Samsung_T5/Spectral_Library/Exp040890_TMJ_F16\n",
       "</pre>\n"
      ],
      "text/plain": [
       "Processed file: /Volumes/Samsung_T5/Spectral_Library/Exp040890_TMJ_F16\n"
      ]
     },
     "metadata": {},
     "output_type": "display_data"
    },
    {
     "data": {
      "text/html": [
       "<pre style=\"white-space:pre;overflow-x:auto;line-height:normal;font-family:Menlo,'DejaVu Sans Mono',consolas,'Courier New',monospace\">Processed file: /Volumes/Samsung_T5/Spectral_Library/Esophageal_035422\n",
       "</pre>\n"
      ],
      "text/plain": [
       "Processed file: /Volumes/Samsung_T5/Spectral_Library/Esophageal_035422\n"
      ]
     },
     "metadata": {},
     "output_type": "display_data"
    },
    {
     "data": {
      "text/html": [
       "<pre style=\"white-space:pre;overflow-x:auto;line-height:normal;font-family:Menlo,'DejaVu Sans Mono',consolas,'Courier New',monospace\">Processed file: /Volumes/Samsung_T5/Spectral_Library/Esophageal_046342\n",
       "</pre>\n"
      ],
      "text/plain": [
       "Processed file: /Volumes/Samsung_T5/Spectral_Library/Esophageal_046342\n"
      ]
     },
     "metadata": {},
     "output_type": "display_data"
    },
    {
     "data": {
      "text/html": [
       "<pre style=\"white-space:pre;overflow-x:auto;line-height:normal;font-family:Menlo,'DejaVu Sans Mono',consolas,'Courier New',monospace\">Processed file: /Volumes/Samsung_T5/Spectral_Library/Exp040890_TMJ_F3\n",
       "</pre>\n"
      ],
      "text/plain": [
       "Processed file: /Volumes/Samsung_T5/Spectral_Library/Exp040890_TMJ_F3\n"
      ]
     },
     "metadata": {},
     "output_type": "display_data"
    },
    {
     "data": {
      "text/html": [
       "<pre style=\"white-space:pre;overflow-x:auto;line-height:normal;font-family:Menlo,'DejaVu Sans Mono',consolas,'Courier New',monospace\">Processed file: /Volumes/Samsung_T5/Spectral_Library/Exp040890_TMJ_F5\n",
       "</pre>\n"
      ],
      "text/plain": [
       "Processed file: /Volumes/Samsung_T5/Spectral_Library/Exp040890_TMJ_F5\n"
      ]
     },
     "metadata": {},
     "output_type": "display_data"
    },
    {
     "data": {
      "text/html": [
       "<pre style=\"white-space:pre;overflow-x:auto;line-height:normal;font-family:Menlo,'DejaVu Sans Mono',consolas,'Courier New',monospace\">Processed file: /Volumes/Samsung_T5/Spectral_Library/Exp040890_TMJ_F6\n",
       "</pre>\n"
      ],
      "text/plain": [
       "Processed file: /Volumes/Samsung_T5/Spectral_Library/Exp040890_TMJ_F6\n"
      ]
     },
     "metadata": {},
     "output_type": "display_data"
    },
    {
     "data": {
      "text/html": [
       "<pre style=\"white-space:pre;overflow-x:auto;line-height:normal;font-family:Menlo,'DejaVu Sans Mono',consolas,'Courier New',monospace\">Processed file: /Volumes/Samsung_T5/Spectral_Library/Exp041749_IPF_F14\n",
       "</pre>\n"
      ],
      "text/plain": [
       "Processed file: /Volumes/Samsung_T5/Spectral_Library/Exp041749_IPF_F14\n"
      ]
     },
     "metadata": {},
     "output_type": "display_data"
    },
    {
     "data": {
      "text/html": [
       "<pre style=\"white-space:pre;overflow-x:auto;line-height:normal;font-family:Menlo,'DejaVu Sans Mono',consolas,'Courier New',monospace\">Processed file: /Volumes/Samsung_T5/Spectral_Library/Exp040890_TMJ_F9\n",
       "</pre>\n"
      ],
      "text/plain": [
       "Processed file: /Volumes/Samsung_T5/Spectral_Library/Exp040890_TMJ_F9\n"
      ]
     },
     "metadata": {},
     "output_type": "display_data"
    },
    {
     "data": {
      "text/html": [
       "<pre style=\"white-space:pre;overflow-x:auto;line-height:normal;font-family:Menlo,'DejaVu Sans Mono',consolas,'Courier New',monospace\">Processed file: /Volumes/Samsung_T5/Spectral_Library/Exp040890_TMJ_F7\n",
       "</pre>\n"
      ],
      "text/plain": [
       "Processed file: /Volumes/Samsung_T5/Spectral_Library/Exp040890_TMJ_F7\n"
      ]
     },
     "metadata": {},
     "output_type": "display_data"
    },
    {
     "data": {
      "text/html": [
       "<pre style=\"white-space:pre;overflow-x:auto;line-height:normal;font-family:Menlo,'DejaVu Sans Mono',consolas,'Courier New',monospace\">Processed file: /Volumes/Samsung_T5/Spectral_Library/Exp040890_TMJ_F8\n",
       "</pre>\n"
      ],
      "text/plain": [
       "Processed file: /Volumes/Samsung_T5/Spectral_Library/Exp040890_TMJ_F8\n"
      ]
     },
     "metadata": {},
     "output_type": "display_data"
    },
    {
     "data": {
      "text/html": [
       "<pre style=\"white-space:pre;overflow-x:auto;line-height:normal;font-family:Menlo,'DejaVu Sans Mono',consolas,'Courier New',monospace\">Processed file: /Volumes/Samsung_T5/Spectral_Library/Exp041749_IPF_F11\n",
       "</pre>\n"
      ],
      "text/plain": [
       "Processed file: /Volumes/Samsung_T5/Spectral_Library/Exp041749_IPF_F11\n"
      ]
     },
     "metadata": {},
     "output_type": "display_data"
    },
    {
     "data": {
      "text/html": [
       "<pre style=\"white-space:pre;overflow-x:auto;line-height:normal;font-family:Menlo,'DejaVu Sans Mono',consolas,'Courier New',monospace\">Processed file: /Volumes/Samsung_T5/Spectral_Library/Exp041749_IPF_F13\n",
       "</pre>\n"
      ],
      "text/plain": [
       "Processed file: /Volumes/Samsung_T5/Spectral_Library/Exp041749_IPF_F13\n"
      ]
     },
     "metadata": {},
     "output_type": "display_data"
    },
    {
     "data": {
      "text/html": [
       "<pre style=\"white-space:pre;overflow-x:auto;line-height:normal;font-family:Menlo,'DejaVu Sans Mono',consolas,'Courier New',monospace\">Processed file: /Volumes/Samsung_T5/Spectral_Library/Exp040890_TMJ_F4\n",
       "</pre>\n"
      ],
      "text/plain": [
       "Processed file: /Volumes/Samsung_T5/Spectral_Library/Exp040890_TMJ_F4\n"
      ]
     },
     "metadata": {},
     "output_type": "display_data"
    },
    {
     "data": {
      "text/html": [
       "<pre style=\"white-space:pre;overflow-x:auto;line-height:normal;font-family:Menlo,'DejaVu Sans Mono',consolas,'Courier New',monospace\">Processed file: /Volumes/Samsung_T5/Spectral_Library/Exp041749_IPF_F10\n",
       "</pre>\n"
      ],
      "text/plain": [
       "Processed file: /Volumes/Samsung_T5/Spectral_Library/Exp041749_IPF_F10\n"
      ]
     },
     "metadata": {},
     "output_type": "display_data"
    },
    {
     "data": {
      "text/html": [
       "<pre style=\"white-space:pre;overflow-x:auto;line-height:normal;font-family:Menlo,'DejaVu Sans Mono',consolas,'Courier New',monospace\">Processed file: /Volumes/Samsung_T5/Spectral_Library/Exp041749_IPF_F15\n",
       "</pre>\n"
      ],
      "text/plain": [
       "Processed file: /Volumes/Samsung_T5/Spectral_Library/Exp041749_IPF_F15\n"
      ]
     },
     "metadata": {},
     "output_type": "display_data"
    },
    {
     "data": {
      "text/html": [
       "<pre style=\"white-space:pre;overflow-x:auto;line-height:normal;font-family:Menlo,'DejaVu Sans Mono',consolas,'Courier New',monospace\">Processed file: /Volumes/Samsung_T5/Spectral_Library/Exp041749_IPF_F2\n",
       "</pre>\n"
      ],
      "text/plain": [
       "Processed file: /Volumes/Samsung_T5/Spectral_Library/Exp041749_IPF_F2\n"
      ]
     },
     "metadata": {},
     "output_type": "display_data"
    },
    {
     "data": {
      "text/html": [
       "<pre style=\"white-space:pre;overflow-x:auto;line-height:normal;font-family:Menlo,'DejaVu Sans Mono',consolas,'Courier New',monospace\">Processed file: /Volumes/Samsung_T5/Spectral_Library/Exp041749_IPF_F12\n",
       "</pre>\n"
      ],
      "text/plain": [
       "Processed file: /Volumes/Samsung_T5/Spectral_Library/Exp041749_IPF_F12\n"
      ]
     },
     "metadata": {},
     "output_type": "display_data"
    },
    {
     "data": {
      "text/html": [
       "<pre style=\"white-space:pre;overflow-x:auto;line-height:normal;font-family:Menlo,'DejaVu Sans Mono',consolas,'Courier New',monospace\">Processed file: /Volumes/Samsung_T5/Spectral_Library/Exp041749_IPF_F4\n",
       "</pre>\n"
      ],
      "text/plain": [
       "Processed file: /Volumes/Samsung_T5/Spectral_Library/Exp041749_IPF_F4\n"
      ]
     },
     "metadata": {},
     "output_type": "display_data"
    },
    {
     "data": {
      "text/html": [
       "<pre style=\"white-space:pre;overflow-x:auto;line-height:normal;font-family:Menlo,'DejaVu Sans Mono',consolas,'Courier New',monospace\">Processed file: /Volumes/Samsung_T5/Spectral_Library/Exp041749_IPF_F3\n",
       "</pre>\n"
      ],
      "text/plain": [
       "Processed file: /Volumes/Samsung_T5/Spectral_Library/Exp041749_IPF_F3\n"
      ]
     },
     "metadata": {},
     "output_type": "display_data"
    },
    {
     "data": {
      "text/html": [
       "<pre style=\"white-space:pre;overflow-x:auto;line-height:normal;font-family:Menlo,'DejaVu Sans Mono',consolas,'Courier New',monospace\">Processed file: /Volumes/Samsung_T5/Spectral_Library/Exp045703_Hydrotharox_F17\n",
       "</pre>\n"
      ],
      "text/plain": [
       "Processed file: /Volumes/Samsung_T5/Spectral_Library/Exp045703_Hydrotharox_F17\n"
      ]
     },
     "metadata": {},
     "output_type": "display_data"
    },
    {
     "data": {
      "text/html": [
       "<pre style=\"white-space:pre;overflow-x:auto;line-height:normal;font-family:Menlo,'DejaVu Sans Mono',consolas,'Courier New',monospace\">Processed file: /Volumes/Samsung_T5/Spectral_Library/Exp045703_Hydrotharox_F19\n",
       "</pre>\n"
      ],
      "text/plain": [
       "Processed file: /Volumes/Samsung_T5/Spectral_Library/Exp045703_Hydrotharox_F19\n"
      ]
     },
     "metadata": {},
     "output_type": "display_data"
    },
    {
     "data": {
      "text/html": [
       "<pre style=\"white-space:pre;overflow-x:auto;line-height:normal;font-family:Menlo,'DejaVu Sans Mono',consolas,'Courier New',monospace\">Processed file: /Volumes/Samsung_T5/Spectral_Library/Exp045703_Hydrotharox_F14\n",
       "</pre>\n"
      ],
      "text/plain": [
       "Processed file: /Volumes/Samsung_T5/Spectral_Library/Exp045703_Hydrotharox_F14\n"
      ]
     },
     "metadata": {},
     "output_type": "display_data"
    },
    {
     "data": {
      "text/html": [
       "<pre style=\"white-space:pre;overflow-x:auto;line-height:normal;font-family:Menlo,'DejaVu Sans Mono',consolas,'Courier New',monospace\">Processed file: /Volumes/Samsung_T5/Spectral_Library/Exp041749_IPF_F5\n",
       "</pre>\n"
      ],
      "text/plain": [
       "Processed file: /Volumes/Samsung_T5/Spectral_Library/Exp041749_IPF_F5\n"
      ]
     },
     "metadata": {},
     "output_type": "display_data"
    },
    {
     "data": {
      "text/html": [
       "<pre style=\"white-space:pre;overflow-x:auto;line-height:normal;font-family:Menlo,'DejaVu Sans Mono',consolas,'Courier New',monospace\">Processed file: /Volumes/Samsung_T5/Spectral_Library/Exp041749_IPF_F7\n",
       "</pre>\n"
      ],
      "text/plain": [
       "Processed file: /Volumes/Samsung_T5/Spectral_Library/Exp041749_IPF_F7\n"
      ]
     },
     "metadata": {},
     "output_type": "display_data"
    },
    {
     "data": {
      "text/html": [
       "<pre style=\"white-space:pre;overflow-x:auto;line-height:normal;font-family:Menlo,'DejaVu Sans Mono',consolas,'Courier New',monospace\">Processed file: /Volumes/Samsung_T5/Spectral_Library/Exp056854_Bile_F10\n",
       "</pre>\n"
      ],
      "text/plain": [
       "Processed file: /Volumes/Samsung_T5/Spectral_Library/Exp056854_Bile_F10\n"
      ]
     },
     "metadata": {},
     "output_type": "display_data"
    },
    {
     "data": {
      "text/html": [
       "<pre style=\"white-space:pre;overflow-x:auto;line-height:normal;font-family:Menlo,'DejaVu Sans Mono',consolas,'Courier New',monospace\">Processed file: /Volumes/Samsung_T5/Spectral_Library/Exp064066_Ascites_F11\n",
       "</pre>\n"
      ],
      "text/plain": [
       "Processed file: /Volumes/Samsung_T5/Spectral_Library/Exp064066_Ascites_F11\n"
      ]
     },
     "metadata": {},
     "output_type": "display_data"
    },
    {
     "data": {
      "text/html": [
       "<pre style=\"white-space:pre;overflow-x:auto;line-height:normal;font-family:Menlo,'DejaVu Sans Mono',consolas,'Courier New',monospace\">Processed file: /Volumes/Samsung_T5/Spectral_Library/Exp056854_Bile_F9\n",
       "</pre>\n"
      ],
      "text/plain": [
       "Processed file: /Volumes/Samsung_T5/Spectral_Library/Exp056854_Bile_F9\n"
      ]
     },
     "metadata": {},
     "output_type": "display_data"
    },
    {
     "data": {
      "text/html": [
       "<pre style=\"white-space:pre;overflow-x:auto;line-height:normal;font-family:Menlo,'DejaVu Sans Mono',consolas,'Courier New',monospace\">Processed file: /Volumes/Samsung_T5/Spectral_Library/Exp056854_Bile_F1\n",
       "</pre>\n"
      ],
      "text/plain": [
       "Processed file: /Volumes/Samsung_T5/Spectral_Library/Exp056854_Bile_F1\n"
      ]
     },
     "metadata": {},
     "output_type": "display_data"
    },
    {
     "data": {
      "text/html": [
       "<pre style=\"white-space:pre;overflow-x:auto;line-height:normal;font-family:Menlo,'DejaVu Sans Mono',consolas,'Courier New',monospace\">Processed file: /Volumes/Samsung_T5/Spectral_Library/Exp064066_Ascites_F14\n",
       "</pre>\n"
      ],
      "text/plain": [
       "Processed file: /Volumes/Samsung_T5/Spectral_Library/Exp064066_Ascites_F14\n"
      ]
     },
     "metadata": {},
     "output_type": "display_data"
    },
    {
     "data": {
      "text/html": [
       "<pre style=\"white-space:pre;overflow-x:auto;line-height:normal;font-family:Menlo,'DejaVu Sans Mono',consolas,'Courier New',monospace\">Processed file: /Volumes/Samsung_T5/Spectral_Library/Exp056854_Bile_F12\n",
       "</pre>\n"
      ],
      "text/plain": [
       "Processed file: /Volumes/Samsung_T5/Spectral_Library/Exp056854_Bile_F12\n"
      ]
     },
     "metadata": {},
     "output_type": "display_data"
    },
    {
     "data": {
      "text/html": [
       "<pre style=\"white-space:pre;overflow-x:auto;line-height:normal;font-family:Menlo,'DejaVu Sans Mono',consolas,'Courier New',monospace\">Processed file: /Volumes/Samsung_T5/Spectral_Library/Exp064066_Ascites_F16\n",
       "</pre>\n"
      ],
      "text/plain": [
       "Processed file: /Volumes/Samsung_T5/Spectral_Library/Exp064066_Ascites_F16\n"
      ]
     },
     "metadata": {},
     "output_type": "display_data"
    },
    {
     "data": {
      "text/html": [
       "<pre style=\"white-space:pre;overflow-x:auto;line-height:normal;font-family:Menlo,'DejaVu Sans Mono',consolas,'Courier New',monospace\">Processed file: /Volumes/Samsung_T5/Spectral_Library/Exp064066_Ascites_F15\n",
       "</pre>\n"
      ],
      "text/plain": [
       "Processed file: /Volumes/Samsung_T5/Spectral_Library/Exp064066_Ascites_F15\n"
      ]
     },
     "metadata": {},
     "output_type": "display_data"
    },
    {
     "data": {
      "text/html": [
       "<pre style=\"white-space:pre;overflow-x:auto;line-height:normal;font-family:Menlo,'DejaVu Sans Mono',consolas,'Courier New',monospace\">Processed file: /Volumes/Samsung_T5/Spectral_Library/Exp064066_Ascites_F13\n",
       "</pre>\n"
      ],
      "text/plain": [
       "Processed file: /Volumes/Samsung_T5/Spectral_Library/Exp064066_Ascites_F13\n"
      ]
     },
     "metadata": {},
     "output_type": "display_data"
    },
    {
     "data": {
      "text/html": [
       "<pre style=\"white-space:pre;overflow-x:auto;line-height:normal;font-family:Menlo,'DejaVu Sans Mono',consolas,'Courier New',monospace\">Processed file: /Volumes/Samsung_T5/Spectral_Library/Exp056854_Bile_F2\n",
       "</pre>\n"
      ],
      "text/plain": [
       "Processed file: /Volumes/Samsung_T5/Spectral_Library/Exp056854_Bile_F2\n"
      ]
     },
     "metadata": {},
     "output_type": "display_data"
    },
    {
     "data": {
      "text/html": [
       "<pre style=\"white-space:pre;overflow-x:auto;line-height:normal;font-family:Menlo,'DejaVu Sans Mono',consolas,'Courier New',monospace\">Processed file: /Volumes/Samsung_T5/Spectral_Library/Exp056854_Bile_F5\n",
       "</pre>\n"
      ],
      "text/plain": [
       "Processed file: /Volumes/Samsung_T5/Spectral_Library/Exp056854_Bile_F5\n"
      ]
     },
     "metadata": {},
     "output_type": "display_data"
    },
    {
     "data": {
      "text/html": [
       "<pre style=\"white-space:pre;overflow-x:auto;line-height:normal;font-family:Menlo,'DejaVu Sans Mono',consolas,'Courier New',monospace\">Processed file: /Volumes/Samsung_T5/Spectral_Library/Exp056854_Bile_F4\n",
       "</pre>\n"
      ],
      "text/plain": [
       "Processed file: /Volumes/Samsung_T5/Spectral_Library/Exp056854_Bile_F4\n"
      ]
     },
     "metadata": {},
     "output_type": "display_data"
    },
    {
     "data": {
      "text/html": [
       "<pre style=\"white-space:pre;overflow-x:auto;line-height:normal;font-family:Menlo,'DejaVu Sans Mono',consolas,'Courier New',monospace\">Processed file: /Volumes/Samsung_T5/Spectral_Library/Exp064066_Ascites_F17\n",
       "</pre>\n"
      ],
      "text/plain": [
       "Processed file: /Volumes/Samsung_T5/Spectral_Library/Exp064066_Ascites_F17\n"
      ]
     },
     "metadata": {},
     "output_type": "display_data"
    },
    {
     "data": {
      "text/html": [
       "<pre style=\"white-space:pre;overflow-x:auto;line-height:normal;font-family:Menlo,'DejaVu Sans Mono',consolas,'Courier New',monospace\">Processed file: /Volumes/Samsung_T5/Spectral_Library/Exp056854_Bile_F7\n",
       "</pre>\n"
      ],
      "text/plain": [
       "Processed file: /Volumes/Samsung_T5/Spectral_Library/Exp056854_Bile_F7\n"
      ]
     },
     "metadata": {},
     "output_type": "display_data"
    },
    {
     "data": {
      "text/html": [
       "<pre style=\"white-space:pre;overflow-x:auto;line-height:normal;font-family:Menlo,'DejaVu Sans Mono',consolas,'Courier New',monospace\">Processed file: /Volumes/Samsung_T5/Spectral_Library/Exp056854_Bile_F8\n",
       "</pre>\n"
      ],
      "text/plain": [
       "Processed file: /Volumes/Samsung_T5/Spectral_Library/Exp056854_Bile_F8\n"
      ]
     },
     "metadata": {},
     "output_type": "display_data"
    },
    {
     "data": {
      "text/html": [
       "<pre style=\"white-space:pre;overflow-x:auto;line-height:normal;font-family:Menlo,'DejaVu Sans Mono',consolas,'Courier New',monospace\">Processed file: /Volumes/Samsung_T5/Spectral_Library/Exp056854_Bile_F3\n",
       "</pre>\n"
      ],
      "text/plain": [
       "Processed file: /Volumes/Samsung_T5/Spectral_Library/Exp056854_Bile_F3\n"
      ]
     },
     "metadata": {},
     "output_type": "display_data"
    },
    {
     "data": {
      "text/html": [
       "<pre style=\"white-space:pre;overflow-x:auto;line-height:normal;font-family:Menlo,'DejaVu Sans Mono',consolas,'Courier New',monospace\">Processed file: /Volumes/Samsung_T5/Spectral_Library/Exp056854_Bile_F6\n",
       "</pre>\n"
      ],
      "text/plain": [
       "Processed file: /Volumes/Samsung_T5/Spectral_Library/Exp056854_Bile_F6\n"
      ]
     },
     "metadata": {},
     "output_type": "display_data"
    },
    {
     "data": {
      "text/html": [
       "<pre style=\"white-space:pre;overflow-x:auto;line-height:normal;font-family:Menlo,'DejaVu Sans Mono',consolas,'Courier New',monospace\">Processed file: /Volumes/Samsung_T5/Spectral_Library/Exp064066_Ascites_F18\n",
       "</pre>\n"
      ],
      "text/plain": [
       "Processed file: /Volumes/Samsung_T5/Spectral_Library/Exp064066_Ascites_F18\n"
      ]
     },
     "metadata": {},
     "output_type": "display_data"
    },
    {
     "data": {
      "text/html": [
       "<pre style=\"white-space:pre;overflow-x:auto;line-height:normal;font-family:Menlo,'DejaVu Sans Mono',consolas,'Courier New',monospace\">Processed file: /Volumes/Samsung_T5/Spectral_Library/Exp064066_Ascites_F2\n",
       "</pre>\n"
      ],
      "text/plain": [
       "Processed file: /Volumes/Samsung_T5/Spectral_Library/Exp064066_Ascites_F2\n"
      ]
     },
     "metadata": {},
     "output_type": "display_data"
    },
    {
     "data": {
      "text/html": [
       "<pre style=\"white-space:pre;overflow-x:auto;line-height:normal;font-family:Menlo,'DejaVu Sans Mono',consolas,'Courier New',monospace\">Processed file: /Volumes/Samsung_T5/Spectral_Library/Exp064066_Ascites_F3\n",
       "</pre>\n"
      ],
      "text/plain": [
       "Processed file: /Volumes/Samsung_T5/Spectral_Library/Exp064066_Ascites_F3\n"
      ]
     },
     "metadata": {},
     "output_type": "display_data"
    },
    {
     "data": {
      "text/html": [
       "<pre style=\"white-space:pre;overflow-x:auto;line-height:normal;font-family:Menlo,'DejaVu Sans Mono',consolas,'Courier New',monospace\">Processed file: /Volumes/Samsung_T5/Spectral_Library/Exp064066_Ascites_F20\n",
       "</pre>\n"
      ],
      "text/plain": [
       "Processed file: /Volumes/Samsung_T5/Spectral_Library/Exp064066_Ascites_F20\n"
      ]
     },
     "metadata": {},
     "output_type": "display_data"
    },
    {
     "data": {
      "text/html": [
       "<pre style=\"white-space:pre;overflow-x:auto;line-height:normal;font-family:Menlo,'DejaVu Sans Mono',consolas,'Courier New',monospace\">Processed file: /Volumes/Samsung_T5/Spectral_Library/Exp064066_Ascites_F30\n",
       "</pre>\n"
      ],
      "text/plain": [
       "Processed file: /Volumes/Samsung_T5/Spectral_Library/Exp064066_Ascites_F30\n"
      ]
     },
     "metadata": {},
     "output_type": "display_data"
    },
    {
     "data": {
      "text/html": [
       "<pre style=\"white-space:pre;overflow-x:auto;line-height:normal;font-family:Menlo,'DejaVu Sans Mono',consolas,'Courier New',monospace\">Processed file: /Volumes/Samsung_T5/Spectral_Library/Exp064066_Ascites_F25\n",
       "</pre>\n"
      ],
      "text/plain": [
       "Processed file: /Volumes/Samsung_T5/Spectral_Library/Exp064066_Ascites_F25\n"
      ]
     },
     "metadata": {},
     "output_type": "display_data"
    },
    {
     "data": {
      "text/html": [
       "<pre style=\"white-space:pre;overflow-x:auto;line-height:normal;font-family:Menlo,'DejaVu Sans Mono',consolas,'Courier New',monospace\">Processed file: /Volumes/Samsung_T5/Spectral_Library/Exp064066_Ascites_F31\n",
       "</pre>\n"
      ],
      "text/plain": [
       "Processed file: /Volumes/Samsung_T5/Spectral_Library/Exp064066_Ascites_F31\n"
      ]
     },
     "metadata": {},
     "output_type": "display_data"
    },
    {
     "data": {
      "text/html": [
       "<pre style=\"white-space:pre;overflow-x:auto;line-height:normal;font-family:Menlo,'DejaVu Sans Mono',consolas,'Courier New',monospace\">Processed file: /Volumes/Samsung_T5/Spectral_Library/Exp064066_Ascites_F21\n",
       "</pre>\n"
      ],
      "text/plain": [
       "Processed file: /Volumes/Samsung_T5/Spectral_Library/Exp064066_Ascites_F21\n"
      ]
     },
     "metadata": {},
     "output_type": "display_data"
    },
    {
     "data": {
      "text/html": [
       "<pre style=\"white-space:pre;overflow-x:auto;line-height:normal;font-family:Menlo,'DejaVu Sans Mono',consolas,'Courier New',monospace\">Processed file: /Volumes/Samsung_T5/Spectral_Library/Exp064066_Ascites_F24\n",
       "</pre>\n"
      ],
      "text/plain": [
       "Processed file: /Volumes/Samsung_T5/Spectral_Library/Exp064066_Ascites_F24\n"
      ]
     },
     "metadata": {},
     "output_type": "display_data"
    },
    {
     "data": {
      "text/html": [
       "<pre style=\"white-space:pre;overflow-x:auto;line-height:normal;font-family:Menlo,'DejaVu Sans Mono',consolas,'Courier New',monospace\">Processed file: /Volumes/Samsung_T5/Spectral_Library/Exp064066_Ascites_F34\n",
       "</pre>\n"
      ],
      "text/plain": [
       "Processed file: /Volumes/Samsung_T5/Spectral_Library/Exp064066_Ascites_F34\n"
      ]
     },
     "metadata": {},
     "output_type": "display_data"
    },
    {
     "data": {
      "text/html": [
       "<pre style=\"white-space:pre;overflow-x:auto;line-height:normal;font-family:Menlo,'DejaVu Sans Mono',consolas,'Courier New',monospace\">Processed file: /Volumes/Samsung_T5/Spectral_Library/Exp064066_Ascites_F23\n",
       "</pre>\n"
      ],
      "text/plain": [
       "Processed file: /Volumes/Samsung_T5/Spectral_Library/Exp064066_Ascites_F23\n"
      ]
     },
     "metadata": {},
     "output_type": "display_data"
    },
    {
     "data": {
      "text/html": [
       "<pre style=\"white-space:pre;overflow-x:auto;line-height:normal;font-family:Menlo,'DejaVu Sans Mono',consolas,'Courier New',monospace\">Processed file: /Volumes/Samsung_T5/Spectral_Library/Exp064066_Ascites_F27\n",
       "</pre>\n"
      ],
      "text/plain": [
       "Processed file: /Volumes/Samsung_T5/Spectral_Library/Exp064066_Ascites_F27\n"
      ]
     },
     "metadata": {},
     "output_type": "display_data"
    },
    {
     "data": {
      "text/html": [
       "<pre style=\"white-space:pre;overflow-x:auto;line-height:normal;font-family:Menlo,'DejaVu Sans Mono',consolas,'Courier New',monospace\">Processed file: /Volumes/Samsung_T5/Spectral_Library/Exp064066_Ascites_F32\n",
       "</pre>\n"
      ],
      "text/plain": [
       "Processed file: /Volumes/Samsung_T5/Spectral_Library/Exp064066_Ascites_F32\n"
      ]
     },
     "metadata": {},
     "output_type": "display_data"
    },
    {
     "data": {
      "text/html": [
       "<pre style=\"white-space:pre;overflow-x:auto;line-height:normal;font-family:Menlo,'DejaVu Sans Mono',consolas,'Courier New',monospace\">Processed file: /Volumes/Samsung_T5/Spectral_Library/Exp064066_Ascites_F5\n",
       "</pre>\n"
      ],
      "text/plain": [
       "Processed file: /Volumes/Samsung_T5/Spectral_Library/Exp064066_Ascites_F5\n"
      ]
     },
     "metadata": {},
     "output_type": "display_data"
    },
    {
     "data": {
      "text/html": [
       "<pre style=\"white-space:pre;overflow-x:auto;line-height:normal;font-family:Menlo,'DejaVu Sans Mono',consolas,'Courier New',monospace\">Processed file: /Volumes/Samsung_T5/Spectral_Library/Exp064066_Ascites_F33\n",
       "</pre>\n"
      ],
      "text/plain": [
       "Processed file: /Volumes/Samsung_T5/Spectral_Library/Exp064066_Ascites_F33\n"
      ]
     },
     "metadata": {},
     "output_type": "display_data"
    },
    {
     "data": {
      "text/html": [
       "<pre style=\"white-space:pre;overflow-x:auto;line-height:normal;font-family:Menlo,'DejaVu Sans Mono',consolas,'Courier New',monospace\">Processed file: /Volumes/Samsung_T5/Spectral_Library/Exp064066_Ascites_F6\n",
       "</pre>\n"
      ],
      "text/plain": [
       "Processed file: /Volumes/Samsung_T5/Spectral_Library/Exp064066_Ascites_F6\n"
      ]
     },
     "metadata": {},
     "output_type": "display_data"
    },
    {
     "data": {
      "text/html": [
       "<pre style=\"white-space:pre;overflow-x:auto;line-height:normal;font-family:Menlo,'DejaVu Sans Mono',consolas,'Courier New',monospace\">Processed file: /Volumes/Samsung_T5/Spectral_Library/Exp064066_Ascites_F29\n",
       "</pre>\n"
      ],
      "text/plain": [
       "Processed file: /Volumes/Samsung_T5/Spectral_Library/Exp064066_Ascites_F29\n"
      ]
     },
     "metadata": {},
     "output_type": "display_data"
    },
    {
     "data": {
      "text/html": [
       "<pre style=\"white-space:pre;overflow-x:auto;line-height:normal;font-family:Menlo,'DejaVu Sans Mono',consolas,'Courier New',monospace\">Processed file: /Volumes/Samsung_T5/Spectral_Library/Exp064066_Ascites_F28\n",
       "</pre>\n"
      ],
      "text/plain": [
       "Processed file: /Volumes/Samsung_T5/Spectral_Library/Exp064066_Ascites_F28\n"
      ]
     },
     "metadata": {},
     "output_type": "display_data"
    },
    {
     "data": {
      "text/html": [
       "<pre style=\"white-space:pre;overflow-x:auto;line-height:normal;font-family:Menlo,'DejaVu Sans Mono',consolas,'Courier New',monospace\">Processed file: /Volumes/Samsung_T5/Spectral_Library/Exp064066_Ascites_F7\n",
       "</pre>\n"
      ],
      "text/plain": [
       "Processed file: /Volumes/Samsung_T5/Spectral_Library/Exp064066_Ascites_F7\n"
      ]
     },
     "metadata": {},
     "output_type": "display_data"
    },
    {
     "data": {
      "text/html": [
       "<pre style=\"white-space:pre;overflow-x:auto;line-height:normal;font-family:Menlo,'DejaVu Sans Mono',consolas,'Courier New',monospace\">Processed file: /Volumes/Samsung_T5/Spectral_Library/Exp064067_Cerebrospinal_F12\n",
       "</pre>\n"
      ],
      "text/plain": [
       "Processed file: /Volumes/Samsung_T5/Spectral_Library/Exp064067_Cerebrospinal_F12\n"
      ]
     },
     "metadata": {},
     "output_type": "display_data"
    },
    {
     "data": {
      "text/html": [
       "<pre style=\"white-space:pre;overflow-x:auto;line-height:normal;font-family:Menlo,'DejaVu Sans Mono',consolas,'Courier New',monospace\">Processed file: /Volumes/Samsung_T5/Spectral_Library/Exp064067_Cerebrospinal_F11\n",
       "</pre>\n"
      ],
      "text/plain": [
       "Processed file: /Volumes/Samsung_T5/Spectral_Library/Exp064067_Cerebrospinal_F11\n"
      ]
     },
     "metadata": {},
     "output_type": "display_data"
    },
    {
     "data": {
      "text/html": [
       "<pre style=\"white-space:pre;overflow-x:auto;line-height:normal;font-family:Menlo,'DejaVu Sans Mono',consolas,'Courier New',monospace\">Processed file: /Volumes/Samsung_T5/Spectral_Library/Exp064067_Cerebrospinal_F13\n",
       "</pre>\n"
      ],
      "text/plain": [
       "Processed file: /Volumes/Samsung_T5/Spectral_Library/Exp064067_Cerebrospinal_F13\n"
      ]
     },
     "metadata": {},
     "output_type": "display_data"
    },
    {
     "data": {
      "text/html": [
       "<pre style=\"white-space:pre;overflow-x:auto;line-height:normal;font-family:Menlo,'DejaVu Sans Mono',consolas,'Courier New',monospace\">Processed file: /Volumes/Samsung_T5/Spectral_Library/Exp064067_Cerebrospinal_F16\n",
       "</pre>\n"
      ],
      "text/plain": [
       "Processed file: /Volumes/Samsung_T5/Spectral_Library/Exp064067_Cerebrospinal_F16\n"
      ]
     },
     "metadata": {},
     "output_type": "display_data"
    },
    {
     "data": {
      "text/html": [
       "<pre style=\"white-space:pre;overflow-x:auto;line-height:normal;font-family:Menlo,'DejaVu Sans Mono',consolas,'Courier New',monospace\">Processed file: /Volumes/Samsung_T5/Spectral_Library/Exp064067_Cerebrospinal_F14\n",
       "</pre>\n"
      ],
      "text/plain": [
       "Processed file: /Volumes/Samsung_T5/Spectral_Library/Exp064067_Cerebrospinal_F14\n"
      ]
     },
     "metadata": {},
     "output_type": "display_data"
    },
    {
     "data": {
      "text/html": [
       "<pre style=\"white-space:pre;overflow-x:auto;line-height:normal;font-family:Menlo,'DejaVu Sans Mono',consolas,'Courier New',monospace\">Processed file: /Volumes/Samsung_T5/Spectral_Library/Exp064066_Ascites_F8\n",
       "</pre>\n"
      ],
      "text/plain": [
       "Processed file: /Volumes/Samsung_T5/Spectral_Library/Exp064066_Ascites_F8\n"
      ]
     },
     "metadata": {},
     "output_type": "display_data"
    },
    {
     "data": {
      "text/html": [
       "<pre style=\"white-space:pre;overflow-x:auto;line-height:normal;font-family:Menlo,'DejaVu Sans Mono',consolas,'Courier New',monospace\">Processed file: /Volumes/Samsung_T5/Spectral_Library/Exp064067_Cerebrospinal_F1\n",
       "</pre>\n"
      ],
      "text/plain": [
       "Processed file: /Volumes/Samsung_T5/Spectral_Library/Exp064067_Cerebrospinal_F1\n"
      ]
     },
     "metadata": {},
     "output_type": "display_data"
    },
    {
     "data": {
      "text/html": [
       "<pre style=\"white-space:pre;overflow-x:auto;line-height:normal;font-family:Menlo,'DejaVu Sans Mono',consolas,'Courier New',monospace\">Processed file: /Volumes/Samsung_T5/Spectral_Library/Exp064066_Ascites_F9\n",
       "</pre>\n"
      ],
      "text/plain": [
       "Processed file: /Volumes/Samsung_T5/Spectral_Library/Exp064066_Ascites_F9\n"
      ]
     },
     "metadata": {},
     "output_type": "display_data"
    },
    {
     "data": {
      "text/html": [
       "<pre style=\"white-space:pre;overflow-x:auto;line-height:normal;font-family:Menlo,'DejaVu Sans Mono',consolas,'Courier New',monospace\">Processed file: /Volumes/Samsung_T5/Spectral_Library/Exp064067_Cerebrospinal_F10\n",
       "</pre>\n"
      ],
      "text/plain": [
       "Processed file: /Volumes/Samsung_T5/Spectral_Library/Exp064067_Cerebrospinal_F10\n"
      ]
     },
     "metadata": {},
     "output_type": "display_data"
    },
    {
     "data": {
      "text/html": [
       "<pre style=\"white-space:pre;overflow-x:auto;line-height:normal;font-family:Menlo,'DejaVu Sans Mono',consolas,'Courier New',monospace\">Processed file: /Volumes/Samsung_T5/Spectral_Library/Exp064068_Urine_F1\n",
       "</pre>\n"
      ],
      "text/plain": [
       "Processed file: /Volumes/Samsung_T5/Spectral_Library/Exp064068_Urine_F1\n"
      ]
     },
     "metadata": {},
     "output_type": "display_data"
    },
    {
     "data": {
      "text/html": [
       "<pre style=\"white-space:pre;overflow-x:auto;line-height:normal;font-family:Menlo,'DejaVu Sans Mono',consolas,'Courier New',monospace\">Processed file: /Volumes/Samsung_T5/Spectral_Library/Exp064067_Cerebrospinal_F5\n",
       "</pre>\n"
      ],
      "text/plain": [
       "Processed file: /Volumes/Samsung_T5/Spectral_Library/Exp064067_Cerebrospinal_F5\n"
      ]
     },
     "metadata": {},
     "output_type": "display_data"
    },
    {
     "data": {
      "text/html": [
       "<pre style=\"white-space:pre;overflow-x:auto;line-height:normal;font-family:Menlo,'DejaVu Sans Mono',consolas,'Courier New',monospace\">Processed file: /Volumes/Samsung_T5/Spectral_Library/Exp064068_Urine_F14\n",
       "</pre>\n"
      ],
      "text/plain": [
       "Processed file: /Volumes/Samsung_T5/Spectral_Library/Exp064068_Urine_F14\n"
      ]
     },
     "metadata": {},
     "output_type": "display_data"
    },
    {
     "data": {
      "text/html": [
       "<pre style=\"white-space:pre;overflow-x:auto;line-height:normal;font-family:Menlo,'DejaVu Sans Mono',consolas,'Courier New',monospace\">Processed file: /Volumes/Samsung_T5/Spectral_Library/Exp064068_Urine_F10\n",
       "</pre>\n"
      ],
      "text/plain": [
       "Processed file: /Volumes/Samsung_T5/Spectral_Library/Exp064068_Urine_F10\n"
      ]
     },
     "metadata": {},
     "output_type": "display_data"
    },
    {
     "data": {
      "text/html": [
       "<pre style=\"white-space:pre;overflow-x:auto;line-height:normal;font-family:Menlo,'DejaVu Sans Mono',consolas,'Courier New',monospace\">Processed file: /Volumes/Samsung_T5/Spectral_Library/Exp064068_Urine_F11\n",
       "</pre>\n"
      ],
      "text/plain": [
       "Processed file: /Volumes/Samsung_T5/Spectral_Library/Exp064068_Urine_F11\n"
      ]
     },
     "metadata": {},
     "output_type": "display_data"
    },
    {
     "data": {
      "text/html": [
       "<pre style=\"white-space:pre;overflow-x:auto;line-height:normal;font-family:Menlo,'DejaVu Sans Mono',consolas,'Courier New',monospace\">Processed file: /Volumes/Samsung_T5/Spectral_Library/Exp064067_Cerebrospinal_F8\n",
       "</pre>\n"
      ],
      "text/plain": [
       "Processed file: /Volumes/Samsung_T5/Spectral_Library/Exp064067_Cerebrospinal_F8\n"
      ]
     },
     "metadata": {},
     "output_type": "display_data"
    },
    {
     "data": {
      "text/html": [
       "<pre style=\"white-space:pre;overflow-x:auto;line-height:normal;font-family:Menlo,'DejaVu Sans Mono',consolas,'Courier New',monospace\">Processed file: /Volumes/Samsung_T5/Spectral_Library/Exp064067_Cerebrospinal_F6\n",
       "</pre>\n"
      ],
      "text/plain": [
       "Processed file: /Volumes/Samsung_T5/Spectral_Library/Exp064067_Cerebrospinal_F6\n"
      ]
     },
     "metadata": {},
     "output_type": "display_data"
    },
    {
     "data": {
      "text/html": [
       "<pre style=\"white-space:pre;overflow-x:auto;line-height:normal;font-family:Menlo,'DejaVu Sans Mono',consolas,'Courier New',monospace\">Processed file: /Volumes/Samsung_T5/Spectral_Library/Exp064067_Cerebrospinal_F9\n",
       "</pre>\n"
      ],
      "text/plain": [
       "Processed file: /Volumes/Samsung_T5/Spectral_Library/Exp064067_Cerebrospinal_F9\n"
      ]
     },
     "metadata": {},
     "output_type": "display_data"
    },
    {
     "data": {
      "text/html": [
       "<pre style=\"white-space:pre;overflow-x:auto;line-height:normal;font-family:Menlo,'DejaVu Sans Mono',consolas,'Courier New',monospace\">Processed file: /Volumes/Samsung_T5/Spectral_Library/Exp064067_Cerebrospinal_F4\n",
       "</pre>\n"
      ],
      "text/plain": [
       "Processed file: /Volumes/Samsung_T5/Spectral_Library/Exp064067_Cerebrospinal_F4\n"
      ]
     },
     "metadata": {},
     "output_type": "display_data"
    },
    {
     "data": {
      "text/html": [
       "<pre style=\"white-space:pre;overflow-x:auto;line-height:normal;font-family:Menlo,'DejaVu Sans Mono',consolas,'Courier New',monospace\">Processed file: /Volumes/Samsung_T5/Spectral_Library/Exp064067_Cerebrospinal_F7\n",
       "</pre>\n"
      ],
      "text/plain": [
       "Processed file: /Volumes/Samsung_T5/Spectral_Library/Exp064067_Cerebrospinal_F7\n"
      ]
     },
     "metadata": {},
     "output_type": "display_data"
    },
    {
     "data": {
      "text/html": [
       "<pre style=\"white-space:pre;overflow-x:auto;line-height:normal;font-family:Menlo,'DejaVu Sans Mono',consolas,'Courier New',monospace\">Processed file: /Volumes/Samsung_T5/Spectral_Library/Exp064068_Urine_F12\n",
       "</pre>\n"
      ],
      "text/plain": [
       "Processed file: /Volumes/Samsung_T5/Spectral_Library/Exp064068_Urine_F12\n"
      ]
     },
     "metadata": {},
     "output_type": "display_data"
    },
    {
     "data": {
      "text/html": [
       "<pre style=\"white-space:pre;overflow-x:auto;line-height:normal;font-family:Menlo,'DejaVu Sans Mono',consolas,'Courier New',monospace\">Processed file: /Volumes/Samsung_T5/Spectral_Library/Exp064068_Urine_F13\n",
       "</pre>\n"
      ],
      "text/plain": [
       "Processed file: /Volumes/Samsung_T5/Spectral_Library/Exp064068_Urine_F13\n"
      ]
     },
     "metadata": {},
     "output_type": "display_data"
    },
    {
     "data": {
      "text/html": [
       "<pre style=\"white-space:pre;overflow-x:auto;line-height:normal;font-family:Menlo,'DejaVu Sans Mono',consolas,'Courier New',monospace\">Processed file: /Volumes/Samsung_T5/Spectral_Library/Exp064068_Urine_F2\n",
       "</pre>\n"
      ],
      "text/plain": [
       "Processed file: /Volumes/Samsung_T5/Spectral_Library/Exp064068_Urine_F2\n"
      ]
     },
     "metadata": {},
     "output_type": "display_data"
    },
    {
     "data": {
      "text/html": [
       "<pre style=\"white-space:pre;overflow-x:auto;line-height:normal;font-family:Menlo,'DejaVu Sans Mono',consolas,'Courier New',monospace\">Processed file: /Volumes/Samsung_T5/Spectral_Library/Exp064067_Cerebrospinal_F2\n",
       "</pre>\n"
      ],
      "text/plain": [
       "Processed file: /Volumes/Samsung_T5/Spectral_Library/Exp064067_Cerebrospinal_F2\n"
      ]
     },
     "metadata": {},
     "output_type": "display_data"
    },
    {
     "data": {
      "text/html": [
       "<pre style=\"white-space:pre;overflow-x:auto;line-height:normal;font-family:Menlo,'DejaVu Sans Mono',consolas,'Courier New',monospace\">Processed file: /Volumes/Samsung_T5/Spectral_Library/Exp064067_Cerebrospinal_F3\n",
       "</pre>\n"
      ],
      "text/plain": [
       "Processed file: /Volumes/Samsung_T5/Spectral_Library/Exp064067_Cerebrospinal_F3\n"
      ]
     },
     "metadata": {},
     "output_type": "display_data"
    },
    {
     "data": {
      "text/html": [
       "<pre style=\"white-space:pre;overflow-x:auto;line-height:normal;font-family:Menlo,'DejaVu Sans Mono',consolas,'Courier New',monospace\">Processed file: /Volumes/Samsung_T5/Spectral_Library/Exp064068_Urine_F16\n",
       "</pre>\n"
      ],
      "text/plain": [
       "Processed file: /Volumes/Samsung_T5/Spectral_Library/Exp064068_Urine_F16\n"
      ]
     },
     "metadata": {},
     "output_type": "display_data"
    },
    {
     "data": {
      "text/html": [
       "<pre style=\"white-space:pre;overflow-x:auto;line-height:normal;font-family:Menlo,'DejaVu Sans Mono',consolas,'Courier New',monospace\">Processed file: /Volumes/Samsung_T5/Spectral_Library/Exp064068_Urine_F7\n",
       "</pre>\n"
      ],
      "text/plain": [
       "Processed file: /Volumes/Samsung_T5/Spectral_Library/Exp064068_Urine_F7\n"
      ]
     },
     "metadata": {},
     "output_type": "display_data"
    },
    {
     "data": {
      "text/html": [
       "<pre style=\"white-space:pre;overflow-x:auto;line-height:normal;font-family:Menlo,'DejaVu Sans Mono',consolas,'Courier New',monospace\">Processed file: /Volumes/Samsung_T5/Spectral_Library/Exp064068_Urine_F17\n",
       "</pre>\n"
      ],
      "text/plain": [
       "Processed file: /Volumes/Samsung_T5/Spectral_Library/Exp064068_Urine_F17\n"
      ]
     },
     "metadata": {},
     "output_type": "display_data"
    },
    {
     "data": {
      "text/html": [
       "<pre style=\"white-space:pre;overflow-x:auto;line-height:normal;font-family:Menlo,'DejaVu Sans Mono',consolas,'Courier New',monospace\">Processed file: /Volumes/Samsung_T5/Spectral_Library/Exp064068_Urine_F15\n",
       "</pre>\n"
      ],
      "text/plain": [
       "Processed file: /Volumes/Samsung_T5/Spectral_Library/Exp064068_Urine_F15\n"
      ]
     },
     "metadata": {},
     "output_type": "display_data"
    },
    {
     "data": {
      "text/html": [
       "<pre style=\"white-space:pre;overflow-x:auto;line-height:normal;font-family:Menlo,'DejaVu Sans Mono',consolas,'Courier New',monospace\">Processed file: /Volumes/Samsung_T5/Spectral_Library/Exp064068_Urine_F4\n",
       "</pre>\n"
      ],
      "text/plain": [
       "Processed file: /Volumes/Samsung_T5/Spectral_Library/Exp064068_Urine_F4\n"
      ]
     },
     "metadata": {},
     "output_type": "display_data"
    },
    {
     "data": {
      "text/html": [
       "<pre style=\"white-space:pre;overflow-x:auto;line-height:normal;font-family:Menlo,'DejaVu Sans Mono',consolas,'Courier New',monospace\">Processed file: /Volumes/Samsung_T5/Spectral_Library/Exp068451_SerumOne_F4\n",
       "</pre>\n"
      ],
      "text/plain": [
       "Processed file: /Volumes/Samsung_T5/Spectral_Library/Exp068451_SerumOne_F4\n"
      ]
     },
     "metadata": {},
     "output_type": "display_data"
    },
    {
     "data": {
      "text/html": [
       "<pre style=\"white-space:pre;overflow-x:auto;line-height:normal;font-family:Menlo,'DejaVu Sans Mono',consolas,'Courier New',monospace\">Processed file: /Volumes/Samsung_T5/Spectral_Library/Exp068451_SerumOne_F2\n",
       "</pre>\n"
      ],
      "text/plain": [
       "Processed file: /Volumes/Samsung_T5/Spectral_Library/Exp068451_SerumOne_F2\n"
      ]
     },
     "metadata": {},
     "output_type": "display_data"
    },
    {
     "data": {
      "text/html": [
       "<pre style=\"white-space:pre;overflow-x:auto;line-height:normal;font-family:Menlo,'DejaVu Sans Mono',consolas,'Courier New',monospace\">Processed file: /Volumes/Samsung_T5/Spectral_Library/Exp068451_SerumOne_F6\n",
       "</pre>\n"
      ],
      "text/plain": [
       "Processed file: /Volumes/Samsung_T5/Spectral_Library/Exp068451_SerumOne_F6\n"
      ]
     },
     "metadata": {},
     "output_type": "display_data"
    },
    {
     "data": {
      "text/html": [
       "<pre style=\"white-space:pre;overflow-x:auto;line-height:normal;font-family:Menlo,'DejaVu Sans Mono',consolas,'Courier New',monospace\">Processed file: /Volumes/Samsung_T5/Spectral_Library/Exp068451_SerumOne_F3\n",
       "</pre>\n"
      ],
      "text/plain": [
       "Processed file: /Volumes/Samsung_T5/Spectral_Library/Exp068451_SerumOne_F3\n"
      ]
     },
     "metadata": {},
     "output_type": "display_data"
    },
    {
     "data": {
      "text/html": [
       "<pre style=\"white-space:pre;overflow-x:auto;line-height:normal;font-family:Menlo,'DejaVu Sans Mono',consolas,'Courier New',monospace\">Processed file: /Volumes/Samsung_T5/Spectral_Library/Exp068451_SerumOne_F7\n",
       "</pre>\n"
      ],
      "text/plain": [
       "Processed file: /Volumes/Samsung_T5/Spectral_Library/Exp068451_SerumOne_F7\n"
      ]
     },
     "metadata": {},
     "output_type": "display_data"
    },
    {
     "data": {
      "text/html": [
       "<pre style=\"white-space:pre;overflow-x:auto;line-height:normal;font-family:Menlo,'DejaVu Sans Mono',consolas,'Courier New',monospace\">Processed file: /Volumes/Samsung_T5/Spectral_Library/Exp064068_Urine_F9\n",
       "</pre>\n"
      ],
      "text/plain": [
       "Processed file: /Volumes/Samsung_T5/Spectral_Library/Exp064068_Urine_F9\n"
      ]
     },
     "metadata": {},
     "output_type": "display_data"
    },
    {
     "data": {
      "text/html": [
       "<pre style=\"white-space:pre;overflow-x:auto;line-height:normal;font-family:Menlo,'DejaVu Sans Mono',consolas,'Courier New',monospace\">Processed file: /Volumes/Samsung_T5/Spectral_Library/Exp068451_SerumOne_F5\n",
       "</pre>\n"
      ],
      "text/plain": [
       "Processed file: /Volumes/Samsung_T5/Spectral_Library/Exp068451_SerumOne_F5\n"
      ]
     },
     "metadata": {},
     "output_type": "display_data"
    },
    {
     "data": {
      "text/html": [
       "<pre style=\"white-space:pre;overflow-x:auto;line-height:normal;font-family:Menlo,'DejaVu Sans Mono',consolas,'Courier New',monospace\">Processed file: /Volumes/Samsung_T5/Spectral_Library/Exp068451_SerumOne_F1\n",
       "</pre>\n"
      ],
      "text/plain": [
       "Processed file: /Volumes/Samsung_T5/Spectral_Library/Exp068451_SerumOne_F1\n"
      ]
     },
     "metadata": {},
     "output_type": "display_data"
    },
    {
     "data": {
      "text/html": [
       "<pre style=\"white-space:pre;overflow-x:auto;line-height:normal;font-family:Menlo,'DejaVu Sans Mono',consolas,'Courier New',monospace\">Processed file: /Volumes/Samsung_T5/Spectral_Library/Exp064068_Urine_F5\n",
       "</pre>\n"
      ],
      "text/plain": [
       "Processed file: /Volumes/Samsung_T5/Spectral_Library/Exp064068_Urine_F5\n"
      ]
     },
     "metadata": {},
     "output_type": "display_data"
    },
    {
     "data": {
      "text/html": [
       "<pre style=\"white-space:pre;overflow-x:auto;line-height:normal;font-family:Menlo,'DejaVu Sans Mono',consolas,'Courier New',monospace\">Processed file: /Volumes/Samsung_T5/Spectral_Library/GC_033294\n",
       "</pre>\n"
      ],
      "text/plain": [
       "Processed file: /Volumes/Samsung_T5/Spectral_Library/GC_033294\n"
      ]
     },
     "metadata": {},
     "output_type": "display_data"
    },
    {
     "data": {
      "text/html": [
       "<pre style=\"white-space:pre;overflow-x:auto;line-height:normal;font-family:Menlo,'DejaVu Sans Mono',consolas,'Courier New',monospace\">Processed file: /Volumes/Samsung_T5/Spectral_Library/GC_034531\n",
       "</pre>\n"
      ],
      "text/plain": [
       "Processed file: /Volumes/Samsung_T5/Spectral_Library/GC_034531\n"
      ]
     },
     "metadata": {},
     "output_type": "display_data"
    },
    {
     "data": {
      "text/html": [
       "<pre style=\"white-space:pre;overflow-x:auto;line-height:normal;font-family:Menlo,'DejaVu Sans Mono',consolas,'Courier New',monospace\">Processed file: /Volumes/Samsung_T5/Spectral_Library/GC_033296\n",
       "</pre>\n"
      ],
      "text/plain": [
       "Processed file: /Volumes/Samsung_T5/Spectral_Library/GC_033296\n"
      ]
     },
     "metadata": {},
     "output_type": "display_data"
    },
    {
     "data": {
      "text/html": [
       "<pre style=\"white-space:pre;overflow-x:auto;line-height:normal;font-family:Menlo,'DejaVu Sans Mono',consolas,'Courier New',monospace\">Processed file: /Volumes/Samsung_T5/Spectral_Library/GC_034528\n",
       "</pre>\n"
      ],
      "text/plain": [
       "Processed file: /Volumes/Samsung_T5/Spectral_Library/GC_034528\n"
      ]
     },
     "metadata": {},
     "output_type": "display_data"
    },
    {
     "data": {
      "text/html": [
       "<pre style=\"white-space:pre;overflow-x:auto;line-height:normal;font-family:Menlo,'DejaVu Sans Mono',consolas,'Courier New',monospace\">Processed file: /Volumes/Samsung_T5/Spectral_Library/GC_034530\n",
       "</pre>\n"
      ],
      "text/plain": [
       "Processed file: /Volumes/Samsung_T5/Spectral_Library/GC_034530\n"
      ]
     },
     "metadata": {},
     "output_type": "display_data"
    },
    {
     "data": {
      "text/html": [
       "<pre style=\"white-space:pre;overflow-x:auto;line-height:normal;font-family:Menlo,'DejaVu Sans Mono',consolas,'Courier New',monospace\">Processed file: /Volumes/Samsung_T5/Spectral_Library/GC_034527\n",
       "</pre>\n"
      ],
      "text/plain": [
       "Processed file: /Volumes/Samsung_T5/Spectral_Library/GC_034527\n"
      ]
     },
     "metadata": {},
     "output_type": "display_data"
    },
    {
     "data": {
      "text/html": [
       "<pre style=\"white-space:pre;overflow-x:auto;line-height:normal;font-family:Menlo,'DejaVu Sans Mono',consolas,'Courier New',monospace\">Processed file: /Volumes/Samsung_T5/Spectral_Library/GBC_053058\n",
       "</pre>\n"
      ],
      "text/plain": [
       "Processed file: /Volumes/Samsung_T5/Spectral_Library/GBC_053058\n"
      ]
     },
     "metadata": {},
     "output_type": "display_data"
    },
    {
     "data": {
      "text/html": [
       "<pre style=\"white-space:pre;overflow-x:auto;line-height:normal;font-family:Menlo,'DejaVu Sans Mono',consolas,'Courier New',monospace\">Processed file: /Volumes/Samsung_T5/Spectral_Library/GBC_053056\n",
       "</pre>\n"
      ],
      "text/plain": [
       "Processed file: /Volumes/Samsung_T5/Spectral_Library/GBC_053056\n"
      ]
     },
     "metadata": {},
     "output_type": "display_data"
    },
    {
     "data": {
      "text/html": [
       "<pre style=\"white-space:pre;overflow-x:auto;line-height:normal;font-family:Menlo,'DejaVu Sans Mono',consolas,'Courier New',monospace\">Processed file: /Volumes/Samsung_T5/Spectral_Library/GC_041347\n",
       "</pre>\n"
      ],
      "text/plain": [
       "Processed file: /Volumes/Samsung_T5/Spectral_Library/GC_041347\n"
      ]
     },
     "metadata": {},
     "output_type": "display_data"
    },
    {
     "data": {
      "text/html": [
       "<pre style=\"white-space:pre;overflow-x:auto;line-height:normal;font-family:Menlo,'DejaVu Sans Mono',consolas,'Courier New',monospace\">Processed file: /Volumes/Samsung_T5/Spectral_Library/Glioma_040848\n",
       "</pre>\n"
      ],
      "text/plain": [
       "Processed file: /Volumes/Samsung_T5/Spectral_Library/Glioma_040848\n"
      ]
     },
     "metadata": {},
     "output_type": "display_data"
    },
    {
     "data": {
      "text/html": [
       "<pre style=\"white-space:pre;overflow-x:auto;line-height:normal;font-family:Menlo,'DejaVu Sans Mono',consolas,'Courier New',monospace\">Processed file: /Volumes/Samsung_T5/Spectral_Library/Glioma_036297\n",
       "</pre>\n"
      ],
      "text/plain": [
       "Processed file: /Volumes/Samsung_T5/Spectral_Library/Glioma_036297\n"
      ]
     },
     "metadata": {},
     "output_type": "display_data"
    },
    {
     "data": {
      "text/html": [
       "<pre style=\"white-space:pre;overflow-x:auto;line-height:normal;font-family:Menlo,'DejaVu Sans Mono',consolas,'Courier New',monospace\">Processed file: /Volumes/Samsung_T5/Spectral_Library/Glioma_033947\n",
       "</pre>\n"
      ],
      "text/plain": [
       "Processed file: /Volumes/Samsung_T5/Spectral_Library/Glioma_033947\n"
      ]
     },
     "metadata": {},
     "output_type": "display_data"
    },
    {
     "data": {
      "text/html": [
       "<pre style=\"white-space:pre;overflow-x:auto;line-height:normal;font-family:Menlo,'DejaVu Sans Mono',consolas,'Courier New',monospace\">Processed file: /Volumes/Samsung_T5/Spectral_Library/Glioma_036311\n",
       "</pre>\n"
      ],
      "text/plain": [
       "Processed file: /Volumes/Samsung_T5/Spectral_Library/Glioma_036311\n"
      ]
     },
     "metadata": {},
     "output_type": "display_data"
    },
    {
     "data": {
      "text/html": [
       "<pre style=\"white-space:pre;overflow-x:auto;line-height:normal;font-family:Menlo,'DejaVu Sans Mono',consolas,'Courier New',monospace\">Processed file: /Volumes/Samsung_T5/Spectral_Library/Glioma_034628\n",
       "</pre>\n"
      ],
      "text/plain": [
       "Processed file: /Volumes/Samsung_T5/Spectral_Library/Glioma_034628\n"
      ]
     },
     "metadata": {},
     "output_type": "display_data"
    },
    {
     "data": {
      "text/html": [
       "<pre style=\"white-space:pre;overflow-x:auto;line-height:normal;font-family:Menlo,'DejaVu Sans Mono',consolas,'Courier New',monospace\">Processed file: /Volumes/Samsung_T5/Spectral_Library/Glioma_040822\n",
       "</pre>\n"
      ],
      "text/plain": [
       "Processed file: /Volumes/Samsung_T5/Spectral_Library/Glioma_040822\n"
      ]
     },
     "metadata": {},
     "output_type": "display_data"
    },
    {
     "data": {
      "text/html": [
       "<pre style=\"white-space:pre;overflow-x:auto;line-height:normal;font-family:Menlo,'DejaVu Sans Mono',consolas,'Courier New',monospace\">Processed file: /Volumes/Samsung_T5/Spectral_Library/Glioma_047482\n",
       "</pre>\n"
      ],
      "text/plain": [
       "Processed file: /Volumes/Samsung_T5/Spectral_Library/Glioma_047482\n"
      ]
     },
     "metadata": {},
     "output_type": "display_data"
    },
    {
     "data": {
      "text/html": [
       "<pre style=\"white-space:pre;overflow-x:auto;line-height:normal;font-family:Menlo,'DejaVu Sans Mono',consolas,'Courier New',monospace\">Processed file: /Volumes/Samsung_T5/Spectral_Library/Glioma_040841\n",
       "</pre>\n"
      ],
      "text/plain": [
       "Processed file: /Volumes/Samsung_T5/Spectral_Library/Glioma_040841\n"
      ]
     },
     "metadata": {},
     "output_type": "display_data"
    },
    {
     "data": {
      "text/html": [
       "<pre style=\"white-space:pre;overflow-x:auto;line-height:normal;font-family:Menlo,'DejaVu Sans Mono',consolas,'Courier New',monospace\">Processed file: /Volumes/Samsung_T5/Spectral_Library/Glioma_040858\n",
       "</pre>\n"
      ],
      "text/plain": [
       "Processed file: /Volumes/Samsung_T5/Spectral_Library/Glioma_040858\n"
      ]
     },
     "metadata": {},
     "output_type": "display_data"
    },
    {
     "data": {
      "text/html": [
       "<pre style=\"white-space:pre;overflow-x:auto;line-height:normal;font-family:Menlo,'DejaVu Sans Mono',consolas,'Courier New',monospace\">Processed file: /Volumes/Samsung_T5/Spectral_Library/Glioma_047485\n",
       "</pre>\n"
      ],
      "text/plain": [
       "Processed file: /Volumes/Samsung_T5/Spectral_Library/Glioma_047485\n"
      ]
     },
     "metadata": {},
     "output_type": "display_data"
    },
    {
     "data": {
      "text/html": [
       "<pre style=\"white-space:pre;overflow-x:auto;line-height:normal;font-family:Menlo,'DejaVu Sans Mono',consolas,'Courier New',monospace\">Processed file: /Volumes/Samsung_T5/Spectral_Library/Lung_058662\n",
       "</pre>\n"
      ],
      "text/plain": [
       "Processed file: /Volumes/Samsung_T5/Spectral_Library/Lung_058662\n"
      ]
     },
     "metadata": {},
     "output_type": "display_data"
    },
    {
     "data": {
      "text/html": [
       "<pre style=\"white-space:pre;overflow-x:auto;line-height:normal;font-family:Menlo,'DejaVu Sans Mono',consolas,'Courier New',monospace\">Processed file: /Volumes/Samsung_T5/Spectral_Library/Lung_060594\n",
       "</pre>\n"
      ],
      "text/plain": [
       "Processed file: /Volumes/Samsung_T5/Spectral_Library/Lung_060594\n"
      ]
     },
     "metadata": {},
     "output_type": "display_data"
    },
    {
     "data": {
      "text/html": [
       "<pre style=\"white-space:pre;overflow-x:auto;line-height:normal;font-family:Menlo,'DejaVu Sans Mono',consolas,'Courier New',monospace\">Processed file: /Volumes/Samsung_T5/Spectral_Library/Kidney_034224\n",
       "</pre>\n"
      ],
      "text/plain": [
       "Processed file: /Volumes/Samsung_T5/Spectral_Library/Kidney_034224\n"
      ]
     },
     "metadata": {},
     "output_type": "display_data"
    },
    {
     "data": {
      "text/html": [
       "<pre style=\"white-space:pre;overflow-x:auto;line-height:normal;font-family:Menlo,'DejaVu Sans Mono',consolas,'Courier New',monospace\">Processed file: /Volumes/Samsung_T5/Spectral_Library/Lung_055948\n",
       "</pre>\n"
      ],
      "text/plain": [
       "Processed file: /Volumes/Samsung_T5/Spectral_Library/Lung_055948\n"
      ]
     },
     "metadata": {},
     "output_type": "display_data"
    },
    {
     "data": {
      "text/html": [
       "<pre style=\"white-space:pre;overflow-x:auto;line-height:normal;font-family:Menlo,'DejaVu Sans Mono',consolas,'Courier New',monospace\">Processed file: /Volumes/Samsung_T5/Spectral_Library/Lung_058665\n",
       "</pre>\n"
      ],
      "text/plain": [
       "Processed file: /Volumes/Samsung_T5/Spectral_Library/Lung_058665\n"
      ]
     },
     "metadata": {},
     "output_type": "display_data"
    },
    {
     "data": {
      "text/html": [
       "<pre style=\"white-space:pre;overflow-x:auto;line-height:normal;font-family:Menlo,'DejaVu Sans Mono',consolas,'Courier New',monospace\">Processed file: /Volumes/Samsung_T5/Spectral_Library/Lung_058670\n",
       "</pre>\n"
      ],
      "text/plain": [
       "Processed file: /Volumes/Samsung_T5/Spectral_Library/Lung_058670\n"
      ]
     },
     "metadata": {},
     "output_type": "display_data"
    },
    {
     "data": {
      "text/html": [
       "<pre style=\"white-space:pre;overflow-x:auto;line-height:normal;font-family:Menlo,'DejaVu Sans Mono',consolas,'Courier New',monospace\">Processed file: /Volumes/Samsung_T5/Spectral_Library/Kidney_034441\n",
       "</pre>\n"
      ],
      "text/plain": [
       "Processed file: /Volumes/Samsung_T5/Spectral_Library/Kidney_034441\n"
      ]
     },
     "metadata": {},
     "output_type": "display_data"
    },
    {
     "data": {
      "text/html": [
       "<pre style=\"white-space:pre;overflow-x:auto;line-height:normal;font-family:Menlo,'DejaVu Sans Mono',consolas,'Courier New',monospace\">Processed file: /Volumes/Samsung_T5/Spectral_Library/Kidney_038550\n",
       "</pre>\n"
      ],
      "text/plain": [
       "Processed file: /Volumes/Samsung_T5/Spectral_Library/Kidney_038550\n"
      ]
     },
     "metadata": {},
     "output_type": "display_data"
    },
    {
     "data": {
      "text/html": [
       "<pre style=\"white-space:pre;overflow-x:auto;line-height:normal;font-family:Menlo,'DejaVu Sans Mono',consolas,'Courier New',monospace\">Processed file: /Volumes/Samsung_T5/Spectral_Library/Kidney_038552\n",
       "</pre>\n"
      ],
      "text/plain": [
       "Processed file: /Volumes/Samsung_T5/Spectral_Library/Kidney_038552\n"
      ]
     },
     "metadata": {},
     "output_type": "display_data"
    },
    {
     "data": {
      "text/html": [
       "<pre style=\"white-space:pre;overflow-x:auto;line-height:normal;font-family:Menlo,'DejaVu Sans Mono',consolas,'Courier New',monospace\">Processed file: /Volumes/Samsung_T5/Spectral_Library/Kidney_034460\n",
       "</pre>\n"
      ],
      "text/plain": [
       "Processed file: /Volumes/Samsung_T5/Spectral_Library/Kidney_034460\n"
      ]
     },
     "metadata": {},
     "output_type": "display_data"
    },
    {
     "data": {
      "text/html": [
       "<pre style=\"white-space:pre;overflow-x:auto;line-height:normal;font-family:Menlo,'DejaVu Sans Mono',consolas,'Courier New',monospace\">Processed file: /Volumes/Samsung_T5/Spectral_Library/Kidney_038553\n",
       "</pre>\n"
      ],
      "text/plain": [
       "Processed file: /Volumes/Samsung_T5/Spectral_Library/Kidney_038553\n"
      ]
     },
     "metadata": {},
     "output_type": "display_data"
    },
    {
     "data": {
      "text/html": [
       "<pre style=\"white-space:pre;overflow-x:auto;line-height:normal;font-family:Menlo,'DejaVu Sans Mono',consolas,'Courier New',monospace\">Processed file: /Volumes/Samsung_T5/Spectral_Library/Kidney_038620\n",
       "</pre>\n"
      ],
      "text/plain": [
       "Processed file: /Volumes/Samsung_T5/Spectral_Library/Kidney_038620\n"
      ]
     },
     "metadata": {},
     "output_type": "display_data"
    },
    {
     "data": {
      "text/html": [
       "<pre style=\"white-space:pre;overflow-x:auto;line-height:normal;font-family:Menlo,'DejaVu Sans Mono',consolas,'Courier New',monospace\">Processed file: /Volumes/Samsung_T5/Spectral_Library/Kidney_038576\n",
       "</pre>\n"
      ],
      "text/plain": [
       "Processed file: /Volumes/Samsung_T5/Spectral_Library/Kidney_038576\n"
      ]
     },
     "metadata": {},
     "output_type": "display_data"
    },
    {
     "data": {
      "text/html": [
       "<pre style=\"white-space:pre;overflow-x:auto;line-height:normal;font-family:Menlo,'DejaVu Sans Mono',consolas,'Courier New',monospace\">Processed file: /Volumes/Samsung_T5/Spectral_Library/Lung_063926\n",
       "</pre>\n"
      ],
      "text/plain": [
       "Processed file: /Volumes/Samsung_T5/Spectral_Library/Lung_063926\n"
      ]
     },
     "metadata": {},
     "output_type": "display_data"
    },
    {
     "data": {
      "text/html": [
       "<pre style=\"white-space:pre;overflow-x:auto;line-height:normal;font-family:Menlo,'DejaVu Sans Mono',consolas,'Courier New',monospace\">Processed file: /Volumes/Samsung_T5/Spectral_Library/Lung_063921\n",
       "</pre>\n"
      ],
      "text/plain": [
       "Processed file: /Volumes/Samsung_T5/Spectral_Library/Lung_063921\n"
      ]
     },
     "metadata": {},
     "output_type": "display_data"
    },
    {
     "data": {
      "text/html": [
       "<pre style=\"white-space:pre;overflow-x:auto;line-height:normal;font-family:Menlo,'DejaVu Sans Mono',consolas,'Courier New',monospace\">Processed file: /Volumes/Samsung_T5/Spectral_Library/Lung_063896\n",
       "</pre>\n"
      ],
      "text/plain": [
       "Processed file: /Volumes/Samsung_T5/Spectral_Library/Lung_063896\n"
      ]
     },
     "metadata": {},
     "output_type": "display_data"
    },
    {
     "data": {
      "text/html": [
       "<pre style=\"white-space:pre;overflow-x:auto;line-height:normal;font-family:Menlo,'DejaVu Sans Mono',consolas,'Courier New',monospace\">Processed file: /Volumes/Samsung_T5/Spectral_Library/Lung_063923\n",
       "</pre>\n"
      ],
      "text/plain": [
       "Processed file: /Volumes/Samsung_T5/Spectral_Library/Lung_063923\n"
      ]
     },
     "metadata": {},
     "output_type": "display_data"
    },
    {
     "data": {
      "text/html": [
       "<pre style=\"white-space:pre;overflow-x:auto;line-height:normal;font-family:Menlo,'DejaVu Sans Mono',consolas,'Courier New',monospace\">Processed file: /Volumes/Samsung_T5/Spectral_Library/Lung_063922\n",
       "</pre>\n"
      ],
      "text/plain": [
       "Processed file: /Volumes/Samsung_T5/Spectral_Library/Lung_063922\n"
      ]
     },
     "metadata": {},
     "output_type": "display_data"
    },
    {
     "data": {
      "text/html": [
       "<pre style=\"white-space:pre;overflow-x:auto;line-height:normal;font-family:Menlo,'DejaVu Sans Mono',consolas,'Courier New',monospace\">Processed file: /Volumes/Samsung_T5/Spectral_Library/Neuroblastoma_035922\n",
       "</pre>\n"
      ],
      "text/plain": [
       "Processed file: /Volumes/Samsung_T5/Spectral_Library/Neuroblastoma_035922\n"
      ]
     },
     "metadata": {},
     "output_type": "display_data"
    },
    {
     "data": {
      "text/html": [
       "<pre style=\"white-space:pre;overflow-x:auto;line-height:normal;font-family:Menlo,'DejaVu Sans Mono',consolas,'Courier New',monospace\">Processed file: /Volumes/Samsung_T5/Spectral_Library/Lung_064626\n",
       "</pre>\n"
      ],
      "text/plain": [
       "Processed file: /Volumes/Samsung_T5/Spectral_Library/Lung_064626\n"
      ]
     },
     "metadata": {},
     "output_type": "display_data"
    },
    {
     "data": {
      "text/html": [
       "<pre style=\"white-space:pre;overflow-x:auto;line-height:normal;font-family:Menlo,'DejaVu Sans Mono',consolas,'Courier New',monospace\">Processed file: /Volumes/Samsung_T5/Spectral_Library/Neuroblastoma_035921\n",
       "</pre>\n"
      ],
      "text/plain": [
       "Processed file: /Volumes/Samsung_T5/Spectral_Library/Neuroblastoma_035921\n"
      ]
     },
     "metadata": {},
     "output_type": "display_data"
    },
    {
     "data": {
      "text/html": [
       "<pre style=\"white-space:pre;overflow-x:auto;line-height:normal;font-family:Menlo,'DejaVu Sans Mono',consolas,'Courier New',monospace\">Processed file: /Volumes/Samsung_T5/Spectral_Library/Pancreas_045843\n",
       "</pre>\n"
      ],
      "text/plain": [
       "Processed file: /Volumes/Samsung_T5/Spectral_Library/Pancreas_045843\n"
      ]
     },
     "metadata": {},
     "output_type": "display_data"
    },
    {
     "data": {
      "text/html": [
       "<pre style=\"white-space:pre;overflow-x:auto;line-height:normal;font-family:Menlo,'DejaVu Sans Mono',consolas,'Courier New',monospace\">Processed file: /Volumes/Samsung_T5/Spectral_Library/Pancreas_045848\n",
       "</pre>\n"
      ],
      "text/plain": [
       "Processed file: /Volumes/Samsung_T5/Spectral_Library/Pancreas_045848\n"
      ]
     },
     "metadata": {},
     "output_type": "display_data"
    },
    {
     "data": {
      "text/html": [
       "<pre style=\"white-space:pre;overflow-x:auto;line-height:normal;font-family:Menlo,'DejaVu Sans Mono',consolas,'Courier New',monospace\">Processed file: /Volumes/Samsung_T5/Spectral_Library/Pancreas_048082\n",
       "</pre>\n"
      ],
      "text/plain": [
       "Processed file: /Volumes/Samsung_T5/Spectral_Library/Pancreas_048082\n"
      ]
     },
     "metadata": {},
     "output_type": "display_data"
    },
    {
     "data": {
      "text/html": [
       "<pre style=\"white-space:pre;overflow-x:auto;line-height:normal;font-family:Menlo,'DejaVu Sans Mono',consolas,'Courier New',monospace\">Processed file: /Volumes/Samsung_T5/Spectral_Library/Pancreas_045164\n",
       "</pre>\n"
      ],
      "text/plain": [
       "Processed file: /Volumes/Samsung_T5/Spectral_Library/Pancreas_045164\n"
      ]
     },
     "metadata": {},
     "output_type": "display_data"
    },
    {
     "data": {
      "text/html": [
       "<pre style=\"white-space:pre;overflow-x:auto;line-height:normal;font-family:Menlo,'DejaVu Sans Mono',consolas,'Courier New',monospace\">Processed file: /Volumes/Samsung_T5/Spectral_Library/Pancreas_051602\n",
       "</pre>\n"
      ],
      "text/plain": [
       "Processed file: /Volumes/Samsung_T5/Spectral_Library/Pancreas_051602\n"
      ]
     },
     "metadata": {},
     "output_type": "display_data"
    },
    {
     "data": {
      "text/html": [
       "<pre style=\"white-space:pre;overflow-x:auto;line-height:normal;font-family:Menlo,'DejaVu Sans Mono',consolas,'Courier New',monospace\">Processed file: /Volumes/Samsung_T5/Spectral_Library/Pancreas_055665\n",
       "</pre>\n"
      ],
      "text/plain": [
       "Processed file: /Volumes/Samsung_T5/Spectral_Library/Pancreas_055665\n"
      ]
     },
     "metadata": {},
     "output_type": "display_data"
    },
    {
     "data": {
      "text/html": [
       "<pre style=\"white-space:pre;overflow-x:auto;line-height:normal;font-family:Menlo,'DejaVu Sans Mono',consolas,'Courier New',monospace\">Processed file: /Volumes/Samsung_T5/Spectral_Library/Pancreas_055666\n",
       "</pre>\n"
      ],
      "text/plain": [
       "Processed file: /Volumes/Samsung_T5/Spectral_Library/Pancreas_055666\n"
      ]
     },
     "metadata": {},
     "output_type": "display_data"
    },
    {
     "data": {
      "text/html": [
       "<pre style=\"white-space:pre;overflow-x:auto;line-height:normal;font-family:Menlo,'DejaVu Sans Mono',consolas,'Courier New',monospace\">Processed file: /Volumes/Samsung_T5/Spectral_Library/Pancreas_055668\n",
       "</pre>\n"
      ],
      "text/plain": [
       "Processed file: /Volumes/Samsung_T5/Spectral_Library/Pancreas_055668\n"
      ]
     },
     "metadata": {},
     "output_type": "display_data"
    },
    {
     "data": {
      "text/html": [
       "<pre style=\"white-space:pre;overflow-x:auto;line-height:normal;font-family:Menlo,'DejaVu Sans Mono',consolas,'Courier New',monospace\">Processed file: /Volumes/Samsung_T5/Spectral_Library/Pancreas_055669\n",
       "</pre>\n"
      ],
      "text/plain": [
       "Processed file: /Volumes/Samsung_T5/Spectral_Library/Pancreas_055669\n"
      ]
     },
     "metadata": {},
     "output_type": "display_data"
    },
    {
     "data": {
      "text/html": [
       "<pre style=\"white-space:pre;overflow-x:auto;line-height:normal;font-family:Menlo,'DejaVu Sans Mono',consolas,'Courier New',monospace\">Processed file: /Volumes/Samsung_T5/Spectral_Library/UC_062788\n",
       "</pre>\n"
      ],
      "text/plain": [
       "Processed file: /Volumes/Samsung_T5/Spectral_Library/UC_062788\n"
      ]
     },
     "metadata": {},
     "output_type": "display_data"
    },
    {
     "data": {
      "text/html": [
       "<pre style=\"white-space:pre;overflow-x:auto;line-height:normal;font-family:Menlo,'DejaVu Sans Mono',consolas,'Courier New',monospace\">Processed file: /Volumes/Samsung_T5/Spectral_Library/UC_061629\n",
       "</pre>\n"
      ],
      "text/plain": [
       "Processed file: /Volumes/Samsung_T5/Spectral_Library/UC_061629\n"
      ]
     },
     "metadata": {},
     "output_type": "display_data"
    },
    {
     "data": {
      "text/html": [
       "<pre style=\"white-space:pre;overflow-x:auto;line-height:normal;font-family:Menlo,'DejaVu Sans Mono',consolas,'Courier New',monospace\">Processed file: /Volumes/Samsung_T5/Spectral_Library/UC_063387\n",
       "</pre>\n"
      ],
      "text/plain": [
       "Processed file: /Volumes/Samsung_T5/Spectral_Library/UC_063387\n"
      ]
     },
     "metadata": {},
     "output_type": "display_data"
    },
    {
     "data": {
      "text/html": [
       "<pre style=\"white-space:pre;overflow-x:auto;line-height:normal;font-family:Menlo,'DejaVu Sans Mono',consolas,'Courier New',monospace\">Processed file: /Volumes/Samsung_T5/Spectral_Library/UC_062796\n",
       "</pre>\n"
      ],
      "text/plain": [
       "Processed file: /Volumes/Samsung_T5/Spectral_Library/UC_062796\n"
      ]
     },
     "metadata": {},
     "output_type": "display_data"
    },
    {
     "data": {
      "text/html": [
       "<pre style=\"white-space:pre;overflow-x:auto;line-height:normal;font-family:Menlo,'DejaVu Sans Mono',consolas,'Courier New',monospace\">Processed file: /Volumes/Samsung_T5/Spectral_Library/UC_063385\n",
       "</pre>\n"
      ],
      "text/plain": [
       "Processed file: /Volumes/Samsung_T5/Spectral_Library/UC_063385\n"
      ]
     },
     "metadata": {},
     "output_type": "display_data"
    },
    {
     "data": {
      "text/html": [
       "<pre style=\"white-space:pre;overflow-x:auto;line-height:normal;font-family:Menlo,'DejaVu Sans Mono',consolas,'Courier New',monospace\">Processed file: /Volumes/Samsung_T5/Spectral_Library/UC_061630\n",
       "</pre>\n"
      ],
      "text/plain": [
       "Processed file: /Volumes/Samsung_T5/Spectral_Library/UC_061630\n"
      ]
     },
     "metadata": {},
     "output_type": "display_data"
    },
    {
     "data": {
      "text/html": [
       "<pre style=\"white-space:pre;overflow-x:auto;line-height:normal;font-family:Menlo,'DejaVu Sans Mono',consolas,'Courier New',monospace\">Processed file: /Volumes/Samsung_T5/Spectral_Library/UC_063378\n",
       "</pre>\n"
      ],
      "text/plain": [
       "Processed file: /Volumes/Samsung_T5/Spectral_Library/UC_063378\n"
      ]
     },
     "metadata": {},
     "output_type": "display_data"
    },
    {
     "data": {
      "text/html": [
       "<pre style=\"white-space:pre;overflow-x:auto;line-height:normal;font-family:Menlo,'DejaVu Sans Mono',consolas,'Courier New',monospace\">Processed file: /Volumes/Samsung_T5/Spectral_Library/UC_063351\n",
       "</pre>\n"
      ],
      "text/plain": [
       "Processed file: /Volumes/Samsung_T5/Spectral_Library/UC_063351\n"
      ]
     },
     "metadata": {},
     "output_type": "display_data"
    },
    {
     "data": {
      "text/html": [
       "<pre style=\"white-space:pre;overflow-x:auto;line-height:normal;font-family:Menlo,'DejaVu Sans Mono',consolas,'Courier New',monospace\">Processed file: /Volumes/Samsung_T5/Spectral_Library/UC_063394\n",
       "</pre>\n"
      ],
      "text/plain": [
       "Processed file: /Volumes/Samsung_T5/Spectral_Library/UC_063394\n"
      ]
     },
     "metadata": {},
     "output_type": "display_data"
    },
    {
     "data": {
      "text/html": [
       "<pre style=\"white-space:pre;overflow-x:auto;line-height:normal;font-family:Menlo,'DejaVu Sans Mono',consolas,'Courier New',monospace\">Processed file: /Volumes/Samsung_T5/Spectral_Library/UC_063392\n",
       "</pre>\n"
      ],
      "text/plain": [
       "Processed file: /Volumes/Samsung_T5/Spectral_Library/UC_063392\n"
      ]
     },
     "metadata": {},
     "output_type": "display_data"
    },
    {
     "data": {
      "text/html": [
       "<pre style=\"white-space:pre;overflow-x:auto;line-height:normal;font-family:Menlo,'DejaVu Sans Mono',consolas,'Courier New',monospace\"></pre>\n"
      ],
      "text/plain": []
     },
     "metadata": {},
     "output_type": "display_data"
    },
    {
     "data": {
      "text/html": [
       "<pre style=\"white-space:pre;overflow-x:auto;line-height:normal;font-family:Menlo,'DejaVu Sans Mono',consolas,'Courier New',monospace\">\n",
       "</pre>\n"
      ],
      "text/plain": [
       "\n"
      ]
     },
     "metadata": {},
     "output_type": "display_data"
    },
    {
     "name": "stdout",
     "output_type": "stream",
     "text": [
      "Finished processing\n"
     ]
    }
   ],
   "source": [
    "import os\n",
    "import pandas as pd\n",
    "\n",
    "from concurrent.futures import ThreadPoolExecutor, as_completed\n",
    "from multiprocessing import cpu_count\n",
    "from rich.progress import Progress, track\n",
    "from rich.console import Console\n",
    "\n",
    "NUM_WORKERS = 16\n",
    "\n",
    "def process_data(data):\n",
    "    data = data[data['QValue'] < 0.05]\n",
    "    data = data[data['ProteinGroup'].notnull()]\n",
    "    data = data[~data['ProteinGroup'].str.startswith('rev')]\n",
    "    data['index'] = data['ProteinGroup'] + '_' + data['PeptideSequence']\n",
    "    processed_data = data.groupby('index')['LibraryIntensity'].agg(['sum', 'count'])\n",
    "    return processed_data\n",
    "\n",
    "def read_files_in_directory(path):\n",
    "    filepaths = []\n",
    "    for root, dirs, files in os.walk(path):\n",
    "        for file in files:\n",
    "            if not file.endswith(\".txt\"):\n",
    "                file_size = os.path.getsize(os.path.join(root, file))\n",
    "                if file_size > 2 * 1024 * 1024:\n",
    "                    filepaths.append(os.path.join(root, file))\n",
    "    return filepaths\n",
    "\n",
    "def main(path):\n",
    "    res = pd.DataFrame(columns=['index']).set_index('index')\n",
    "    try:\n",
    "        f = pd.read_table(path, encoding='ISO-8859-1')\n",
    "        f = process_data(f)\n",
    "        res = pd.merge(res, f, on='index', how='outer')\n",
    "        # res = res[['sum_x']]\n",
    "        # print(f\"Processed file: {path}\")\n",
    "    except Exception as e:\n",
    "        print(e)\n",
    "    return res  \n",
    "\n",
    "def joblib_load_file_1(inpath=None, extension=\".tsv\", num_workers=NUM_WORKERS):\n",
    "    all_filenames = read_files_in_directory(inpath)\n",
    "    console = Console()\n",
    "    console.print(\n",
    "        f\"\\nCalling {num_workers} CPU threads for parallel processing...\",\n",
    "        style=\"bold yellow\",\n",
    "    )\n",
    "\n",
    "    results = []\n",
    "    with Progress() as progress:\n",
    "        task_id = progress.add_task(\n",
    "            \"[cyan]Parallel loading files...\", total=len(all_filenames)\n",
    "        )\n",
    "\n",
    "        with ThreadPoolExecutor(max_workers=NUM_WORKERS) as executor:\n",
    "            futures = {executor.submit(main, file): file for file in all_filenames}\n",
    "\n",
    "            for future in as_completed(futures):\n",
    "                results.append(future.result())\n",
    "                progress.update(task_id, advance=1)\n",
    "\n",
    "    return pd.concat(results)\n",
    "\n",
    "\n",
    "if __name__ == \"__main__\":\n",
    "    inpath = r'/Volumes/Samsung_T5/Spectral_Library'\n",
    "    print(\"Starting processing\")\n",
    "    result = joblib_load_file_1(inpath)\n",
    "    print(\"Finished processing\")\n"
   ]
  },
  {
   "cell_type": "code",
   "execution_count": 17,
   "metadata": {},
   "outputs": [],
   "source": [
    "result.reset_index().to_feather(r'/Volumes/Samsung_T5/Spectral_Library/Spectral_Library_merged.feather')"
   ]
  },
  {
   "cell_type": "code",
   "execution_count": 2,
   "metadata": {},
   "outputs": [],
   "source": [
    "result = pd.read_feather(r'/Volumes/Samsung_T5/Spectral_Library/Spectral_Library_merged.feather')"
   ]
  },
  {
   "cell_type": "code",
   "execution_count": 18,
   "metadata": {},
   "outputs": [
    {
     "data": {
      "text/html": [
       "<div>\n",
       "<style scoped>\n",
       "    .dataframe tbody tr th:only-of-type {\n",
       "        vertical-align: middle;\n",
       "    }\n",
       "\n",
       "    .dataframe tbody tr th {\n",
       "        vertical-align: top;\n",
       "    }\n",
       "\n",
       "    .dataframe thead th {\n",
       "        text-align: right;\n",
       "    }\n",
       "</style>\n",
       "<table border=\"1\" class=\"dataframe\">\n",
       "  <thead>\n",
       "    <tr style=\"text-align: right;\">\n",
       "      <th></th>\n",
       "      <th>index</th>\n",
       "      <th>sum</th>\n",
       "      <th>count</th>\n",
       "    </tr>\n",
       "  </thead>\n",
       "  <tbody>\n",
       "    <tr>\n",
       "      <th>0</th>\n",
       "      <td>A0A024RBG1;Q9NZJ9_SEQEDEVLLVSSSR</td>\n",
       "      <td>4.194959</td>\n",
       "      <td>6</td>\n",
       "    </tr>\n",
       "    <tr>\n",
       "      <th>1</th>\n",
       "      <td>A0A075B6H7;A0A0C4DH55;P01624_LLIYGASTR</td>\n",
       "      <td>2.632757</td>\n",
       "      <td>6</td>\n",
       "    </tr>\n",
       "    <tr>\n",
       "      <th>2</th>\n",
       "      <td>A0A075B6K5;P80748_FSGSNSGNTATLTISR</td>\n",
       "      <td>4.614667</td>\n",
       "      <td>6</td>\n",
       "    </tr>\n",
       "    <tr>\n",
       "      <th>3</th>\n",
       "      <td>A0A075B6P5;A0A075B6S2;A0A075B6S6;A0A087WW87;A0...</td>\n",
       "      <td>3.738083</td>\n",
       "      <td>6</td>\n",
       "    </tr>\n",
       "    <tr>\n",
       "      <th>4</th>\n",
       "      <td>A0A075B6R9;A0A075B6S2;A0A0A0MRZ7;A0A0C4DH68;A2...</td>\n",
       "      <td>3.885480</td>\n",
       "      <td>6</td>\n",
       "    </tr>\n",
       "    <tr>\n",
       "      <th>...</th>\n",
       "      <td>...</td>\n",
       "      <td>...</td>\n",
       "      <td>...</td>\n",
       "    </tr>\n",
       "    <tr>\n",
       "      <th>5187111</th>\n",
       "      <td>Q9Y6Y8_VEFLPVHWHSSLGGDATGVDR</td>\n",
       "      <td>5.181919</td>\n",
       "      <td>11</td>\n",
       "    </tr>\n",
       "    <tr>\n",
       "      <th>5187112</th>\n",
       "      <td>Q9Y6Y8_VIVQFQPSSVPDEWGTTQDGQTRPR</td>\n",
       "      <td>1.949060</td>\n",
       "      <td>6</td>\n",
       "    </tr>\n",
       "    <tr>\n",
       "      <th>5187113</th>\n",
       "      <td>Q9Y6Y8_VVESPDFSK</td>\n",
       "      <td>4.067961</td>\n",
       "      <td>6</td>\n",
       "    </tr>\n",
       "    <tr>\n",
       "      <th>5187114</th>\n",
       "      <td>Q9Y6Y8_VVESPDFSKDEDYLGK</td>\n",
       "      <td>2.767095</td>\n",
       "      <td>5</td>\n",
       "    </tr>\n",
       "    <tr>\n",
       "      <th>5187115</th>\n",
       "      <td>Q9Y6Y8_YDVYLYDR</td>\n",
       "      <td>2.687220</td>\n",
       "      <td>5</td>\n",
       "    </tr>\n",
       "  </tbody>\n",
       "</table>\n",
       "<p>5187116 rows × 3 columns</p>\n",
       "</div>"
      ],
      "text/plain": [
       "                                                     index       sum  count\n",
       "0                         A0A024RBG1;Q9NZJ9_SEQEDEVLLVSSSR  4.194959      6\n",
       "1                   A0A075B6H7;A0A0C4DH55;P01624_LLIYGASTR  2.632757      6\n",
       "2                       A0A075B6K5;P80748_FSGSNSGNTATLTISR  4.614667      6\n",
       "3        A0A075B6P5;A0A075B6S2;A0A075B6S6;A0A087WW87;A0...  3.738083      6\n",
       "4        A0A075B6R9;A0A075B6S2;A0A0A0MRZ7;A0A0C4DH68;A2...  3.885480      6\n",
       "...                                                    ...       ...    ...\n",
       "5187111                       Q9Y6Y8_VEFLPVHWHSSLGGDATGVDR  5.181919     11\n",
       "5187112                   Q9Y6Y8_VIVQFQPSSVPDEWGTTQDGQTRPR  1.949060      6\n",
       "5187113                                   Q9Y6Y8_VVESPDFSK  4.067961      6\n",
       "5187114                            Q9Y6Y8_VVESPDFSKDEDYLGK  2.767095      5\n",
       "5187115                                    Q9Y6Y8_YDVYLYDR  2.687220      5\n",
       "\n",
       "[5187116 rows x 3 columns]"
      ]
     },
     "execution_count": 18,
     "metadata": {},
     "output_type": "execute_result"
    }
   ],
   "source": [
    "result = result.reset_index()\n",
    "result"
   ]
  },
  {
   "cell_type": "code",
   "execution_count": 3,
   "metadata": {},
   "outputs": [
    {
     "data": {
      "text/html": [
       "<div>\n",
       "<style scoped>\n",
       "    .dataframe tbody tr th:only-of-type {\n",
       "        vertical-align: middle;\n",
       "    }\n",
       "\n",
       "    .dataframe tbody tr th {\n",
       "        vertical-align: top;\n",
       "    }\n",
       "\n",
       "    .dataframe thead th {\n",
       "        text-align: right;\n",
       "    }\n",
       "</style>\n",
       "<table border=\"1\" class=\"dataframe\">\n",
       "  <thead>\n",
       "    <tr style=\"text-align: right;\">\n",
       "      <th></th>\n",
       "      <th>index</th>\n",
       "      <th>sum</th>\n",
       "      <th>count</th>\n",
       "      <th>Protein</th>\n",
       "      <th>Peptide</th>\n",
       "    </tr>\n",
       "  </thead>\n",
       "  <tbody>\n",
       "    <tr>\n",
       "      <th>0</th>\n",
       "      <td>A0A024RBG1;Q9NZJ9_SEQEDEVLLVSSSR</td>\n",
       "      <td>4.194959</td>\n",
       "      <td>6</td>\n",
       "      <td>A0A024RBG1;Q9NZJ9</td>\n",
       "      <td>SEQEDEVLLVSSSR</td>\n",
       "    </tr>\n",
       "    <tr>\n",
       "      <th>1</th>\n",
       "      <td>A0A075B6H7;A0A0C4DH55;P01624_LLIYGASTR</td>\n",
       "      <td>2.632757</td>\n",
       "      <td>6</td>\n",
       "      <td>A0A075B6H7;A0A0C4DH55;P01624</td>\n",
       "      <td>LLIYGASTR</td>\n",
       "    </tr>\n",
       "    <tr>\n",
       "      <th>2</th>\n",
       "      <td>A0A075B6K5;P80748_FSGSNSGNTATLTISR</td>\n",
       "      <td>4.614667</td>\n",
       "      <td>6</td>\n",
       "      <td>A0A075B6K5;P80748</td>\n",
       "      <td>FSGSNSGNTATLTISR</td>\n",
       "    </tr>\n",
       "    <tr>\n",
       "      <th>3</th>\n",
       "      <td>A0A075B6P5;A0A075B6S2;A0A075B6S6;A0A087WW87;A0...</td>\n",
       "      <td>3.738083</td>\n",
       "      <td>6</td>\n",
       "      <td>A0A075B6P5;A0A075B6S2;A0A075B6S6;A0A087WW87;A0...</td>\n",
       "      <td>FSGSGSGTDFTLK</td>\n",
       "    </tr>\n",
       "    <tr>\n",
       "      <th>4</th>\n",
       "      <td>A0A075B6R9;A0A075B6S2;A0A0A0MRZ7;A0A0C4DH68;A2...</td>\n",
       "      <td>3.885480</td>\n",
       "      <td>6</td>\n",
       "      <td>A0A075B6R9;A0A075B6S2;A0A0A0MRZ7;A0A0C4DH68;A2...</td>\n",
       "      <td>FSGVPDR</td>\n",
       "    </tr>\n",
       "    <tr>\n",
       "      <th>...</th>\n",
       "      <td>...</td>\n",
       "      <td>...</td>\n",
       "      <td>...</td>\n",
       "      <td>...</td>\n",
       "      <td>...</td>\n",
       "    </tr>\n",
       "    <tr>\n",
       "      <th>5187111</th>\n",
       "      <td>Q9Y6Y8_VEFLPVHWHSSLGGDATGVDR</td>\n",
       "      <td>5.181919</td>\n",
       "      <td>11</td>\n",
       "      <td>Q9Y6Y8</td>\n",
       "      <td>VEFLPVHWHSSLGGDATGVDR</td>\n",
       "    </tr>\n",
       "    <tr>\n",
       "      <th>5187112</th>\n",
       "      <td>Q9Y6Y8_VIVQFQPSSVPDEWGTTQDGQTRPR</td>\n",
       "      <td>1.949060</td>\n",
       "      <td>6</td>\n",
       "      <td>Q9Y6Y8</td>\n",
       "      <td>VIVQFQPSSVPDEWGTTQDGQTRPR</td>\n",
       "    </tr>\n",
       "    <tr>\n",
       "      <th>5187113</th>\n",
       "      <td>Q9Y6Y8_VVESPDFSK</td>\n",
       "      <td>4.067961</td>\n",
       "      <td>6</td>\n",
       "      <td>Q9Y6Y8</td>\n",
       "      <td>VVESPDFSK</td>\n",
       "    </tr>\n",
       "    <tr>\n",
       "      <th>5187114</th>\n",
       "      <td>Q9Y6Y8_VVESPDFSKDEDYLGK</td>\n",
       "      <td>2.767095</td>\n",
       "      <td>5</td>\n",
       "      <td>Q9Y6Y8</td>\n",
       "      <td>VVESPDFSKDEDYLGK</td>\n",
       "    </tr>\n",
       "    <tr>\n",
       "      <th>5187115</th>\n",
       "      <td>Q9Y6Y8_YDVYLYDR</td>\n",
       "      <td>2.687220</td>\n",
       "      <td>5</td>\n",
       "      <td>Q9Y6Y8</td>\n",
       "      <td>YDVYLYDR</td>\n",
       "    </tr>\n",
       "  </tbody>\n",
       "</table>\n",
       "<p>5187116 rows × 5 columns</p>\n",
       "</div>"
      ],
      "text/plain": [
       "                                                     index       sum  count  \\\n",
       "0                         A0A024RBG1;Q9NZJ9_SEQEDEVLLVSSSR  4.194959      6   \n",
       "1                   A0A075B6H7;A0A0C4DH55;P01624_LLIYGASTR  2.632757      6   \n",
       "2                       A0A075B6K5;P80748_FSGSNSGNTATLTISR  4.614667      6   \n",
       "3        A0A075B6P5;A0A075B6S2;A0A075B6S6;A0A087WW87;A0...  3.738083      6   \n",
       "4        A0A075B6R9;A0A075B6S2;A0A0A0MRZ7;A0A0C4DH68;A2...  3.885480      6   \n",
       "...                                                    ...       ...    ...   \n",
       "5187111                       Q9Y6Y8_VEFLPVHWHSSLGGDATGVDR  5.181919     11   \n",
       "5187112                   Q9Y6Y8_VIVQFQPSSVPDEWGTTQDGQTRPR  1.949060      6   \n",
       "5187113                                   Q9Y6Y8_VVESPDFSK  4.067961      6   \n",
       "5187114                            Q9Y6Y8_VVESPDFSKDEDYLGK  2.767095      5   \n",
       "5187115                                    Q9Y6Y8_YDVYLYDR  2.687220      5   \n",
       "\n",
       "                                                   Protein  \\\n",
       "0                                        A0A024RBG1;Q9NZJ9   \n",
       "1                             A0A075B6H7;A0A0C4DH55;P01624   \n",
       "2                                        A0A075B6K5;P80748   \n",
       "3        A0A075B6P5;A0A075B6S2;A0A075B6S6;A0A087WW87;A0...   \n",
       "4        A0A075B6R9;A0A075B6S2;A0A0A0MRZ7;A0A0C4DH68;A2...   \n",
       "...                                                    ...   \n",
       "5187111                                             Q9Y6Y8   \n",
       "5187112                                             Q9Y6Y8   \n",
       "5187113                                             Q9Y6Y8   \n",
       "5187114                                             Q9Y6Y8   \n",
       "5187115                                             Q9Y6Y8   \n",
       "\n",
       "                           Peptide  \n",
       "0                   SEQEDEVLLVSSSR  \n",
       "1                        LLIYGASTR  \n",
       "2                 FSGSNSGNTATLTISR  \n",
       "3                    FSGSGSGTDFTLK  \n",
       "4                          FSGVPDR  \n",
       "...                            ...  \n",
       "5187111      VEFLPVHWHSSLGGDATGVDR  \n",
       "5187112  VIVQFQPSSVPDEWGTTQDGQTRPR  \n",
       "5187113                  VVESPDFSK  \n",
       "5187114           VVESPDFSKDEDYLGK  \n",
       "5187115                   YDVYLYDR  \n",
       "\n",
       "[5187116 rows x 5 columns]"
      ]
     },
     "execution_count": 3,
     "metadata": {},
     "output_type": "execute_result"
    }
   ],
   "source": [
    "result['Protein'], result['Peptide'] = result['index'].str.split('_',expand = True)[0], result['index'].str.split('_',expand = True)[1]\n",
    "result"
   ]
  },
  {
   "cell_type": "code",
   "execution_count": 5,
   "metadata": {},
   "outputs": [],
   "source": [
    "result['Protein1'] = result['Protein'].str.split(';', expand = True)[0]"
   ]
  },
  {
   "cell_type": "code",
   "execution_count": 6,
   "metadata": {},
   "outputs": [
    {
     "data": {
      "text/html": [
       "<div>\n",
       "<style scoped>\n",
       "    .dataframe tbody tr th:only-of-type {\n",
       "        vertical-align: middle;\n",
       "    }\n",
       "\n",
       "    .dataframe tbody tr th {\n",
       "        vertical-align: top;\n",
       "    }\n",
       "\n",
       "    .dataframe thead th {\n",
       "        text-align: right;\n",
       "    }\n",
       "</style>\n",
       "<table border=\"1\" class=\"dataframe\">\n",
       "  <thead>\n",
       "    <tr style=\"text-align: right;\">\n",
       "      <th></th>\n",
       "      <th>sum</th>\n",
       "      <th>count</th>\n",
       "    </tr>\n",
       "    <tr>\n",
       "      <th>Protein1</th>\n",
       "      <th></th>\n",
       "      <th></th>\n",
       "    </tr>\n",
       "  </thead>\n",
       "  <tbody>\n",
       "    <tr>\n",
       "      <th>A0A024RBG1</th>\n",
       "      <td>1578</td>\n",
       "      <td>209</td>\n",
       "    </tr>\n",
       "    <tr>\n",
       "      <th>A0A075B6H7</th>\n",
       "      <td>941</td>\n",
       "      <td>166</td>\n",
       "    </tr>\n",
       "    <tr>\n",
       "      <th>A0A075B6H9</th>\n",
       "      <td>309</td>\n",
       "      <td>52</td>\n",
       "    </tr>\n",
       "    <tr>\n",
       "      <th>A0A075B6I0</th>\n",
       "      <td>190</td>\n",
       "      <td>30</td>\n",
       "    </tr>\n",
       "    <tr>\n",
       "      <th>A0A075B6I4</th>\n",
       "      <td>12</td>\n",
       "      <td>2</td>\n",
       "    </tr>\n",
       "    <tr>\n",
       "      <th>...</th>\n",
       "      <td>...</td>\n",
       "      <td>...</td>\n",
       "    </tr>\n",
       "    <tr>\n",
       "      <th>Q9Y6Y0</th>\n",
       "      <td>1044</td>\n",
       "      <td>167</td>\n",
       "    </tr>\n",
       "    <tr>\n",
       "      <th>Q9Y6Y8</th>\n",
       "      <td>8625</td>\n",
       "      <td>1325</td>\n",
       "    </tr>\n",
       "    <tr>\n",
       "      <th>Q9Y6Y9</th>\n",
       "      <td>31</td>\n",
       "      <td>6</td>\n",
       "    </tr>\n",
       "    <tr>\n",
       "      <th>Q9Y6Z5</th>\n",
       "      <td>2</td>\n",
       "      <td>1</td>\n",
       "    </tr>\n",
       "    <tr>\n",
       "      <th>Q9Y6Z7</th>\n",
       "      <td>230</td>\n",
       "      <td>41</td>\n",
       "    </tr>\n",
       "  </tbody>\n",
       "</table>\n",
       "<p>12788 rows × 2 columns</p>\n",
       "</div>"
      ],
      "text/plain": [
       "             sum  count\n",
       "Protein1               \n",
       "A0A024RBG1  1578    209\n",
       "A0A075B6H7   941    166\n",
       "A0A075B6H9   309     52\n",
       "A0A075B6I0   190     30\n",
       "A0A075B6I4    12      2\n",
       "...          ...    ...\n",
       "Q9Y6Y0      1044    167\n",
       "Q9Y6Y8      8625   1325\n",
       "Q9Y6Y9        31      6\n",
       "Q9Y6Z5         2      1\n",
       "Q9Y6Z7       230     41\n",
       "\n",
       "[12788 rows x 2 columns]"
      ]
     },
     "execution_count": 6,
     "metadata": {},
     "output_type": "execute_result"
    }
   ],
   "source": [
    "result.groupby('Protein1')['count'].agg(['sum', 'count'])"
   ]
  },
  {
   "cell_type": "code",
   "execution_count": 22,
   "metadata": {},
   "outputs": [
    {
     "data": {
      "text/html": [
       "<div>\n",
       "<style scoped>\n",
       "    .dataframe tbody tr th:only-of-type {\n",
       "        vertical-align: middle;\n",
       "    }\n",
       "\n",
       "    .dataframe tbody tr th {\n",
       "        vertical-align: top;\n",
       "    }\n",
       "\n",
       "    .dataframe thead th {\n",
       "        text-align: right;\n",
       "    }\n",
       "</style>\n",
       "<table border=\"1\" class=\"dataframe\">\n",
       "  <thead>\n",
       "    <tr style=\"text-align: right;\">\n",
       "      <th></th>\n",
       "      <th>sum</th>\n",
       "      <th>count</th>\n",
       "    </tr>\n",
       "    <tr>\n",
       "      <th>Protein</th>\n",
       "      <th></th>\n",
       "      <th></th>\n",
       "    </tr>\n",
       "  </thead>\n",
       "  <tbody>\n",
       "    <tr>\n",
       "      <th>A0A024RBG1</th>\n",
       "      <td>136</td>\n",
       "      <td>23</td>\n",
       "    </tr>\n",
       "    <tr>\n",
       "      <th>A0A024RBG1;O95989;Q8NFP7;Q96G61;Q9NZJ9</th>\n",
       "      <td>24</td>\n",
       "      <td>5</td>\n",
       "    </tr>\n",
       "    <tr>\n",
       "      <th>A0A024RBG1;Q8NFP7;Q96G61;Q9NZJ9</th>\n",
       "      <td>116</td>\n",
       "      <td>22</td>\n",
       "    </tr>\n",
       "    <tr>\n",
       "      <th>A0A024RBG1;Q9NZJ9</th>\n",
       "      <td>1302</td>\n",
       "      <td>159</td>\n",
       "    </tr>\n",
       "    <tr>\n",
       "      <th>A0A075B6H7</th>\n",
       "      <td>248</td>\n",
       "      <td>41</td>\n",
       "    </tr>\n",
       "    <tr>\n",
       "      <th>...</th>\n",
       "      <td>...</td>\n",
       "      <td>...</td>\n",
       "    </tr>\n",
       "    <tr>\n",
       "      <th>Q9Y6Y0</th>\n",
       "      <td>1044</td>\n",
       "      <td>167</td>\n",
       "    </tr>\n",
       "    <tr>\n",
       "      <th>Q9Y6Y8</th>\n",
       "      <td>8625</td>\n",
       "      <td>1325</td>\n",
       "    </tr>\n",
       "    <tr>\n",
       "      <th>Q9Y6Y9</th>\n",
       "      <td>31</td>\n",
       "      <td>6</td>\n",
       "    </tr>\n",
       "    <tr>\n",
       "      <th>Q9Y6Z5</th>\n",
       "      <td>2</td>\n",
       "      <td>1</td>\n",
       "    </tr>\n",
       "    <tr>\n",
       "      <th>Q9Y6Z7</th>\n",
       "      <td>230</td>\n",
       "      <td>41</td>\n",
       "    </tr>\n",
       "  </tbody>\n",
       "</table>\n",
       "<p>15612 rows × 2 columns</p>\n",
       "</div>"
      ],
      "text/plain": [
       "                                         sum  count\n",
       "Protein                                            \n",
       "A0A024RBG1                               136     23\n",
       "A0A024RBG1;O95989;Q8NFP7;Q96G61;Q9NZJ9    24      5\n",
       "A0A024RBG1;Q8NFP7;Q96G61;Q9NZJ9          116     22\n",
       "A0A024RBG1;Q9NZJ9                       1302    159\n",
       "A0A075B6H7                               248     41\n",
       "...                                      ...    ...\n",
       "Q9Y6Y0                                  1044    167\n",
       "Q9Y6Y8                                  8625   1325\n",
       "Q9Y6Y9                                    31      6\n",
       "Q9Y6Z5                                     2      1\n",
       "Q9Y6Z7                                   230     41\n",
       "\n",
       "[15612 rows x 2 columns]"
      ]
     },
     "execution_count": 22,
     "metadata": {},
     "output_type": "execute_result"
    }
   ],
   "source": [
    "result.groupby('Protein')['count'].agg(['sum', 'count'])"
   ]
  },
  {
   "cell_type": "code",
   "execution_count": 23,
   "metadata": {},
   "outputs": [
    {
     "data": {
      "text/html": [
       "<div>\n",
       "<style scoped>\n",
       "    .dataframe tbody tr th:only-of-type {\n",
       "        vertical-align: middle;\n",
       "    }\n",
       "\n",
       "    .dataframe tbody tr th {\n",
       "        vertical-align: top;\n",
       "    }\n",
       "\n",
       "    .dataframe thead th {\n",
       "        text-align: right;\n",
       "    }\n",
       "</style>\n",
       "<table border=\"1\" class=\"dataframe\">\n",
       "  <thead>\n",
       "    <tr style=\"text-align: right;\">\n",
       "      <th></th>\n",
       "      <th>sum</th>\n",
       "      <th>count</th>\n",
       "    </tr>\n",
       "    <tr>\n",
       "      <th>Peptide</th>\n",
       "      <th></th>\n",
       "      <th></th>\n",
       "    </tr>\n",
       "  </thead>\n",
       "  <tbody>\n",
       "    <tr>\n",
       "      <th>AAAAAAAAAAAAAAAASAG</th>\n",
       "      <td>30</td>\n",
       "      <td>5</td>\n",
       "    </tr>\n",
       "    <tr>\n",
       "      <th>AAAAAAAAAAAAAAAASAGGK</th>\n",
       "      <td>12</td>\n",
       "      <td>1</td>\n",
       "    </tr>\n",
       "    <tr>\n",
       "      <th>AAAAAAAAAAAAAAAASAGGKE</th>\n",
       "      <td>6</td>\n",
       "      <td>1</td>\n",
       "    </tr>\n",
       "    <tr>\n",
       "      <th>AAAAAAAAAAAAAAAGAGAGAK</th>\n",
       "      <td>1019</td>\n",
       "      <td>108</td>\n",
       "    </tr>\n",
       "    <tr>\n",
       "      <th>AAAAAAAAAAAAASVGGTIPGPGPG</th>\n",
       "      <td>12</td>\n",
       "      <td>2</td>\n",
       "    </tr>\n",
       "    <tr>\n",
       "      <th>...</th>\n",
       "      <td>...</td>\n",
       "      <td>...</td>\n",
       "    </tr>\n",
       "    <tr>\n",
       "      <th>YYYVPADFVEYEK</th>\n",
       "      <td>148</td>\n",
       "      <td>31</td>\n",
       "    </tr>\n",
       "    <tr>\n",
       "      <th>YYYVQNVYTPVDEHVYPDHR</th>\n",
       "      <td>8</td>\n",
       "      <td>1</td>\n",
       "    </tr>\n",
       "    <tr>\n",
       "      <th>YYYWAVNPQDR</th>\n",
       "      <td>134</td>\n",
       "      <td>27</td>\n",
       "    </tr>\n",
       "    <tr>\n",
       "      <th>YYYWVINPADSSGITPK</th>\n",
       "      <td>10</td>\n",
       "      <td>2</td>\n",
       "    </tr>\n",
       "    <tr>\n",
       "      <th>YYYYWHLR</th>\n",
       "      <td>4</td>\n",
       "      <td>1</td>\n",
       "    </tr>\n",
       "  </tbody>\n",
       "</table>\n",
       "<p>215529 rows × 2 columns</p>\n",
       "</div>"
      ],
      "text/plain": [
       "                            sum  count\n",
       "Peptide                               \n",
       "AAAAAAAAAAAAAAAASAG          30      5\n",
       "AAAAAAAAAAAAAAAASAGGK        12      1\n",
       "AAAAAAAAAAAAAAAASAGGKE        6      1\n",
       "AAAAAAAAAAAAAAAGAGAGAK     1019    108\n",
       "AAAAAAAAAAAAASVGGTIPGPGPG    12      2\n",
       "...                         ...    ...\n",
       "YYYVPADFVEYEK               148     31\n",
       "YYYVQNVYTPVDEHVYPDHR          8      1\n",
       "YYYWAVNPQDR                 134     27\n",
       "YYYWVINPADSSGITPK            10      2\n",
       "YYYYWHLR                      4      1\n",
       "\n",
       "[215529 rows x 2 columns]"
      ]
     },
     "execution_count": 23,
     "metadata": {},
     "output_type": "execute_result"
    }
   ],
   "source": [
    "result.groupby('Peptide')['count'].agg(['sum', 'count'])"
   ]
  },
  {
   "attachments": {},
   "cell_type": "markdown",
   "metadata": {},
   "source": [
    "## 2、获取相关性数据的IQR及其均值和中位数"
   ]
  },
  {
   "cell_type": "code",
   "execution_count": 9,
   "metadata": {},
   "outputs": [
    {
     "data": {
      "text/html": [
       "<div>\n",
       "<style scoped>\n",
       "    .dataframe tbody tr th:only-of-type {\n",
       "        vertical-align: middle;\n",
       "    }\n",
       "\n",
       "    .dataframe tbody tr th {\n",
       "        vertical-align: top;\n",
       "    }\n",
       "\n",
       "    .dataframe thead th {\n",
       "        text-align: right;\n",
       "    }\n",
       "</style>\n",
       "<table border=\"1\" class=\"dataframe\">\n",
       "  <thead>\n",
       "    <tr style=\"text-align: right;\">\n",
       "      <th></th>\n",
       "      <th>PooledQC_DIA_2</th>\n",
       "      <th>PooledQC_DIA_17</th>\n",
       "      <th>PooledQC_DIA_1</th>\n",
       "      <th>PooledQC_DIA_14</th>\n",
       "      <th>PooledQC_DIA_12</th>\n",
       "      <th>PooledQC_DIA_7</th>\n",
       "      <th>PooledQC_DIA_11</th>\n",
       "      <th>PooledQC_DIA_4</th>\n",
       "      <th>PooledQC_DIA_8</th>\n",
       "      <th>PooledQC_DIA_18</th>\n",
       "      <th>PooledQC_DIA_19</th>\n",
       "      <th>PooledQC_DIA_9</th>\n",
       "      <th>PooledQC_DIA_5</th>\n",
       "      <th>PooledQC_DIA_10</th>\n",
       "      <th>PooledQC_DIA_6</th>\n",
       "      <th>PooledQC_DIA_13</th>\n",
       "      <th>PooledQC_DIA_20</th>\n",
       "      <th>PooledQC_DIA_15</th>\n",
       "      <th>PooledQC_DIA_16</th>\n",
       "      <th>PooledQC_DIA_3</th>\n",
       "    </tr>\n",
       "  </thead>\n",
       "  <tbody>\n",
       "    <tr>\n",
       "      <th>PooledQC_DIA_2</th>\n",
       "      <td>1.000000</td>\n",
       "      <td>0.805485</td>\n",
       "      <td>0.846101</td>\n",
       "      <td>0.854564</td>\n",
       "      <td>0.825160</td>\n",
       "      <td>0.846155</td>\n",
       "      <td>0.856460</td>\n",
       "      <td>0.868093</td>\n",
       "      <td>0.832052</td>\n",
       "      <td>0.853352</td>\n",
       "      <td>0.812371</td>\n",
       "      <td>0.836640</td>\n",
       "      <td>0.838808</td>\n",
       "      <td>0.843469</td>\n",
       "      <td>0.845639</td>\n",
       "      <td>0.846487</td>\n",
       "      <td>0.854173</td>\n",
       "      <td>0.835001</td>\n",
       "      <td>0.827027</td>\n",
       "      <td>0.848946</td>\n",
       "    </tr>\n",
       "    <tr>\n",
       "      <th>PooledQC_DIA_17</th>\n",
       "      <td>0.805485</td>\n",
       "      <td>1.000000</td>\n",
       "      <td>0.830953</td>\n",
       "      <td>0.837464</td>\n",
       "      <td>0.832501</td>\n",
       "      <td>0.837831</td>\n",
       "      <td>0.838492</td>\n",
       "      <td>0.864371</td>\n",
       "      <td>0.802605</td>\n",
       "      <td>0.821177</td>\n",
       "      <td>0.839608</td>\n",
       "      <td>0.831415</td>\n",
       "      <td>0.845888</td>\n",
       "      <td>0.812474</td>\n",
       "      <td>0.846587</td>\n",
       "      <td>0.822087</td>\n",
       "      <td>0.837052</td>\n",
       "      <td>0.824400</td>\n",
       "      <td>0.823503</td>\n",
       "      <td>0.838718</td>\n",
       "    </tr>\n",
       "    <tr>\n",
       "      <th>PooledQC_DIA_1</th>\n",
       "      <td>0.846101</td>\n",
       "      <td>0.830953</td>\n",
       "      <td>1.000000</td>\n",
       "      <td>0.847089</td>\n",
       "      <td>0.828250</td>\n",
       "      <td>0.847766</td>\n",
       "      <td>0.845620</td>\n",
       "      <td>0.864193</td>\n",
       "      <td>0.828639</td>\n",
       "      <td>0.832982</td>\n",
       "      <td>0.839692</td>\n",
       "      <td>0.855110</td>\n",
       "      <td>0.852363</td>\n",
       "      <td>0.822174</td>\n",
       "      <td>0.843904</td>\n",
       "      <td>0.842387</td>\n",
       "      <td>0.839948</td>\n",
       "      <td>0.855076</td>\n",
       "      <td>0.831028</td>\n",
       "      <td>0.837902</td>\n",
       "    </tr>\n",
       "    <tr>\n",
       "      <th>PooledQC_DIA_14</th>\n",
       "      <td>0.854564</td>\n",
       "      <td>0.837464</td>\n",
       "      <td>0.847089</td>\n",
       "      <td>1.000000</td>\n",
       "      <td>0.838680</td>\n",
       "      <td>0.840703</td>\n",
       "      <td>0.848137</td>\n",
       "      <td>0.853923</td>\n",
       "      <td>0.813503</td>\n",
       "      <td>0.870767</td>\n",
       "      <td>0.823233</td>\n",
       "      <td>0.844665</td>\n",
       "      <td>0.837745</td>\n",
       "      <td>0.834987</td>\n",
       "      <td>0.848483</td>\n",
       "      <td>0.845252</td>\n",
       "      <td>0.845827</td>\n",
       "      <td>0.858629</td>\n",
       "      <td>0.829617</td>\n",
       "      <td>0.839184</td>\n",
       "    </tr>\n",
       "    <tr>\n",
       "      <th>PooledQC_DIA_12</th>\n",
       "      <td>0.825160</td>\n",
       "      <td>0.832501</td>\n",
       "      <td>0.828250</td>\n",
       "      <td>0.838680</td>\n",
       "      <td>1.000000</td>\n",
       "      <td>0.822861</td>\n",
       "      <td>0.832779</td>\n",
       "      <td>0.851894</td>\n",
       "      <td>0.802466</td>\n",
       "      <td>0.851108</td>\n",
       "      <td>0.812771</td>\n",
       "      <td>0.824559</td>\n",
       "      <td>0.817430</td>\n",
       "      <td>0.823953</td>\n",
       "      <td>0.835316</td>\n",
       "      <td>0.839801</td>\n",
       "      <td>0.830921</td>\n",
       "      <td>0.836078</td>\n",
       "      <td>0.824848</td>\n",
       "      <td>0.837010</td>\n",
       "    </tr>\n",
       "    <tr>\n",
       "      <th>PooledQC_DIA_7</th>\n",
       "      <td>0.846155</td>\n",
       "      <td>0.837831</td>\n",
       "      <td>0.847766</td>\n",
       "      <td>0.840703</td>\n",
       "      <td>0.822861</td>\n",
       "      <td>1.000000</td>\n",
       "      <td>0.839610</td>\n",
       "      <td>0.878973</td>\n",
       "      <td>0.831905</td>\n",
       "      <td>0.851951</td>\n",
       "      <td>0.846535</td>\n",
       "      <td>0.834504</td>\n",
       "      <td>0.824083</td>\n",
       "      <td>0.826904</td>\n",
       "      <td>0.830382</td>\n",
       "      <td>0.806536</td>\n",
       "      <td>0.855722</td>\n",
       "      <td>0.825656</td>\n",
       "      <td>0.852864</td>\n",
       "      <td>0.839043</td>\n",
       "    </tr>\n",
       "    <tr>\n",
       "      <th>PooledQC_DIA_11</th>\n",
       "      <td>0.856460</td>\n",
       "      <td>0.838492</td>\n",
       "      <td>0.845620</td>\n",
       "      <td>0.848137</td>\n",
       "      <td>0.832779</td>\n",
       "      <td>0.839610</td>\n",
       "      <td>1.000000</td>\n",
       "      <td>0.869790</td>\n",
       "      <td>0.808849</td>\n",
       "      <td>0.836437</td>\n",
       "      <td>0.834816</td>\n",
       "      <td>0.838780</td>\n",
       "      <td>0.838858</td>\n",
       "      <td>0.836582</td>\n",
       "      <td>0.846393</td>\n",
       "      <td>0.849574</td>\n",
       "      <td>0.834301</td>\n",
       "      <td>0.848645</td>\n",
       "      <td>0.834195</td>\n",
       "      <td>0.841429</td>\n",
       "    </tr>\n",
       "    <tr>\n",
       "      <th>PooledQC_DIA_4</th>\n",
       "      <td>0.868093</td>\n",
       "      <td>0.864371</td>\n",
       "      <td>0.864193</td>\n",
       "      <td>0.853923</td>\n",
       "      <td>0.851894</td>\n",
       "      <td>0.878973</td>\n",
       "      <td>0.869790</td>\n",
       "      <td>1.000000</td>\n",
       "      <td>0.847752</td>\n",
       "      <td>0.853048</td>\n",
       "      <td>0.864500</td>\n",
       "      <td>0.846628</td>\n",
       "      <td>0.854405</td>\n",
       "      <td>0.857039</td>\n",
       "      <td>0.877370</td>\n",
       "      <td>0.855614</td>\n",
       "      <td>0.841832</td>\n",
       "      <td>0.851362</td>\n",
       "      <td>0.853401</td>\n",
       "      <td>0.870429</td>\n",
       "    </tr>\n",
       "    <tr>\n",
       "      <th>PooledQC_DIA_8</th>\n",
       "      <td>0.832052</td>\n",
       "      <td>0.802605</td>\n",
       "      <td>0.828639</td>\n",
       "      <td>0.813503</td>\n",
       "      <td>0.802466</td>\n",
       "      <td>0.831905</td>\n",
       "      <td>0.808849</td>\n",
       "      <td>0.847752</td>\n",
       "      <td>1.000000</td>\n",
       "      <td>0.839087</td>\n",
       "      <td>0.834356</td>\n",
       "      <td>0.829124</td>\n",
       "      <td>0.823878</td>\n",
       "      <td>0.814830</td>\n",
       "      <td>0.804438</td>\n",
       "      <td>0.830028</td>\n",
       "      <td>0.830853</td>\n",
       "      <td>0.838362</td>\n",
       "      <td>0.821343</td>\n",
       "      <td>0.818721</td>\n",
       "    </tr>\n",
       "    <tr>\n",
       "      <th>PooledQC_DIA_18</th>\n",
       "      <td>0.853352</td>\n",
       "      <td>0.821177</td>\n",
       "      <td>0.832982</td>\n",
       "      <td>0.870767</td>\n",
       "      <td>0.851108</td>\n",
       "      <td>0.851951</td>\n",
       "      <td>0.836437</td>\n",
       "      <td>0.853048</td>\n",
       "      <td>0.839087</td>\n",
       "      <td>1.000000</td>\n",
       "      <td>0.865497</td>\n",
       "      <td>0.853166</td>\n",
       "      <td>0.846392</td>\n",
       "      <td>0.847736</td>\n",
       "      <td>0.841940</td>\n",
       "      <td>0.843278</td>\n",
       "      <td>0.867748</td>\n",
       "      <td>0.853963</td>\n",
       "      <td>0.854506</td>\n",
       "      <td>0.860399</td>\n",
       "    </tr>\n",
       "    <tr>\n",
       "      <th>PooledQC_DIA_19</th>\n",
       "      <td>0.812371</td>\n",
       "      <td>0.839608</td>\n",
       "      <td>0.839692</td>\n",
       "      <td>0.823233</td>\n",
       "      <td>0.812771</td>\n",
       "      <td>0.846535</td>\n",
       "      <td>0.834816</td>\n",
       "      <td>0.864500</td>\n",
       "      <td>0.834356</td>\n",
       "      <td>0.865497</td>\n",
       "      <td>1.000000</td>\n",
       "      <td>0.839208</td>\n",
       "      <td>0.862529</td>\n",
       "      <td>0.805144</td>\n",
       "      <td>0.850451</td>\n",
       "      <td>0.815535</td>\n",
       "      <td>0.848266</td>\n",
       "      <td>0.852246</td>\n",
       "      <td>0.834710</td>\n",
       "      <td>0.853167</td>\n",
       "    </tr>\n",
       "    <tr>\n",
       "      <th>PooledQC_DIA_9</th>\n",
       "      <td>0.836640</td>\n",
       "      <td>0.831415</td>\n",
       "      <td>0.855110</td>\n",
       "      <td>0.844665</td>\n",
       "      <td>0.824559</td>\n",
       "      <td>0.834504</td>\n",
       "      <td>0.838780</td>\n",
       "      <td>0.846628</td>\n",
       "      <td>0.829124</td>\n",
       "      <td>0.853166</td>\n",
       "      <td>0.839208</td>\n",
       "      <td>1.000000</td>\n",
       "      <td>0.851593</td>\n",
       "      <td>0.847333</td>\n",
       "      <td>0.852732</td>\n",
       "      <td>0.854626</td>\n",
       "      <td>0.835949</td>\n",
       "      <td>0.867106</td>\n",
       "      <td>0.842327</td>\n",
       "      <td>0.838175</td>\n",
       "    </tr>\n",
       "    <tr>\n",
       "      <th>PooledQC_DIA_5</th>\n",
       "      <td>0.838808</td>\n",
       "      <td>0.845888</td>\n",
       "      <td>0.852363</td>\n",
       "      <td>0.837745</td>\n",
       "      <td>0.817430</td>\n",
       "      <td>0.824083</td>\n",
       "      <td>0.838858</td>\n",
       "      <td>0.854405</td>\n",
       "      <td>0.823878</td>\n",
       "      <td>0.846392</td>\n",
       "      <td>0.862529</td>\n",
       "      <td>0.851593</td>\n",
       "      <td>1.000000</td>\n",
       "      <td>0.822383</td>\n",
       "      <td>0.852353</td>\n",
       "      <td>0.819867</td>\n",
       "      <td>0.841597</td>\n",
       "      <td>0.846972</td>\n",
       "      <td>0.845188</td>\n",
       "      <td>0.847969</td>\n",
       "    </tr>\n",
       "    <tr>\n",
       "      <th>PooledQC_DIA_10</th>\n",
       "      <td>0.843469</td>\n",
       "      <td>0.812474</td>\n",
       "      <td>0.822174</td>\n",
       "      <td>0.834987</td>\n",
       "      <td>0.823953</td>\n",
       "      <td>0.826904</td>\n",
       "      <td>0.836582</td>\n",
       "      <td>0.857039</td>\n",
       "      <td>0.814830</td>\n",
       "      <td>0.847736</td>\n",
       "      <td>0.805144</td>\n",
       "      <td>0.847333</td>\n",
       "      <td>0.822383</td>\n",
       "      <td>1.000000</td>\n",
       "      <td>0.850775</td>\n",
       "      <td>0.831635</td>\n",
       "      <td>0.823425</td>\n",
       "      <td>0.831542</td>\n",
       "      <td>0.800298</td>\n",
       "      <td>0.839146</td>\n",
       "    </tr>\n",
       "    <tr>\n",
       "      <th>PooledQC_DIA_6</th>\n",
       "      <td>0.845639</td>\n",
       "      <td>0.846587</td>\n",
       "      <td>0.843904</td>\n",
       "      <td>0.848483</td>\n",
       "      <td>0.835316</td>\n",
       "      <td>0.830382</td>\n",
       "      <td>0.846393</td>\n",
       "      <td>0.877370</td>\n",
       "      <td>0.804438</td>\n",
       "      <td>0.841940</td>\n",
       "      <td>0.850451</td>\n",
       "      <td>0.852732</td>\n",
       "      <td>0.852353</td>\n",
       "      <td>0.850775</td>\n",
       "      <td>1.000000</td>\n",
       "      <td>0.846800</td>\n",
       "      <td>0.824684</td>\n",
       "      <td>0.842280</td>\n",
       "      <td>0.833389</td>\n",
       "      <td>0.836129</td>\n",
       "    </tr>\n",
       "    <tr>\n",
       "      <th>PooledQC_DIA_13</th>\n",
       "      <td>0.846487</td>\n",
       "      <td>0.822087</td>\n",
       "      <td>0.842387</td>\n",
       "      <td>0.845252</td>\n",
       "      <td>0.839801</td>\n",
       "      <td>0.806536</td>\n",
       "      <td>0.849574</td>\n",
       "      <td>0.855614</td>\n",
       "      <td>0.830028</td>\n",
       "      <td>0.843278</td>\n",
       "      <td>0.815535</td>\n",
       "      <td>0.854626</td>\n",
       "      <td>0.819867</td>\n",
       "      <td>0.831635</td>\n",
       "      <td>0.846800</td>\n",
       "      <td>1.000000</td>\n",
       "      <td>0.841484</td>\n",
       "      <td>0.842609</td>\n",
       "      <td>0.817323</td>\n",
       "      <td>0.851486</td>\n",
       "    </tr>\n",
       "    <tr>\n",
       "      <th>PooledQC_DIA_20</th>\n",
       "      <td>0.854173</td>\n",
       "      <td>0.837052</td>\n",
       "      <td>0.839948</td>\n",
       "      <td>0.845827</td>\n",
       "      <td>0.830921</td>\n",
       "      <td>0.855722</td>\n",
       "      <td>0.834301</td>\n",
       "      <td>0.841832</td>\n",
       "      <td>0.830853</td>\n",
       "      <td>0.867748</td>\n",
       "      <td>0.848266</td>\n",
       "      <td>0.835949</td>\n",
       "      <td>0.841597</td>\n",
       "      <td>0.823425</td>\n",
       "      <td>0.824684</td>\n",
       "      <td>0.841484</td>\n",
       "      <td>1.000000</td>\n",
       "      <td>0.822107</td>\n",
       "      <td>0.842902</td>\n",
       "      <td>0.821576</td>\n",
       "    </tr>\n",
       "    <tr>\n",
       "      <th>PooledQC_DIA_15</th>\n",
       "      <td>0.835001</td>\n",
       "      <td>0.824400</td>\n",
       "      <td>0.855076</td>\n",
       "      <td>0.858629</td>\n",
       "      <td>0.836078</td>\n",
       "      <td>0.825656</td>\n",
       "      <td>0.848645</td>\n",
       "      <td>0.851362</td>\n",
       "      <td>0.838362</td>\n",
       "      <td>0.853963</td>\n",
       "      <td>0.852246</td>\n",
       "      <td>0.867106</td>\n",
       "      <td>0.846972</td>\n",
       "      <td>0.831542</td>\n",
       "      <td>0.842280</td>\n",
       "      <td>0.842609</td>\n",
       "      <td>0.822107</td>\n",
       "      <td>1.000000</td>\n",
       "      <td>0.849293</td>\n",
       "      <td>0.861401</td>\n",
       "    </tr>\n",
       "    <tr>\n",
       "      <th>PooledQC_DIA_16</th>\n",
       "      <td>0.827027</td>\n",
       "      <td>0.823503</td>\n",
       "      <td>0.831028</td>\n",
       "      <td>0.829617</td>\n",
       "      <td>0.824848</td>\n",
       "      <td>0.852864</td>\n",
       "      <td>0.834195</td>\n",
       "      <td>0.853401</td>\n",
       "      <td>0.821343</td>\n",
       "      <td>0.854506</td>\n",
       "      <td>0.834710</td>\n",
       "      <td>0.842327</td>\n",
       "      <td>0.845188</td>\n",
       "      <td>0.800298</td>\n",
       "      <td>0.833389</td>\n",
       "      <td>0.817323</td>\n",
       "      <td>0.842902</td>\n",
       "      <td>0.849293</td>\n",
       "      <td>1.000000</td>\n",
       "      <td>0.857749</td>\n",
       "    </tr>\n",
       "    <tr>\n",
       "      <th>PooledQC_DIA_3</th>\n",
       "      <td>0.848946</td>\n",
       "      <td>0.838718</td>\n",
       "      <td>0.837902</td>\n",
       "      <td>0.839184</td>\n",
       "      <td>0.837010</td>\n",
       "      <td>0.839043</td>\n",
       "      <td>0.841429</td>\n",
       "      <td>0.870429</td>\n",
       "      <td>0.818721</td>\n",
       "      <td>0.860399</td>\n",
       "      <td>0.853167</td>\n",
       "      <td>0.838175</td>\n",
       "      <td>0.847969</td>\n",
       "      <td>0.839146</td>\n",
       "      <td>0.836129</td>\n",
       "      <td>0.851486</td>\n",
       "      <td>0.821576</td>\n",
       "      <td>0.861401</td>\n",
       "      <td>0.857749</td>\n",
       "      <td>1.000000</td>\n",
       "    </tr>\n",
       "  </tbody>\n",
       "</table>\n",
       "</div>"
      ],
      "text/plain": [
       "                 PooledQC_DIA_2  PooledQC_DIA_17  PooledQC_DIA_1  \\\n",
       "PooledQC_DIA_2         1.000000         0.805485        0.846101   \n",
       "PooledQC_DIA_17        0.805485         1.000000        0.830953   \n",
       "PooledQC_DIA_1         0.846101         0.830953        1.000000   \n",
       "PooledQC_DIA_14        0.854564         0.837464        0.847089   \n",
       "PooledQC_DIA_12        0.825160         0.832501        0.828250   \n",
       "PooledQC_DIA_7         0.846155         0.837831        0.847766   \n",
       "PooledQC_DIA_11        0.856460         0.838492        0.845620   \n",
       "PooledQC_DIA_4         0.868093         0.864371        0.864193   \n",
       "PooledQC_DIA_8         0.832052         0.802605        0.828639   \n",
       "PooledQC_DIA_18        0.853352         0.821177        0.832982   \n",
       "PooledQC_DIA_19        0.812371         0.839608        0.839692   \n",
       "PooledQC_DIA_9         0.836640         0.831415        0.855110   \n",
       "PooledQC_DIA_5         0.838808         0.845888        0.852363   \n",
       "PooledQC_DIA_10        0.843469         0.812474        0.822174   \n",
       "PooledQC_DIA_6         0.845639         0.846587        0.843904   \n",
       "PooledQC_DIA_13        0.846487         0.822087        0.842387   \n",
       "PooledQC_DIA_20        0.854173         0.837052        0.839948   \n",
       "PooledQC_DIA_15        0.835001         0.824400        0.855076   \n",
       "PooledQC_DIA_16        0.827027         0.823503        0.831028   \n",
       "PooledQC_DIA_3         0.848946         0.838718        0.837902   \n",
       "\n",
       "                 PooledQC_DIA_14  PooledQC_DIA_12  PooledQC_DIA_7  \\\n",
       "PooledQC_DIA_2          0.854564         0.825160        0.846155   \n",
       "PooledQC_DIA_17         0.837464         0.832501        0.837831   \n",
       "PooledQC_DIA_1          0.847089         0.828250        0.847766   \n",
       "PooledQC_DIA_14         1.000000         0.838680        0.840703   \n",
       "PooledQC_DIA_12         0.838680         1.000000        0.822861   \n",
       "PooledQC_DIA_7          0.840703         0.822861        1.000000   \n",
       "PooledQC_DIA_11         0.848137         0.832779        0.839610   \n",
       "PooledQC_DIA_4          0.853923         0.851894        0.878973   \n",
       "PooledQC_DIA_8          0.813503         0.802466        0.831905   \n",
       "PooledQC_DIA_18         0.870767         0.851108        0.851951   \n",
       "PooledQC_DIA_19         0.823233         0.812771        0.846535   \n",
       "PooledQC_DIA_9          0.844665         0.824559        0.834504   \n",
       "PooledQC_DIA_5          0.837745         0.817430        0.824083   \n",
       "PooledQC_DIA_10         0.834987         0.823953        0.826904   \n",
       "PooledQC_DIA_6          0.848483         0.835316        0.830382   \n",
       "PooledQC_DIA_13         0.845252         0.839801        0.806536   \n",
       "PooledQC_DIA_20         0.845827         0.830921        0.855722   \n",
       "PooledQC_DIA_15         0.858629         0.836078        0.825656   \n",
       "PooledQC_DIA_16         0.829617         0.824848        0.852864   \n",
       "PooledQC_DIA_3          0.839184         0.837010        0.839043   \n",
       "\n",
       "                 PooledQC_DIA_11  PooledQC_DIA_4  PooledQC_DIA_8  \\\n",
       "PooledQC_DIA_2          0.856460        0.868093        0.832052   \n",
       "PooledQC_DIA_17         0.838492        0.864371        0.802605   \n",
       "PooledQC_DIA_1          0.845620        0.864193        0.828639   \n",
       "PooledQC_DIA_14         0.848137        0.853923        0.813503   \n",
       "PooledQC_DIA_12         0.832779        0.851894        0.802466   \n",
       "PooledQC_DIA_7          0.839610        0.878973        0.831905   \n",
       "PooledQC_DIA_11         1.000000        0.869790        0.808849   \n",
       "PooledQC_DIA_4          0.869790        1.000000        0.847752   \n",
       "PooledQC_DIA_8          0.808849        0.847752        1.000000   \n",
       "PooledQC_DIA_18         0.836437        0.853048        0.839087   \n",
       "PooledQC_DIA_19         0.834816        0.864500        0.834356   \n",
       "PooledQC_DIA_9          0.838780        0.846628        0.829124   \n",
       "PooledQC_DIA_5          0.838858        0.854405        0.823878   \n",
       "PooledQC_DIA_10         0.836582        0.857039        0.814830   \n",
       "PooledQC_DIA_6          0.846393        0.877370        0.804438   \n",
       "PooledQC_DIA_13         0.849574        0.855614        0.830028   \n",
       "PooledQC_DIA_20         0.834301        0.841832        0.830853   \n",
       "PooledQC_DIA_15         0.848645        0.851362        0.838362   \n",
       "PooledQC_DIA_16         0.834195        0.853401        0.821343   \n",
       "PooledQC_DIA_3          0.841429        0.870429        0.818721   \n",
       "\n",
       "                 PooledQC_DIA_18  PooledQC_DIA_19  PooledQC_DIA_9  \\\n",
       "PooledQC_DIA_2          0.853352         0.812371        0.836640   \n",
       "PooledQC_DIA_17         0.821177         0.839608        0.831415   \n",
       "PooledQC_DIA_1          0.832982         0.839692        0.855110   \n",
       "PooledQC_DIA_14         0.870767         0.823233        0.844665   \n",
       "PooledQC_DIA_12         0.851108         0.812771        0.824559   \n",
       "PooledQC_DIA_7          0.851951         0.846535        0.834504   \n",
       "PooledQC_DIA_11         0.836437         0.834816        0.838780   \n",
       "PooledQC_DIA_4          0.853048         0.864500        0.846628   \n",
       "PooledQC_DIA_8          0.839087         0.834356        0.829124   \n",
       "PooledQC_DIA_18         1.000000         0.865497        0.853166   \n",
       "PooledQC_DIA_19         0.865497         1.000000        0.839208   \n",
       "PooledQC_DIA_9          0.853166         0.839208        1.000000   \n",
       "PooledQC_DIA_5          0.846392         0.862529        0.851593   \n",
       "PooledQC_DIA_10         0.847736         0.805144        0.847333   \n",
       "PooledQC_DIA_6          0.841940         0.850451        0.852732   \n",
       "PooledQC_DIA_13         0.843278         0.815535        0.854626   \n",
       "PooledQC_DIA_20         0.867748         0.848266        0.835949   \n",
       "PooledQC_DIA_15         0.853963         0.852246        0.867106   \n",
       "PooledQC_DIA_16         0.854506         0.834710        0.842327   \n",
       "PooledQC_DIA_3          0.860399         0.853167        0.838175   \n",
       "\n",
       "                 PooledQC_DIA_5  PooledQC_DIA_10  PooledQC_DIA_6  \\\n",
       "PooledQC_DIA_2         0.838808         0.843469        0.845639   \n",
       "PooledQC_DIA_17        0.845888         0.812474        0.846587   \n",
       "PooledQC_DIA_1         0.852363         0.822174        0.843904   \n",
       "PooledQC_DIA_14        0.837745         0.834987        0.848483   \n",
       "PooledQC_DIA_12        0.817430         0.823953        0.835316   \n",
       "PooledQC_DIA_7         0.824083         0.826904        0.830382   \n",
       "PooledQC_DIA_11        0.838858         0.836582        0.846393   \n",
       "PooledQC_DIA_4         0.854405         0.857039        0.877370   \n",
       "PooledQC_DIA_8         0.823878         0.814830        0.804438   \n",
       "PooledQC_DIA_18        0.846392         0.847736        0.841940   \n",
       "PooledQC_DIA_19        0.862529         0.805144        0.850451   \n",
       "PooledQC_DIA_9         0.851593         0.847333        0.852732   \n",
       "PooledQC_DIA_5         1.000000         0.822383        0.852353   \n",
       "PooledQC_DIA_10        0.822383         1.000000        0.850775   \n",
       "PooledQC_DIA_6         0.852353         0.850775        1.000000   \n",
       "PooledQC_DIA_13        0.819867         0.831635        0.846800   \n",
       "PooledQC_DIA_20        0.841597         0.823425        0.824684   \n",
       "PooledQC_DIA_15        0.846972         0.831542        0.842280   \n",
       "PooledQC_DIA_16        0.845188         0.800298        0.833389   \n",
       "PooledQC_DIA_3         0.847969         0.839146        0.836129   \n",
       "\n",
       "                 PooledQC_DIA_13  PooledQC_DIA_20  PooledQC_DIA_15  \\\n",
       "PooledQC_DIA_2          0.846487         0.854173         0.835001   \n",
       "PooledQC_DIA_17         0.822087         0.837052         0.824400   \n",
       "PooledQC_DIA_1          0.842387         0.839948         0.855076   \n",
       "PooledQC_DIA_14         0.845252         0.845827         0.858629   \n",
       "PooledQC_DIA_12         0.839801         0.830921         0.836078   \n",
       "PooledQC_DIA_7          0.806536         0.855722         0.825656   \n",
       "PooledQC_DIA_11         0.849574         0.834301         0.848645   \n",
       "PooledQC_DIA_4          0.855614         0.841832         0.851362   \n",
       "PooledQC_DIA_8          0.830028         0.830853         0.838362   \n",
       "PooledQC_DIA_18         0.843278         0.867748         0.853963   \n",
       "PooledQC_DIA_19         0.815535         0.848266         0.852246   \n",
       "PooledQC_DIA_9          0.854626         0.835949         0.867106   \n",
       "PooledQC_DIA_5          0.819867         0.841597         0.846972   \n",
       "PooledQC_DIA_10         0.831635         0.823425         0.831542   \n",
       "PooledQC_DIA_6          0.846800         0.824684         0.842280   \n",
       "PooledQC_DIA_13         1.000000         0.841484         0.842609   \n",
       "PooledQC_DIA_20         0.841484         1.000000         0.822107   \n",
       "PooledQC_DIA_15         0.842609         0.822107         1.000000   \n",
       "PooledQC_DIA_16         0.817323         0.842902         0.849293   \n",
       "PooledQC_DIA_3          0.851486         0.821576         0.861401   \n",
       "\n",
       "                 PooledQC_DIA_16  PooledQC_DIA_3  \n",
       "PooledQC_DIA_2          0.827027        0.848946  \n",
       "PooledQC_DIA_17         0.823503        0.838718  \n",
       "PooledQC_DIA_1          0.831028        0.837902  \n",
       "PooledQC_DIA_14         0.829617        0.839184  \n",
       "PooledQC_DIA_12         0.824848        0.837010  \n",
       "PooledQC_DIA_7          0.852864        0.839043  \n",
       "PooledQC_DIA_11         0.834195        0.841429  \n",
       "PooledQC_DIA_4          0.853401        0.870429  \n",
       "PooledQC_DIA_8          0.821343        0.818721  \n",
       "PooledQC_DIA_18         0.854506        0.860399  \n",
       "PooledQC_DIA_19         0.834710        0.853167  \n",
       "PooledQC_DIA_9          0.842327        0.838175  \n",
       "PooledQC_DIA_5          0.845188        0.847969  \n",
       "PooledQC_DIA_10         0.800298        0.839146  \n",
       "PooledQC_DIA_6          0.833389        0.836129  \n",
       "PooledQC_DIA_13         0.817323        0.851486  \n",
       "PooledQC_DIA_20         0.842902        0.821576  \n",
       "PooledQC_DIA_15         0.849293        0.861401  \n",
       "PooledQC_DIA_16         1.000000        0.857749  \n",
       "PooledQC_DIA_3          0.857749        1.000000  "
      ]
     },
     "execution_count": 9,
     "metadata": {},
     "output_type": "execute_result"
    }
   ],
   "source": [
    "def data_melt(data):\n",
    "    # 使用 melt() 函数将 DataFrame 转换为长格式数据\n",
    "    long_format = data.reset_index().melt(id_vars='index', var_name='Column', value_name='Correlation')\n",
    "    long_format.rename(columns={'index': 'Row'}, inplace=True)\n",
    "    return long_format\n",
    "\n",
    "\n",
    "data = pd.read_excel(\"/Users/ranpeng/Library/Mobile Documents/com~apple~CloudDocs/Desktop/Manuscript/Supplementary-Tables/Supplementary-Table1.xlsx\", sheet_name=\"7.Spearman_Correlation_Rawdata\", index_col=0)\n",
    "data"
   ]
  },
  {
   "cell_type": "code",
   "execution_count": 10,
   "metadata": {},
   "outputs": [
    {
     "data": {
      "text/html": [
       "<div>\n",
       "<style scoped>\n",
       "    .dataframe tbody tr th:only-of-type {\n",
       "        vertical-align: middle;\n",
       "    }\n",
       "\n",
       "    .dataframe tbody tr th {\n",
       "        vertical-align: top;\n",
       "    }\n",
       "\n",
       "    .dataframe thead th {\n",
       "        text-align: right;\n",
       "    }\n",
       "</style>\n",
       "<table border=\"1\" class=\"dataframe\">\n",
       "  <thead>\n",
       "    <tr style=\"text-align: right;\">\n",
       "      <th></th>\n",
       "      <th>Row</th>\n",
       "      <th>Column</th>\n",
       "      <th>Correlation</th>\n",
       "    </tr>\n",
       "  </thead>\n",
       "  <tbody>\n",
       "    <tr>\n",
       "      <th>0</th>\n",
       "      <td>PooledQC_DIA_2</td>\n",
       "      <td>PooledQC_DIA_2</td>\n",
       "      <td>1.000000</td>\n",
       "    </tr>\n",
       "    <tr>\n",
       "      <th>1</th>\n",
       "      <td>PooledQC_DIA_17</td>\n",
       "      <td>PooledQC_DIA_2</td>\n",
       "      <td>0.805485</td>\n",
       "    </tr>\n",
       "    <tr>\n",
       "      <th>2</th>\n",
       "      <td>PooledQC_DIA_1</td>\n",
       "      <td>PooledQC_DIA_2</td>\n",
       "      <td>0.846101</td>\n",
       "    </tr>\n",
       "    <tr>\n",
       "      <th>3</th>\n",
       "      <td>PooledQC_DIA_14</td>\n",
       "      <td>PooledQC_DIA_2</td>\n",
       "      <td>0.854564</td>\n",
       "    </tr>\n",
       "    <tr>\n",
       "      <th>4</th>\n",
       "      <td>PooledQC_DIA_12</td>\n",
       "      <td>PooledQC_DIA_2</td>\n",
       "      <td>0.825160</td>\n",
       "    </tr>\n",
       "    <tr>\n",
       "      <th>...</th>\n",
       "      <td>...</td>\n",
       "      <td>...</td>\n",
       "      <td>...</td>\n",
       "    </tr>\n",
       "    <tr>\n",
       "      <th>395</th>\n",
       "      <td>PooledQC_DIA_13</td>\n",
       "      <td>PooledQC_DIA_3</td>\n",
       "      <td>0.851486</td>\n",
       "    </tr>\n",
       "    <tr>\n",
       "      <th>396</th>\n",
       "      <td>PooledQC_DIA_20</td>\n",
       "      <td>PooledQC_DIA_3</td>\n",
       "      <td>0.821576</td>\n",
       "    </tr>\n",
       "    <tr>\n",
       "      <th>397</th>\n",
       "      <td>PooledQC_DIA_15</td>\n",
       "      <td>PooledQC_DIA_3</td>\n",
       "      <td>0.861401</td>\n",
       "    </tr>\n",
       "    <tr>\n",
       "      <th>398</th>\n",
       "      <td>PooledQC_DIA_16</td>\n",
       "      <td>PooledQC_DIA_3</td>\n",
       "      <td>0.857749</td>\n",
       "    </tr>\n",
       "    <tr>\n",
       "      <th>399</th>\n",
       "      <td>PooledQC_DIA_3</td>\n",
       "      <td>PooledQC_DIA_3</td>\n",
       "      <td>1.000000</td>\n",
       "    </tr>\n",
       "  </tbody>\n",
       "</table>\n",
       "<p>400 rows × 3 columns</p>\n",
       "</div>"
      ],
      "text/plain": [
       "                 Row          Column  Correlation\n",
       "0     PooledQC_DIA_2  PooledQC_DIA_2     1.000000\n",
       "1    PooledQC_DIA_17  PooledQC_DIA_2     0.805485\n",
       "2     PooledQC_DIA_1  PooledQC_DIA_2     0.846101\n",
       "3    PooledQC_DIA_14  PooledQC_DIA_2     0.854564\n",
       "4    PooledQC_DIA_12  PooledQC_DIA_2     0.825160\n",
       "..               ...             ...          ...\n",
       "395  PooledQC_DIA_13  PooledQC_DIA_3     0.851486\n",
       "396  PooledQC_DIA_20  PooledQC_DIA_3     0.821576\n",
       "397  PooledQC_DIA_15  PooledQC_DIA_3     0.861401\n",
       "398  PooledQC_DIA_16  PooledQC_DIA_3     0.857749\n",
       "399   PooledQC_DIA_3  PooledQC_DIA_3     1.000000\n",
       "\n",
       "[400 rows x 3 columns]"
      ]
     },
     "execution_count": 10,
     "metadata": {},
     "output_type": "execute_result"
    }
   ],
   "source": [
    "data_melt(data)"
   ]
  },
  {
   "cell_type": "code",
   "execution_count": 2,
   "metadata": {},
   "outputs": [],
   "source": [
    "def extract_lower_triangular(df_corr):\n",
    "    \"\"\"\n",
    "    提取相关性矩阵对角线以下的一半相关性值。\n",
    "\n",
    "    参数:\n",
    "    ----\n",
    "    df_corr : pandas.DataFrame\n",
    "        相关性矩阵的 DataFrame。\n",
    "\n",
    "    返回:\n",
    "    -----\n",
    "    pandas.DataFrame\n",
    "        包含对角线以下一半相关性值的 DataFrame。\n",
    "    \"\"\"\n",
    "    if not isinstance(df_corr, pd.DataFrame):\n",
    "        raise ValueError(\"df_corr 必须是 pandas.DataFrame 类型。\")\n",
    "\n",
    "    # 获取对角线以下的索引\n",
    "    tril_indices = np.tril_indices(df_corr.shape[0], k=-1)\n",
    "\n",
    "    # 提取对角线以下的一半相关性值\n",
    "    lower_triangular_values = df_corr.to_numpy()[tril_indices]\n",
    "\n",
    "    return pd.DataFrame(\n",
    "        {\n",
    "            'Row': df_corr.index[tril_indices[0]],\n",
    "            'Column': df_corr.columns[tril_indices[1]],\n",
    "            'Correlation': lower_triangular_values,\n",
    "        }\n",
    "    )\n",
    "\n",
    "\n",
    "def get_IQR(data):\n",
    "    Q1 = data.quantile(0.25)\n",
    "    Q3 = data.quantile(0.75)\n",
    "    IQR = Q3 - Q1\n",
    "    print(f\"The IQR1 is: {Q1}\")\n",
    "    print(f\"The IQR3 is: {Q3}\")\n",
    "    mean = data.mean()\n",
    "    print(f\"The mean is: {mean}\")\n",
    "    median = data.median()\n",
    "    print(f\"The median is: {median}\")\n"
   ]
  },
  {
   "cell_type": "code",
   "execution_count": 17,
   "metadata": {},
   "outputs": [
    {
     "name": "stdout",
     "output_type": "stream",
     "text": [
      "The IQR1 is: 0.8309291553135862\n",
      "The IQR3 is: 0.8502319619298033\n",
      "The mean is: 0.83971666895465\n",
      "The median is: 0.8396512084709049\n"
     ]
    },
    {
     "data": {
      "text/html": [
       "<div>\n",
       "<style scoped>\n",
       "    .dataframe tbody tr th:only-of-type {\n",
       "        vertical-align: middle;\n",
       "    }\n",
       "\n",
       "    .dataframe tbody tr th {\n",
       "        vertical-align: top;\n",
       "    }\n",
       "\n",
       "    .dataframe thead th {\n",
       "        text-align: right;\n",
       "    }\n",
       "</style>\n",
       "<table border=\"1\" class=\"dataframe\">\n",
       "  <thead>\n",
       "    <tr style=\"text-align: right;\">\n",
       "      <th></th>\n",
       "      <th>Row</th>\n",
       "      <th>Column</th>\n",
       "      <th>Correlation</th>\n",
       "    </tr>\n",
       "  </thead>\n",
       "  <tbody>\n",
       "    <tr>\n",
       "      <th>0</th>\n",
       "      <td>PooledQC_DIA_17</td>\n",
       "      <td>PooledQC_DIA_2</td>\n",
       "      <td>0.805485</td>\n",
       "    </tr>\n",
       "    <tr>\n",
       "      <th>1</th>\n",
       "      <td>PooledQC_DIA_1</td>\n",
       "      <td>PooledQC_DIA_2</td>\n",
       "      <td>0.846101</td>\n",
       "    </tr>\n",
       "    <tr>\n",
       "      <th>2</th>\n",
       "      <td>PooledQC_DIA_1</td>\n",
       "      <td>PooledQC_DIA_17</td>\n",
       "      <td>0.830953</td>\n",
       "    </tr>\n",
       "    <tr>\n",
       "      <th>3</th>\n",
       "      <td>PooledQC_DIA_14</td>\n",
       "      <td>PooledQC_DIA_2</td>\n",
       "      <td>0.854564</td>\n",
       "    </tr>\n",
       "    <tr>\n",
       "      <th>4</th>\n",
       "      <td>PooledQC_DIA_14</td>\n",
       "      <td>PooledQC_DIA_17</td>\n",
       "      <td>0.837464</td>\n",
       "    </tr>\n",
       "    <tr>\n",
       "      <th>...</th>\n",
       "      <td>...</td>\n",
       "      <td>...</td>\n",
       "      <td>...</td>\n",
       "    </tr>\n",
       "    <tr>\n",
       "      <th>185</th>\n",
       "      <td>PooledQC_DIA_3</td>\n",
       "      <td>PooledQC_DIA_6</td>\n",
       "      <td>0.836129</td>\n",
       "    </tr>\n",
       "    <tr>\n",
       "      <th>186</th>\n",
       "      <td>PooledQC_DIA_3</td>\n",
       "      <td>PooledQC_DIA_13</td>\n",
       "      <td>0.851486</td>\n",
       "    </tr>\n",
       "    <tr>\n",
       "      <th>187</th>\n",
       "      <td>PooledQC_DIA_3</td>\n",
       "      <td>PooledQC_DIA_20</td>\n",
       "      <td>0.821576</td>\n",
       "    </tr>\n",
       "    <tr>\n",
       "      <th>188</th>\n",
       "      <td>PooledQC_DIA_3</td>\n",
       "      <td>PooledQC_DIA_15</td>\n",
       "      <td>0.861401</td>\n",
       "    </tr>\n",
       "    <tr>\n",
       "      <th>189</th>\n",
       "      <td>PooledQC_DIA_3</td>\n",
       "      <td>PooledQC_DIA_16</td>\n",
       "      <td>0.857749</td>\n",
       "    </tr>\n",
       "  </tbody>\n",
       "</table>\n",
       "<p>190 rows × 3 columns</p>\n",
       "</div>"
      ],
      "text/plain": [
       "                 Row           Column  Correlation\n",
       "0    PooledQC_DIA_17   PooledQC_DIA_2     0.805485\n",
       "1     PooledQC_DIA_1   PooledQC_DIA_2     0.846101\n",
       "2     PooledQC_DIA_1  PooledQC_DIA_17     0.830953\n",
       "3    PooledQC_DIA_14   PooledQC_DIA_2     0.854564\n",
       "4    PooledQC_DIA_14  PooledQC_DIA_17     0.837464\n",
       "..               ...              ...          ...\n",
       "185   PooledQC_DIA_3   PooledQC_DIA_6     0.836129\n",
       "186   PooledQC_DIA_3  PooledQC_DIA_13     0.851486\n",
       "187   PooledQC_DIA_3  PooledQC_DIA_20     0.821576\n",
       "188   PooledQC_DIA_3  PooledQC_DIA_15     0.861401\n",
       "189   PooledQC_DIA_3  PooledQC_DIA_16     0.857749\n",
       "\n",
       "[190 rows x 3 columns]"
      ]
     },
     "execution_count": 17,
     "metadata": {},
     "output_type": "execute_result"
    }
   ],
   "source": [
    "# Figure-2F\n",
    "data = pd.read_excel(\"/Users/ranpeng/Library/Mobile Documents/com~apple~CloudDocs/Desktop/Manuscript/Supplementary-Tables/Supplementary-Table1.xlsx\", sheet_name=\"7.Spearman_Correlation_Rawdata\", index_col=0)\n",
    "result_df = extract_lower_triangular(data)\n",
    "get_IQR(result_df['Correlation'])\n",
    "result_df\n"
   ]
  },
  {
   "cell_type": "code",
   "execution_count": 18,
   "metadata": {},
   "outputs": [
    {
     "name": "stdout",
     "output_type": "stream",
     "text": [
      "The IQR1 is: 0.9260914080585152\n",
      "The IQR3 is: 0.9398674667743799\n",
      "The mean is: 0.9325575877815023\n",
      "The median is: 0.9316630361271315\n"
     ]
    },
    {
     "data": {
      "text/html": [
       "<div>\n",
       "<style scoped>\n",
       "    .dataframe tbody tr th:only-of-type {\n",
       "        vertical-align: middle;\n",
       "    }\n",
       "\n",
       "    .dataframe tbody tr th {\n",
       "        vertical-align: top;\n",
       "    }\n",
       "\n",
       "    .dataframe thead th {\n",
       "        text-align: right;\n",
       "    }\n",
       "</style>\n",
       "<table border=\"1\" class=\"dataframe\">\n",
       "  <thead>\n",
       "    <tr style=\"text-align: right;\">\n",
       "      <th></th>\n",
       "      <th>Row</th>\n",
       "      <th>Column</th>\n",
       "      <th>Correlation</th>\n",
       "    </tr>\n",
       "  </thead>\n",
       "  <tbody>\n",
       "    <tr>\n",
       "      <th>0</th>\n",
       "      <td>PooledQC_DIA_17</td>\n",
       "      <td>PooledQC_DIA_2</td>\n",
       "      <td>0.944559</td>\n",
       "    </tr>\n",
       "    <tr>\n",
       "      <th>1</th>\n",
       "      <td>PooledQC_DIA_1</td>\n",
       "      <td>PooledQC_DIA_2</td>\n",
       "      <td>0.935540</td>\n",
       "    </tr>\n",
       "    <tr>\n",
       "      <th>2</th>\n",
       "      <td>PooledQC_DIA_1</td>\n",
       "      <td>PooledQC_DIA_17</td>\n",
       "      <td>0.930742</td>\n",
       "    </tr>\n",
       "    <tr>\n",
       "      <th>3</th>\n",
       "      <td>PooledQC_DIA_14</td>\n",
       "      <td>PooledQC_DIA_2</td>\n",
       "      <td>0.933423</td>\n",
       "    </tr>\n",
       "    <tr>\n",
       "      <th>4</th>\n",
       "      <td>PooledQC_DIA_14</td>\n",
       "      <td>PooledQC_DIA_17</td>\n",
       "      <td>0.932258</td>\n",
       "    </tr>\n",
       "    <tr>\n",
       "      <th>...</th>\n",
       "      <td>...</td>\n",
       "      <td>...</td>\n",
       "      <td>...</td>\n",
       "    </tr>\n",
       "    <tr>\n",
       "      <th>185</th>\n",
       "      <td>PooledQC_DIA_3</td>\n",
       "      <td>PooledQC_DIA_6</td>\n",
       "      <td>0.945844</td>\n",
       "    </tr>\n",
       "    <tr>\n",
       "      <th>186</th>\n",
       "      <td>PooledQC_DIA_3</td>\n",
       "      <td>PooledQC_DIA_13</td>\n",
       "      <td>0.919175</td>\n",
       "    </tr>\n",
       "    <tr>\n",
       "      <th>187</th>\n",
       "      <td>PooledQC_DIA_3</td>\n",
       "      <td>PooledQC_DIA_20</td>\n",
       "      <td>0.930166</td>\n",
       "    </tr>\n",
       "    <tr>\n",
       "      <th>188</th>\n",
       "      <td>PooledQC_DIA_3</td>\n",
       "      <td>PooledQC_DIA_15</td>\n",
       "      <td>0.939769</td>\n",
       "    </tr>\n",
       "    <tr>\n",
       "      <th>189</th>\n",
       "      <td>PooledQC_DIA_3</td>\n",
       "      <td>PooledQC_DIA_16</td>\n",
       "      <td>0.935556</td>\n",
       "    </tr>\n",
       "  </tbody>\n",
       "</table>\n",
       "<p>190 rows × 3 columns</p>\n",
       "</div>"
      ],
      "text/plain": [
       "                 Row           Column  Correlation\n",
       "0    PooledQC_DIA_17   PooledQC_DIA_2     0.944559\n",
       "1     PooledQC_DIA_1   PooledQC_DIA_2     0.935540\n",
       "2     PooledQC_DIA_1  PooledQC_DIA_17     0.930742\n",
       "3    PooledQC_DIA_14   PooledQC_DIA_2     0.933423\n",
       "4    PooledQC_DIA_14  PooledQC_DIA_17     0.932258\n",
       "..               ...              ...          ...\n",
       "185   PooledQC_DIA_3   PooledQC_DIA_6     0.945844\n",
       "186   PooledQC_DIA_3  PooledQC_DIA_13     0.919175\n",
       "187   PooledQC_DIA_3  PooledQC_DIA_20     0.930166\n",
       "188   PooledQC_DIA_3  PooledQC_DIA_15     0.939769\n",
       "189   PooledQC_DIA_3  PooledQC_DIA_16     0.935556\n",
       "\n",
       "[190 rows x 3 columns]"
      ]
     },
     "execution_count": 18,
     "metadata": {},
     "output_type": "execute_result"
    }
   ],
   "source": [
    "# Figure-2F\n",
    "data = pd.read_excel(\"/Users/ranpeng/Library/Mobile Documents/com~apple~CloudDocs/Desktop/Manuscript/Supplementary-Tables/Supplementary-Table1.xlsx\", sheet_name=\"8.Spearman_Correlation_STAVER\", index_col=0)\n",
    "result_df = extract_lower_triangular(data)\n",
    "get_IQR(result_df['Correlation'])\n",
    "result_df"
   ]
  },
  {
   "cell_type": "code",
   "execution_count": 5,
   "metadata": {},
   "outputs": [
    {
     "name": "stdout",
     "output_type": "stream",
     "text": [
      "The IQR1 is: 0.7352137788990277\n",
      "The IQR3 is: 0.7653740545163022\n",
      "The mean is: 0.7519872280517487\n",
      "The median is: 0.751564001791073\n"
     ]
    },
    {
     "data": {
      "text/html": [
       "<div>\n",
       "<style scoped>\n",
       "    .dataframe tbody tr th:only-of-type {\n",
       "        vertical-align: middle;\n",
       "    }\n",
       "\n",
       "    .dataframe tbody tr th {\n",
       "        vertical-align: top;\n",
       "    }\n",
       "\n",
       "    .dataframe thead th {\n",
       "        text-align: right;\n",
       "    }\n",
       "</style>\n",
       "<table border=\"1\" class=\"dataframe\">\n",
       "  <thead>\n",
       "    <tr style=\"text-align: right;\">\n",
       "      <th></th>\n",
       "      <th>Row</th>\n",
       "      <th>Column</th>\n",
       "      <th>Correlation</th>\n",
       "    </tr>\n",
       "  </thead>\n",
       "  <tbody>\n",
       "    <tr>\n",
       "      <th>0</th>\n",
       "      <td>Exp112119</td>\n",
       "      <td>Exp112124</td>\n",
       "      <td>0.765584</td>\n",
       "    </tr>\n",
       "    <tr>\n",
       "      <th>1</th>\n",
       "      <td>Exp112125</td>\n",
       "      <td>Exp112124</td>\n",
       "      <td>0.807214</td>\n",
       "    </tr>\n",
       "    <tr>\n",
       "      <th>2</th>\n",
       "      <td>Exp112125</td>\n",
       "      <td>Exp112119</td>\n",
       "      <td>0.746068</td>\n",
       "    </tr>\n",
       "    <tr>\n",
       "      <th>3</th>\n",
       "      <td>Exp112126</td>\n",
       "      <td>Exp112124</td>\n",
       "      <td>0.770918</td>\n",
       "    </tr>\n",
       "    <tr>\n",
       "      <th>4</th>\n",
       "      <td>Exp112126</td>\n",
       "      <td>Exp112119</td>\n",
       "      <td>0.722988</td>\n",
       "    </tr>\n",
       "    <tr>\n",
       "      <th>5</th>\n",
       "      <td>Exp112126</td>\n",
       "      <td>Exp112125</td>\n",
       "      <td>0.771978</td>\n",
       "    </tr>\n",
       "    <tr>\n",
       "      <th>6</th>\n",
       "      <td>Exp112122</td>\n",
       "      <td>Exp112124</td>\n",
       "      <td>0.725482</td>\n",
       "    </tr>\n",
       "    <tr>\n",
       "      <th>7</th>\n",
       "      <td>Exp112122</td>\n",
       "      <td>Exp112119</td>\n",
       "      <td>0.756396</td>\n",
       "    </tr>\n",
       "    <tr>\n",
       "      <th>8</th>\n",
       "      <td>Exp112122</td>\n",
       "      <td>Exp112125</td>\n",
       "      <td>0.736876</td>\n",
       "    </tr>\n",
       "    <tr>\n",
       "      <th>9</th>\n",
       "      <td>Exp112122</td>\n",
       "      <td>Exp112126</td>\n",
       "      <td>0.711529</td>\n",
       "    </tr>\n",
       "    <tr>\n",
       "      <th>10</th>\n",
       "      <td>Exp112123</td>\n",
       "      <td>Exp112124</td>\n",
       "      <td>0.796795</td>\n",
       "    </tr>\n",
       "    <tr>\n",
       "      <th>11</th>\n",
       "      <td>Exp112123</td>\n",
       "      <td>Exp112119</td>\n",
       "      <td>0.749545</td>\n",
       "    </tr>\n",
       "    <tr>\n",
       "      <th>12</th>\n",
       "      <td>Exp112123</td>\n",
       "      <td>Exp112125</td>\n",
       "      <td>0.761618</td>\n",
       "    </tr>\n",
       "    <tr>\n",
       "      <th>13</th>\n",
       "      <td>Exp112123</td>\n",
       "      <td>Exp112126</td>\n",
       "      <td>0.763921</td>\n",
       "    </tr>\n",
       "    <tr>\n",
       "      <th>14</th>\n",
       "      <td>Exp112123</td>\n",
       "      <td>Exp112122</td>\n",
       "      <td>0.716780</td>\n",
       "    </tr>\n",
       "    <tr>\n",
       "      <th>15</th>\n",
       "      <td>Exp112121</td>\n",
       "      <td>Exp112124</td>\n",
       "      <td>0.753584</td>\n",
       "    </tr>\n",
       "    <tr>\n",
       "      <th>16</th>\n",
       "      <td>Exp112121</td>\n",
       "      <td>Exp112119</td>\n",
       "      <td>0.776913</td>\n",
       "    </tr>\n",
       "    <tr>\n",
       "      <th>17</th>\n",
       "      <td>Exp112121</td>\n",
       "      <td>Exp112125</td>\n",
       "      <td>0.748433</td>\n",
       "    </tr>\n",
       "    <tr>\n",
       "      <th>18</th>\n",
       "      <td>Exp112121</td>\n",
       "      <td>Exp112126</td>\n",
       "      <td>0.740793</td>\n",
       "    </tr>\n",
       "    <tr>\n",
       "      <th>19</th>\n",
       "      <td>Exp112121</td>\n",
       "      <td>Exp112122</td>\n",
       "      <td>0.712117</td>\n",
       "    </tr>\n",
       "    <tr>\n",
       "      <th>20</th>\n",
       "      <td>Exp112121</td>\n",
       "      <td>Exp112123</td>\n",
       "      <td>0.737485</td>\n",
       "    </tr>\n",
       "    <tr>\n",
       "      <th>21</th>\n",
       "      <td>Exp112120</td>\n",
       "      <td>Exp112124</td>\n",
       "      <td>0.762680</td>\n",
       "    </tr>\n",
       "    <tr>\n",
       "      <th>22</th>\n",
       "      <td>Exp112120</td>\n",
       "      <td>Exp112119</td>\n",
       "      <td>0.786181</td>\n",
       "    </tr>\n",
       "    <tr>\n",
       "      <th>23</th>\n",
       "      <td>Exp112120</td>\n",
       "      <td>Exp112125</td>\n",
       "      <td>0.761740</td>\n",
       "    </tr>\n",
       "    <tr>\n",
       "      <th>24</th>\n",
       "      <td>Exp112120</td>\n",
       "      <td>Exp112126</td>\n",
       "      <td>0.727001</td>\n",
       "    </tr>\n",
       "    <tr>\n",
       "      <th>25</th>\n",
       "      <td>Exp112120</td>\n",
       "      <td>Exp112122</td>\n",
       "      <td>0.730226</td>\n",
       "    </tr>\n",
       "    <tr>\n",
       "      <th>26</th>\n",
       "      <td>Exp112120</td>\n",
       "      <td>Exp112123</td>\n",
       "      <td>0.749495</td>\n",
       "    </tr>\n",
       "    <tr>\n",
       "      <th>27</th>\n",
       "      <td>Exp112120</td>\n",
       "      <td>Exp112121</td>\n",
       "      <td>0.765304</td>\n",
       "    </tr>\n",
       "  </tbody>\n",
       "</table>\n",
       "</div>"
      ],
      "text/plain": [
       "          Row     Column  Correlation\n",
       "0   Exp112119  Exp112124     0.765584\n",
       "1   Exp112125  Exp112124     0.807214\n",
       "2   Exp112125  Exp112119     0.746068\n",
       "3   Exp112126  Exp112124     0.770918\n",
       "4   Exp112126  Exp112119     0.722988\n",
       "5   Exp112126  Exp112125     0.771978\n",
       "6   Exp112122  Exp112124     0.725482\n",
       "7   Exp112122  Exp112119     0.756396\n",
       "8   Exp112122  Exp112125     0.736876\n",
       "9   Exp112122  Exp112126     0.711529\n",
       "10  Exp112123  Exp112124     0.796795\n",
       "11  Exp112123  Exp112119     0.749545\n",
       "12  Exp112123  Exp112125     0.761618\n",
       "13  Exp112123  Exp112126     0.763921\n",
       "14  Exp112123  Exp112122     0.716780\n",
       "15  Exp112121  Exp112124     0.753584\n",
       "16  Exp112121  Exp112119     0.776913\n",
       "17  Exp112121  Exp112125     0.748433\n",
       "18  Exp112121  Exp112126     0.740793\n",
       "19  Exp112121  Exp112122     0.712117\n",
       "20  Exp112121  Exp112123     0.737485\n",
       "21  Exp112120  Exp112124     0.762680\n",
       "22  Exp112120  Exp112119     0.786181\n",
       "23  Exp112120  Exp112125     0.761740\n",
       "24  Exp112120  Exp112126     0.727001\n",
       "25  Exp112120  Exp112122     0.730226\n",
       "26  Exp112120  Exp112123     0.749495\n",
       "27  Exp112120  Exp112121     0.765304"
      ]
     },
     "execution_count": 5,
     "metadata": {},
     "output_type": "execute_result"
    }
   ],
   "source": [
    "# Figure-3A raw data\n",
    "data = pd.read_excel(\"/Users/ranpeng/Library/Mobile Documents/com~apple~CloudDocs/Desktop/Manuscript/Supplementary-Tables/Supplementary-Table2.xlsx\", sheet_name=\"1.Spearman_Correlation_Rawdata\", index_col=0)\n",
    "result_df = extract_lower_triangular(data)\n",
    "get_IQR(result_df['Correlation'])\n",
    "result_df"
   ]
  },
  {
   "cell_type": "code",
   "execution_count": 6,
   "metadata": {},
   "outputs": [
    {
     "name": "stdout",
     "output_type": "stream",
     "text": [
      "The IQR1 is: 0.903401979147289\n",
      "The IQR3 is: 0.9256873095581675\n",
      "The mean is: 0.9147572886585474\n",
      "The median is: 0.913884362962627\n"
     ]
    },
    {
     "data": {
      "text/html": [
       "<div>\n",
       "<style scoped>\n",
       "    .dataframe tbody tr th:only-of-type {\n",
       "        vertical-align: middle;\n",
       "    }\n",
       "\n",
       "    .dataframe tbody tr th {\n",
       "        vertical-align: top;\n",
       "    }\n",
       "\n",
       "    .dataframe thead th {\n",
       "        text-align: right;\n",
       "    }\n",
       "</style>\n",
       "<table border=\"1\" class=\"dataframe\">\n",
       "  <thead>\n",
       "    <tr style=\"text-align: right;\">\n",
       "      <th></th>\n",
       "      <th>Row</th>\n",
       "      <th>Column</th>\n",
       "      <th>Correlation</th>\n",
       "    </tr>\n",
       "  </thead>\n",
       "  <tbody>\n",
       "    <tr>\n",
       "      <th>0</th>\n",
       "      <td>Exp112124</td>\n",
       "      <td>Exp112126</td>\n",
       "      <td>0.928002</td>\n",
       "    </tr>\n",
       "    <tr>\n",
       "      <th>1</th>\n",
       "      <td>Exp112119</td>\n",
       "      <td>Exp112126</td>\n",
       "      <td>0.893714</td>\n",
       "    </tr>\n",
       "    <tr>\n",
       "      <th>2</th>\n",
       "      <td>Exp112119</td>\n",
       "      <td>Exp112124</td>\n",
       "      <td>0.918871</td>\n",
       "    </tr>\n",
       "    <tr>\n",
       "      <th>3</th>\n",
       "      <td>Exp112125</td>\n",
       "      <td>Exp112126</td>\n",
       "      <td>0.943653</td>\n",
       "    </tr>\n",
       "    <tr>\n",
       "      <th>4</th>\n",
       "      <td>Exp112125</td>\n",
       "      <td>Exp112124</td>\n",
       "      <td>0.951373</td>\n",
       "    </tr>\n",
       "    <tr>\n",
       "      <th>5</th>\n",
       "      <td>Exp112125</td>\n",
       "      <td>Exp112119</td>\n",
       "      <td>0.915011</td>\n",
       "    </tr>\n",
       "    <tr>\n",
       "      <th>6</th>\n",
       "      <td>Exp112121</td>\n",
       "      <td>Exp112126</td>\n",
       "      <td>0.896900</td>\n",
       "    </tr>\n",
       "    <tr>\n",
       "      <th>7</th>\n",
       "      <td>Exp112121</td>\n",
       "      <td>Exp112124</td>\n",
       "      <td>0.911067</td>\n",
       "    </tr>\n",
       "    <tr>\n",
       "      <th>8</th>\n",
       "      <td>Exp112121</td>\n",
       "      <td>Exp112119</td>\n",
       "      <td>0.918023</td>\n",
       "    </tr>\n",
       "    <tr>\n",
       "      <th>9</th>\n",
       "      <td>Exp112121</td>\n",
       "      <td>Exp112125</td>\n",
       "      <td>0.889662</td>\n",
       "    </tr>\n",
       "    <tr>\n",
       "      <th>10</th>\n",
       "      <td>Exp112120</td>\n",
       "      <td>Exp112126</td>\n",
       "      <td>0.904783</td>\n",
       "    </tr>\n",
       "    <tr>\n",
       "      <th>11</th>\n",
       "      <td>Exp112120</td>\n",
       "      <td>Exp112124</td>\n",
       "      <td>0.910387</td>\n",
       "    </tr>\n",
       "    <tr>\n",
       "      <th>12</th>\n",
       "      <td>Exp112120</td>\n",
       "      <td>Exp112119</td>\n",
       "      <td>0.928304</td>\n",
       "    </tr>\n",
       "    <tr>\n",
       "      <th>13</th>\n",
       "      <td>Exp112120</td>\n",
       "      <td>Exp112125</td>\n",
       "      <td>0.917094</td>\n",
       "    </tr>\n",
       "    <tr>\n",
       "      <th>14</th>\n",
       "      <td>Exp112120</td>\n",
       "      <td>Exp112121</td>\n",
       "      <td>0.932910</td>\n",
       "    </tr>\n",
       "    <tr>\n",
       "      <th>15</th>\n",
       "      <td>Exp112122</td>\n",
       "      <td>Exp112126</td>\n",
       "      <td>0.897092</td>\n",
       "    </tr>\n",
       "    <tr>\n",
       "      <th>16</th>\n",
       "      <td>Exp112122</td>\n",
       "      <td>Exp112124</td>\n",
       "      <td>0.904070</td>\n",
       "    </tr>\n",
       "    <tr>\n",
       "      <th>17</th>\n",
       "      <td>Exp112122</td>\n",
       "      <td>Exp112119</td>\n",
       "      <td>0.926033</td>\n",
       "    </tr>\n",
       "    <tr>\n",
       "      <th>18</th>\n",
       "      <td>Exp112122</td>\n",
       "      <td>Exp112125</td>\n",
       "      <td>0.909784</td>\n",
       "    </tr>\n",
       "    <tr>\n",
       "      <th>19</th>\n",
       "      <td>Exp112122</td>\n",
       "      <td>Exp112121</td>\n",
       "      <td>0.912758</td>\n",
       "    </tr>\n",
       "    <tr>\n",
       "      <th>20</th>\n",
       "      <td>Exp112122</td>\n",
       "      <td>Exp112120</td>\n",
       "      <td>0.904475</td>\n",
       "    </tr>\n",
       "    <tr>\n",
       "      <th>21</th>\n",
       "      <td>Exp112123</td>\n",
       "      <td>Exp112126</td>\n",
       "      <td>0.901304</td>\n",
       "    </tr>\n",
       "    <tr>\n",
       "      <th>22</th>\n",
       "      <td>Exp112123</td>\n",
       "      <td>Exp112124</td>\n",
       "      <td>0.922267</td>\n",
       "    </tr>\n",
       "    <tr>\n",
       "      <th>23</th>\n",
       "      <td>Exp112123</td>\n",
       "      <td>Exp112119</td>\n",
       "      <td>0.925572</td>\n",
       "    </tr>\n",
       "    <tr>\n",
       "      <th>24</th>\n",
       "      <td>Exp112123</td>\n",
       "      <td>Exp112125</td>\n",
       "      <td>0.922734</td>\n",
       "    </tr>\n",
       "    <tr>\n",
       "      <th>25</th>\n",
       "      <td>Exp112123</td>\n",
       "      <td>Exp112121</td>\n",
       "      <td>0.901397</td>\n",
       "    </tr>\n",
       "    <tr>\n",
       "      <th>26</th>\n",
       "      <td>Exp112123</td>\n",
       "      <td>Exp112120</td>\n",
       "      <td>0.927472</td>\n",
       "    </tr>\n",
       "    <tr>\n",
       "      <th>27</th>\n",
       "      <td>Exp112123</td>\n",
       "      <td>Exp112122</td>\n",
       "      <td>0.898490</td>\n",
       "    </tr>\n",
       "  </tbody>\n",
       "</table>\n",
       "</div>"
      ],
      "text/plain": [
       "          Row     Column  Correlation\n",
       "0   Exp112124  Exp112126     0.928002\n",
       "1   Exp112119  Exp112126     0.893714\n",
       "2   Exp112119  Exp112124     0.918871\n",
       "3   Exp112125  Exp112126     0.943653\n",
       "4   Exp112125  Exp112124     0.951373\n",
       "5   Exp112125  Exp112119     0.915011\n",
       "6   Exp112121  Exp112126     0.896900\n",
       "7   Exp112121  Exp112124     0.911067\n",
       "8   Exp112121  Exp112119     0.918023\n",
       "9   Exp112121  Exp112125     0.889662\n",
       "10  Exp112120  Exp112126     0.904783\n",
       "11  Exp112120  Exp112124     0.910387\n",
       "12  Exp112120  Exp112119     0.928304\n",
       "13  Exp112120  Exp112125     0.917094\n",
       "14  Exp112120  Exp112121     0.932910\n",
       "15  Exp112122  Exp112126     0.897092\n",
       "16  Exp112122  Exp112124     0.904070\n",
       "17  Exp112122  Exp112119     0.926033\n",
       "18  Exp112122  Exp112125     0.909784\n",
       "19  Exp112122  Exp112121     0.912758\n",
       "20  Exp112122  Exp112120     0.904475\n",
       "21  Exp112123  Exp112126     0.901304\n",
       "22  Exp112123  Exp112124     0.922267\n",
       "23  Exp112123  Exp112119     0.925572\n",
       "24  Exp112123  Exp112125     0.922734\n",
       "25  Exp112123  Exp112121     0.901397\n",
       "26  Exp112123  Exp112120     0.927472\n",
       "27  Exp112123  Exp112122     0.898490"
      ]
     },
     "execution_count": 6,
     "metadata": {},
     "output_type": "execute_result"
    }
   ],
   "source": [
    "# Figure-3A STAVER data\n",
    "data = pd.read_excel(\"/Users/ranpeng/Library/Mobile Documents/com~apple~CloudDocs/Desktop/Manuscript/Supplementary-Tables/Supplementary-Table2.xlsx\", sheet_name=\"2.Spearman_Correlation_STAVER\", index_col=0)\n",
    "result_df = extract_lower_triangular(data)\n",
    "get_IQR(result_df['Correlation'])\n",
    "result_df"
   ]
  },
  {
   "cell_type": "code",
   "execution_count": 3,
   "metadata": {},
   "outputs": [
    {
     "data": {
      "text/html": [
       "<div>\n",
       "<style scoped>\n",
       "    .dataframe tbody tr th:only-of-type {\n",
       "        vertical-align: middle;\n",
       "    }\n",
       "\n",
       "    .dataframe tbody tr th {\n",
       "        vertical-align: top;\n",
       "    }\n",
       "\n",
       "    .dataframe thead th {\n",
       "        text-align: right;\n",
       "    }\n",
       "</style>\n",
       "<table border=\"1\" class=\"dataframe\">\n",
       "  <thead>\n",
       "    <tr style=\"text-align: right;\">\n",
       "      <th></th>\n",
       "      <th>Sample</th>\n",
       "      <th>Protein Numbers</th>\n",
       "    </tr>\n",
       "  </thead>\n",
       "  <tbody>\n",
       "    <tr>\n",
       "      <th>0</th>\n",
       "      <td>Exp000000_DingC_PooledQC_DIA_3_HFX5_10min_8cm_...</td>\n",
       "      <td>1741</td>\n",
       "    </tr>\n",
       "    <tr>\n",
       "      <th>1</th>\n",
       "      <td>Exp000000_DingC_PooledQC_DIA_8_HFX5_10min_8cm_...</td>\n",
       "      <td>1815</td>\n",
       "    </tr>\n",
       "    <tr>\n",
       "      <th>2</th>\n",
       "      <td>Exp000000_DingC_PooledQC_DIA_10_HFX5_10min_8cm...</td>\n",
       "      <td>1814</td>\n",
       "    </tr>\n",
       "    <tr>\n",
       "      <th>3</th>\n",
       "      <td>Exp000000_DingC_PooledQC_DIA_16_HFX5_10min_8cm...</td>\n",
       "      <td>1822</td>\n",
       "    </tr>\n",
       "    <tr>\n",
       "      <th>4</th>\n",
       "      <td>Exp000000_DingC_PooledQC_DIA_20_HFX5_10min_8cm...</td>\n",
       "      <td>1792</td>\n",
       "    </tr>\n",
       "    <tr>\n",
       "      <th>5</th>\n",
       "      <td>Exp000000_DingC_PooledQC_DIA_5_HFX5_10min_8cm_...</td>\n",
       "      <td>1794</td>\n",
       "    </tr>\n",
       "    <tr>\n",
       "      <th>6</th>\n",
       "      <td>Exp000000_DingC_PooledQC_DIA_2_HFX5_10min_8cm_...</td>\n",
       "      <td>1679</td>\n",
       "    </tr>\n",
       "    <tr>\n",
       "      <th>7</th>\n",
       "      <td>Exp000000_DingC_PooledQC_DIA_9_HFX5_10min_8cm_...</td>\n",
       "      <td>1793</td>\n",
       "    </tr>\n",
       "    <tr>\n",
       "      <th>8</th>\n",
       "      <td>Exp000000_DingC_PooledQC_DIA_11_HFX5_10min_8cm...</td>\n",
       "      <td>1772</td>\n",
       "    </tr>\n",
       "    <tr>\n",
       "      <th>9</th>\n",
       "      <td>Exp000000_DingC_PooledQC_DIA_17_HFX5_10min_8cm...</td>\n",
       "      <td>1815</td>\n",
       "    </tr>\n",
       "    <tr>\n",
       "      <th>10</th>\n",
       "      <td>Exp000000_DingC_PooledQC_DIA_4_HFX5_10min_8cm_...</td>\n",
       "      <td>1744</td>\n",
       "    </tr>\n",
       "    <tr>\n",
       "      <th>11</th>\n",
       "      <td>Exp000000_DingC_PooledQC_DIA_1_HFX5_10min_8cm_...</td>\n",
       "      <td>1798</td>\n",
       "    </tr>\n",
       "    <tr>\n",
       "      <th>12</th>\n",
       "      <td>Exp000000_DingC_PooledQC_DIA_12_HFX5_10min_8cm...</td>\n",
       "      <td>1769</td>\n",
       "    </tr>\n",
       "    <tr>\n",
       "      <th>13</th>\n",
       "      <td>Exp000000_DingC_PooledQC_DIA_19_HFX5_10min_8cm...</td>\n",
       "      <td>1810</td>\n",
       "    </tr>\n",
       "    <tr>\n",
       "      <th>14</th>\n",
       "      <td>Exp000000_DingC_PooledQC_DIA_14_HFX5_10min_8cm...</td>\n",
       "      <td>1770</td>\n",
       "    </tr>\n",
       "    <tr>\n",
       "      <th>15</th>\n",
       "      <td>Exp000000_DingC_PooledQC_DIA_7_HFX5_10min_8cm_...</td>\n",
       "      <td>1808</td>\n",
       "    </tr>\n",
       "    <tr>\n",
       "      <th>16</th>\n",
       "      <td>Exp000000_DingC_PooledQC_DIA_13_HFX5_10min_8cm...</td>\n",
       "      <td>1844</td>\n",
       "    </tr>\n",
       "    <tr>\n",
       "      <th>17</th>\n",
       "      <td>Exp000000_DingC_PooledQC_DIA_18_HFX5_10min_8cm...</td>\n",
       "      <td>1707</td>\n",
       "    </tr>\n",
       "    <tr>\n",
       "      <th>18</th>\n",
       "      <td>Exp000000_DingC_PooledQC_DIA_15_HFX5_10min_8cm...</td>\n",
       "      <td>1822</td>\n",
       "    </tr>\n",
       "    <tr>\n",
       "      <th>19</th>\n",
       "      <td>Exp000000_DingC_PooledQC_DIA_6_HFX5_10min_8cm_...</td>\n",
       "      <td>1817</td>\n",
       "    </tr>\n",
       "  </tbody>\n",
       "</table>\n",
       "</div>"
      ],
      "text/plain": [
       "                                               Sample  Protein Numbers\n",
       "0   Exp000000_DingC_PooledQC_DIA_3_HFX5_10min_8cm_...             1741\n",
       "1   Exp000000_DingC_PooledQC_DIA_8_HFX5_10min_8cm_...             1815\n",
       "2   Exp000000_DingC_PooledQC_DIA_10_HFX5_10min_8cm...             1814\n",
       "3   Exp000000_DingC_PooledQC_DIA_16_HFX5_10min_8cm...             1822\n",
       "4   Exp000000_DingC_PooledQC_DIA_20_HFX5_10min_8cm...             1792\n",
       "5   Exp000000_DingC_PooledQC_DIA_5_HFX5_10min_8cm_...             1794\n",
       "6   Exp000000_DingC_PooledQC_DIA_2_HFX5_10min_8cm_...             1679\n",
       "7   Exp000000_DingC_PooledQC_DIA_9_HFX5_10min_8cm_...             1793\n",
       "8   Exp000000_DingC_PooledQC_DIA_11_HFX5_10min_8cm...             1772\n",
       "9   Exp000000_DingC_PooledQC_DIA_17_HFX5_10min_8cm...             1815\n",
       "10  Exp000000_DingC_PooledQC_DIA_4_HFX5_10min_8cm_...             1744\n",
       "11  Exp000000_DingC_PooledQC_DIA_1_HFX5_10min_8cm_...             1798\n",
       "12  Exp000000_DingC_PooledQC_DIA_12_HFX5_10min_8cm...             1769\n",
       "13  Exp000000_DingC_PooledQC_DIA_19_HFX5_10min_8cm...             1810\n",
       "14  Exp000000_DingC_PooledQC_DIA_14_HFX5_10min_8cm...             1770\n",
       "15  Exp000000_DingC_PooledQC_DIA_7_HFX5_10min_8cm_...             1808\n",
       "16  Exp000000_DingC_PooledQC_DIA_13_HFX5_10min_8cm...             1844\n",
       "17  Exp000000_DingC_PooledQC_DIA_18_HFX5_10min_8cm...             1707\n",
       "18  Exp000000_DingC_PooledQC_DIA_15_HFX5_10min_8cm...             1822\n",
       "19  Exp000000_DingC_PooledQC_DIA_6_HFX5_10min_8cm_...             1817"
      ]
     },
     "execution_count": 3,
     "metadata": {},
     "output_type": "execute_result"
    }
   ],
   "source": [
    "df1 = pd.read_clipboard()\n",
    "df1"
   ]
  },
  {
   "cell_type": "code",
   "execution_count": 4,
   "metadata": {},
   "outputs": [
    {
     "name": "stdout",
     "output_type": "stream",
     "text": [
      "The IQR1 is: Protein Numbers    1769.75\n",
      "Name: 0.25, dtype: float64\n",
      "The IQR3 is: Protein Numbers    1815.0\n",
      "Name: 0.75, dtype: float64\n",
      "The mean is: Protein Numbers    1786.3\n",
      "dtype: float64\n",
      "The median is: Protein Numbers    1796.0\n",
      "dtype: float64\n"
     ]
    },
    {
     "name": "stderr",
     "output_type": "stream",
     "text": [
      "/var/folders/_g/sb7t66_j0j389sb96z2zd9hc0000gn/T/ipykernel_90386/653566087.py:39: FutureWarning: Dropping of nuisance columns in DataFrame reductions (with 'numeric_only=None') is deprecated; in a future version this will raise TypeError.  Select only valid columns before calling the reduction.\n",
      "  mean = data.mean()\n",
      "/var/folders/_g/sb7t66_j0j389sb96z2zd9hc0000gn/T/ipykernel_90386/653566087.py:41: FutureWarning: Dropping of nuisance columns in DataFrame reductions (with 'numeric_only=None') is deprecated; in a future version this will raise TypeError.  Select only valid columns before calling the reduction.\n",
      "  median = data.median()\n"
     ]
    }
   ],
   "source": [
    "get_IQR(df1)"
   ]
  },
  {
   "cell_type": "code",
   "execution_count": 5,
   "metadata": {},
   "outputs": [
    {
     "data": {
      "text/html": [
       "<div>\n",
       "<style scoped>\n",
       "    .dataframe tbody tr th:only-of-type {\n",
       "        vertical-align: middle;\n",
       "    }\n",
       "\n",
       "    .dataframe tbody tr th {\n",
       "        vertical-align: top;\n",
       "    }\n",
       "\n",
       "    .dataframe thead th {\n",
       "        text-align: right;\n",
       "    }\n",
       "</style>\n",
       "<table border=\"1\" class=\"dataframe\">\n",
       "  <thead>\n",
       "    <tr style=\"text-align: right;\">\n",
       "      <th></th>\n",
       "      <th>Sample</th>\n",
       "      <th>Protein Numbers</th>\n",
       "      <th>Type</th>\n",
       "    </tr>\n",
       "  </thead>\n",
       "  <tbody>\n",
       "    <tr>\n",
       "      <th>0</th>\n",
       "      <td>Exp000000_DingC_PooledQC_DIA_14_HFX5_10min_8cm...</td>\n",
       "      <td>1702</td>\n",
       "      <td>STAVER</td>\n",
       "    </tr>\n",
       "    <tr>\n",
       "      <th>1</th>\n",
       "      <td>Exp000000_DingC_PooledQC_DIA_9_HFX5_10min_8cm_...</td>\n",
       "      <td>1774</td>\n",
       "      <td>STAVER</td>\n",
       "    </tr>\n",
       "    <tr>\n",
       "      <th>2</th>\n",
       "      <td>Exp000000_DingC_PooledQC_DIA_17_HFX5_10min_8cm...</td>\n",
       "      <td>1748</td>\n",
       "      <td>STAVER</td>\n",
       "    </tr>\n",
       "    <tr>\n",
       "      <th>3</th>\n",
       "      <td>Exp000000_DingC_PooledQC_DIA_3_HFX5_10min_8cm_...</td>\n",
       "      <td>1709</td>\n",
       "      <td>STAVER</td>\n",
       "    </tr>\n",
       "    <tr>\n",
       "      <th>4</th>\n",
       "      <td>Exp000000_DingC_PooledQC_DIA_19_HFX5_10min_8cm...</td>\n",
       "      <td>1771</td>\n",
       "      <td>STAVER</td>\n",
       "    </tr>\n",
       "    <tr>\n",
       "      <th>5</th>\n",
       "      <td>Exp000000_DingC_PooledQC_DIA_7_HFX5_10min_8cm_...</td>\n",
       "      <td>1796</td>\n",
       "      <td>STAVER</td>\n",
       "    </tr>\n",
       "    <tr>\n",
       "      <th>6</th>\n",
       "      <td>Exp000000_DingC_PooledQC_DIA_1_HFX5_10min_8cm_...</td>\n",
       "      <td>1817</td>\n",
       "      <td>STAVER</td>\n",
       "    </tr>\n",
       "    <tr>\n",
       "      <th>7</th>\n",
       "      <td>Exp000000_DingC_PooledQC_DIA_5_HFX5_10min_8cm_...</td>\n",
       "      <td>1740</td>\n",
       "      <td>STAVER</td>\n",
       "    </tr>\n",
       "    <tr>\n",
       "      <th>8</th>\n",
       "      <td>Exp000000_DingC_PooledQC_DIA_2_HFX5_10min_8cm_...</td>\n",
       "      <td>1678</td>\n",
       "      <td>STAVER</td>\n",
       "    </tr>\n",
       "    <tr>\n",
       "      <th>9</th>\n",
       "      <td>Exp000000_DingC_PooledQC_DIA_4_HFX5_10min_8cm_...</td>\n",
       "      <td>1732</td>\n",
       "      <td>STAVER</td>\n",
       "    </tr>\n",
       "    <tr>\n",
       "      <th>10</th>\n",
       "      <td>Exp000000_DingC_PooledQC_DIA_12_HFX5_10min_8cm...</td>\n",
       "      <td>1763</td>\n",
       "      <td>STAVER</td>\n",
       "    </tr>\n",
       "    <tr>\n",
       "      <th>11</th>\n",
       "      <td>Exp000000_DingC_PooledQC_DIA_11_HFX5_10min_8cm...</td>\n",
       "      <td>1764</td>\n",
       "      <td>STAVER</td>\n",
       "    </tr>\n",
       "    <tr>\n",
       "      <th>12</th>\n",
       "      <td>Exp000000_DingC_PooledQC_DIA_10_HFX5_10min_8cm...</td>\n",
       "      <td>1758</td>\n",
       "      <td>STAVER</td>\n",
       "    </tr>\n",
       "    <tr>\n",
       "      <th>13</th>\n",
       "      <td>Exp000000_DingC_PooledQC_DIA_20_HFX5_10min_8cm...</td>\n",
       "      <td>1822</td>\n",
       "      <td>STAVER</td>\n",
       "    </tr>\n",
       "    <tr>\n",
       "      <th>14</th>\n",
       "      <td>Exp000000_DingC_PooledQC_DIA_8_HFX5_10min_8cm_...</td>\n",
       "      <td>1825</td>\n",
       "      <td>STAVER</td>\n",
       "    </tr>\n",
       "    <tr>\n",
       "      <th>15</th>\n",
       "      <td>Exp000000_DingC_PooledQC_DIA_13_HFX5_10min_8cm...</td>\n",
       "      <td>1781</td>\n",
       "      <td>STAVER</td>\n",
       "    </tr>\n",
       "    <tr>\n",
       "      <th>16</th>\n",
       "      <td>Exp000000_DingC_PooledQC_DIA_16_HFX5_10min_8cm...</td>\n",
       "      <td>1806</td>\n",
       "      <td>STAVER</td>\n",
       "    </tr>\n",
       "    <tr>\n",
       "      <th>17</th>\n",
       "      <td>Exp000000_DingC_PooledQC_DIA_6_HFX5_10min_8cm_...</td>\n",
       "      <td>1765</td>\n",
       "      <td>STAVER</td>\n",
       "    </tr>\n",
       "    <tr>\n",
       "      <th>18</th>\n",
       "      <td>Exp000000_DingC_PooledQC_DIA_18_HFX5_10min_8cm...</td>\n",
       "      <td>1716</td>\n",
       "      <td>STAVER</td>\n",
       "    </tr>\n",
       "    <tr>\n",
       "      <th>19</th>\n",
       "      <td>Exp000000_DingC_PooledQC_DIA_15_HFX5_10min_8cm...</td>\n",
       "      <td>1810</td>\n",
       "      <td>STAVER</td>\n",
       "    </tr>\n",
       "  </tbody>\n",
       "</table>\n",
       "</div>"
      ],
      "text/plain": [
       "                                               Sample  Protein Numbers    Type\n",
       "0   Exp000000_DingC_PooledQC_DIA_14_HFX5_10min_8cm...             1702  STAVER\n",
       "1   Exp000000_DingC_PooledQC_DIA_9_HFX5_10min_8cm_...             1774  STAVER\n",
       "2   Exp000000_DingC_PooledQC_DIA_17_HFX5_10min_8cm...             1748  STAVER\n",
       "3   Exp000000_DingC_PooledQC_DIA_3_HFX5_10min_8cm_...             1709  STAVER\n",
       "4   Exp000000_DingC_PooledQC_DIA_19_HFX5_10min_8cm...             1771  STAVER\n",
       "5   Exp000000_DingC_PooledQC_DIA_7_HFX5_10min_8cm_...             1796  STAVER\n",
       "6   Exp000000_DingC_PooledQC_DIA_1_HFX5_10min_8cm_...             1817  STAVER\n",
       "7   Exp000000_DingC_PooledQC_DIA_5_HFX5_10min_8cm_...             1740  STAVER\n",
       "8   Exp000000_DingC_PooledQC_DIA_2_HFX5_10min_8cm_...             1678  STAVER\n",
       "9   Exp000000_DingC_PooledQC_DIA_4_HFX5_10min_8cm_...             1732  STAVER\n",
       "10  Exp000000_DingC_PooledQC_DIA_12_HFX5_10min_8cm...             1763  STAVER\n",
       "11  Exp000000_DingC_PooledQC_DIA_11_HFX5_10min_8cm...             1764  STAVER\n",
       "12  Exp000000_DingC_PooledQC_DIA_10_HFX5_10min_8cm...             1758  STAVER\n",
       "13  Exp000000_DingC_PooledQC_DIA_20_HFX5_10min_8cm...             1822  STAVER\n",
       "14  Exp000000_DingC_PooledQC_DIA_8_HFX5_10min_8cm_...             1825  STAVER\n",
       "15  Exp000000_DingC_PooledQC_DIA_13_HFX5_10min_8cm...             1781  STAVER\n",
       "16  Exp000000_DingC_PooledQC_DIA_16_HFX5_10min_8cm...             1806  STAVER\n",
       "17  Exp000000_DingC_PooledQC_DIA_6_HFX5_10min_8cm_...             1765  STAVER\n",
       "18  Exp000000_DingC_PooledQC_DIA_18_HFX5_10min_8cm...             1716  STAVER\n",
       "19  Exp000000_DingC_PooledQC_DIA_15_HFX5_10min_8cm...             1810  STAVER"
      ]
     },
     "execution_count": 5,
     "metadata": {},
     "output_type": "execute_result"
    }
   ],
   "source": [
    "df2 = pd.read_clipboard()\n",
    "df2"
   ]
  },
  {
   "cell_type": "code",
   "execution_count": 6,
   "metadata": {},
   "outputs": [
    {
     "name": "stdout",
     "output_type": "stream",
     "text": [
      "The IQR1 is: Protein Numbers    1738.0\n",
      "Name: 0.25, dtype: float64\n",
      "The IQR3 is: Protein Numbers    1798.5\n",
      "Name: 0.75, dtype: float64\n",
      "The mean is: Protein Numbers    1763.85\n",
      "dtype: float64\n",
      "The median is: Protein Numbers    1764.5\n",
      "dtype: float64\n"
     ]
    },
    {
     "name": "stderr",
     "output_type": "stream",
     "text": [
      "/var/folders/_g/sb7t66_j0j389sb96z2zd9hc0000gn/T/ipykernel_90386/653566087.py:39: FutureWarning: Dropping of nuisance columns in DataFrame reductions (with 'numeric_only=None') is deprecated; in a future version this will raise TypeError.  Select only valid columns before calling the reduction.\n",
      "  mean = data.mean()\n",
      "/var/folders/_g/sb7t66_j0j389sb96z2zd9hc0000gn/T/ipykernel_90386/653566087.py:41: FutureWarning: Dropping of nuisance columns in DataFrame reductions (with 'numeric_only=None') is deprecated; in a future version this will raise TypeError.  Select only valid columns before calling the reduction.\n",
      "  median = data.median()\n"
     ]
    }
   ],
   "source": [
    "get_IQR(df2)"
   ]
  },
  {
   "cell_type": "code",
   "execution_count": 7,
   "metadata": {},
   "outputs": [
    {
     "name": "stdout",
     "output_type": "stream",
     "text": [
      "The IQR1 is: 0.895863019995403\n",
      "The IQR3 is: 0.926099712237964\n",
      "The mean is: 0.908416724937906\n",
      "The median is: 0.913686262115465\n"
     ]
    },
    {
     "data": {
      "text/html": [
       "<div>\n",
       "<style scoped>\n",
       "    .dataframe tbody tr th:only-of-type {\n",
       "        vertical-align: middle;\n",
       "    }\n",
       "\n",
       "    .dataframe tbody tr th {\n",
       "        vertical-align: top;\n",
       "    }\n",
       "\n",
       "    .dataframe thead th {\n",
       "        text-align: right;\n",
       "    }\n",
       "</style>\n",
       "<table border=\"1\" class=\"dataframe\">\n",
       "  <thead>\n",
       "    <tr style=\"text-align: right;\">\n",
       "      <th></th>\n",
       "      <th>Row</th>\n",
       "      <th>Column</th>\n",
       "      <th>Correlation</th>\n",
       "    </tr>\n",
       "  </thead>\n",
       "  <tbody>\n",
       "    <tr>\n",
       "      <th>0</th>\n",
       "      <td>tQC_NA_NA_114</td>\n",
       "      <td>tQC_NA_NA_104</td>\n",
       "      <td>0.929225</td>\n",
       "    </tr>\n",
       "    <tr>\n",
       "      <th>1</th>\n",
       "      <td>tQC_NA_NA_12</td>\n",
       "      <td>tQC_NA_NA_104</td>\n",
       "      <td>0.913675</td>\n",
       "    </tr>\n",
       "    <tr>\n",
       "      <th>2</th>\n",
       "      <td>tQC_NA_NA_12</td>\n",
       "      <td>tQC_NA_NA_114</td>\n",
       "      <td>0.903194</td>\n",
       "    </tr>\n",
       "    <tr>\n",
       "      <th>3</th>\n",
       "      <td>tQC_NA_NA_124</td>\n",
       "      <td>tQC_NA_NA_104</td>\n",
       "      <td>0.929690</td>\n",
       "    </tr>\n",
       "    <tr>\n",
       "      <th>4</th>\n",
       "      <td>tQC_NA_NA_124</td>\n",
       "      <td>tQC_NA_NA_114</td>\n",
       "      <td>0.937237</td>\n",
       "    </tr>\n",
       "    <tr>\n",
       "      <th>...</th>\n",
       "      <td>...</td>\n",
       "      <td>...</td>\n",
       "      <td>...</td>\n",
       "    </tr>\n",
       "    <tr>\n",
       "      <th>736</th>\n",
       "      <td>tQC_NA_NA_93</td>\n",
       "      <td>tQC_NA_NA_42</td>\n",
       "      <td>0.940708</td>\n",
       "    </tr>\n",
       "    <tr>\n",
       "      <th>737</th>\n",
       "      <td>tQC_NA_NA_93</td>\n",
       "      <td>tQC_NA_NA_53</td>\n",
       "      <td>0.927735</td>\n",
       "    </tr>\n",
       "    <tr>\n",
       "      <th>738</th>\n",
       "      <td>tQC_NA_NA_93</td>\n",
       "      <td>tQC_NA_NA_63</td>\n",
       "      <td>0.939554</td>\n",
       "    </tr>\n",
       "    <tr>\n",
       "      <th>739</th>\n",
       "      <td>tQC_NA_NA_93</td>\n",
       "      <td>tQC_NA_NA_73</td>\n",
       "      <td>0.911351</td>\n",
       "    </tr>\n",
       "    <tr>\n",
       "      <th>740</th>\n",
       "      <td>tQC_NA_NA_93</td>\n",
       "      <td>tQC_NA_NA_83</td>\n",
       "      <td>0.923769</td>\n",
       "    </tr>\n",
       "  </tbody>\n",
       "</table>\n",
       "<p>741 rows × 3 columns</p>\n",
       "</div>"
      ],
      "text/plain": [
       "               Row         Column  Correlation\n",
       "0    tQC_NA_NA_114  tQC_NA_NA_104     0.929225\n",
       "1     tQC_NA_NA_12  tQC_NA_NA_104     0.913675\n",
       "2     tQC_NA_NA_12  tQC_NA_NA_114     0.903194\n",
       "3    tQC_NA_NA_124  tQC_NA_NA_104     0.929690\n",
       "4    tQC_NA_NA_124  tQC_NA_NA_114     0.937237\n",
       "..             ...            ...          ...\n",
       "736   tQC_NA_NA_93   tQC_NA_NA_42     0.940708\n",
       "737   tQC_NA_NA_93   tQC_NA_NA_53     0.927735\n",
       "738   tQC_NA_NA_93   tQC_NA_NA_63     0.939554\n",
       "739   tQC_NA_NA_93   tQC_NA_NA_73     0.911351\n",
       "740   tQC_NA_NA_93   tQC_NA_NA_83     0.923769\n",
       "\n",
       "[741 rows x 3 columns]"
      ]
     },
     "execution_count": 7,
     "metadata": {},
     "output_type": "execute_result"
    }
   ],
   "source": [
    "# sFigure-3A raw data\n",
    "data = pd.read_excel(\"/Users/ranpeng/Library/Mobile Documents/com~apple~CloudDocs/Desktop/Manuscript/Supplementary-Tables/Supplementary-Table3(2023-4-26).xlsx\", sheet_name=\"3.Spearman_Cor_QC_Rawdata\", index_col=0)\n",
    "result_df = extract_lower_triangular(data)\n",
    "get_IQR(result_df['Correlation'])\n",
    "result_df"
   ]
  },
  {
   "cell_type": "code",
   "execution_count": 8,
   "metadata": {},
   "outputs": [
    {
     "name": "stdout",
     "output_type": "stream",
     "text": [
      "The IQR1 is: 0.9306584508821436\n",
      "The IQR3 is: 0.9542617575434276\n",
      "The mean is: 0.9415002535546871\n",
      "The median is: 0.943061542509056\n"
     ]
    },
    {
     "data": {
      "text/html": [
       "<div>\n",
       "<style scoped>\n",
       "    .dataframe tbody tr th:only-of-type {\n",
       "        vertical-align: middle;\n",
       "    }\n",
       "\n",
       "    .dataframe tbody tr th {\n",
       "        vertical-align: top;\n",
       "    }\n",
       "\n",
       "    .dataframe thead th {\n",
       "        text-align: right;\n",
       "    }\n",
       "</style>\n",
       "<table border=\"1\" class=\"dataframe\">\n",
       "  <thead>\n",
       "    <tr style=\"text-align: right;\">\n",
       "      <th></th>\n",
       "      <th>Row</th>\n",
       "      <th>Column</th>\n",
       "      <th>Correlation</th>\n",
       "    </tr>\n",
       "  </thead>\n",
       "  <tbody>\n",
       "    <tr>\n",
       "      <th>0</th>\n",
       "      <td>tQC_NA_NA_379_F1_R1</td>\n",
       "      <td>tQC_NA_NA_226_F1_R1</td>\n",
       "      <td>0.893680</td>\n",
       "    </tr>\n",
       "    <tr>\n",
       "      <th>1</th>\n",
       "      <td>tQC_NA_NA_114_F1_R1</td>\n",
       "      <td>tQC_NA_NA_226_F1_R1</td>\n",
       "      <td>0.946643</td>\n",
       "    </tr>\n",
       "    <tr>\n",
       "      <th>2</th>\n",
       "      <td>tQC_NA_NA_114_F1_R1</td>\n",
       "      <td>tQC_NA_NA_379_F1_R1</td>\n",
       "      <td>0.935681</td>\n",
       "    </tr>\n",
       "    <tr>\n",
       "      <th>3</th>\n",
       "      <td>tQC_NA_NA_165_F1_R1</td>\n",
       "      <td>tQC_NA_NA_226_F1_R1</td>\n",
       "      <td>0.946841</td>\n",
       "    </tr>\n",
       "    <tr>\n",
       "      <th>4</th>\n",
       "      <td>tQC_NA_NA_165_F1_R1</td>\n",
       "      <td>tQC_NA_NA_379_F1_R1</td>\n",
       "      <td>0.929850</td>\n",
       "    </tr>\n",
       "    <tr>\n",
       "      <th>...</th>\n",
       "      <td>...</td>\n",
       "      <td>...</td>\n",
       "      <td>...</td>\n",
       "    </tr>\n",
       "    <tr>\n",
       "      <th>698</th>\n",
       "      <td>tQC_NA_NA_32_F1_R1</td>\n",
       "      <td>tQC_NA_NA_93_F1_R1</td>\n",
       "      <td>0.959137</td>\n",
       "    </tr>\n",
       "    <tr>\n",
       "      <th>699</th>\n",
       "      <td>tQC_NA_NA_32_F1_R1</td>\n",
       "      <td>tQC_NA_NA_246_F1_R1</td>\n",
       "      <td>0.926929</td>\n",
       "    </tr>\n",
       "    <tr>\n",
       "      <th>700</th>\n",
       "      <td>tQC_NA_NA_32_F1_R1</td>\n",
       "      <td>tQC_NA_NA_185_F1_R1</td>\n",
       "      <td>0.935840</td>\n",
       "    </tr>\n",
       "    <tr>\n",
       "      <th>701</th>\n",
       "      <td>tQC_NA_NA_32_F1_R1</td>\n",
       "      <td>tQC_NA_NA_216_F1_R1</td>\n",
       "      <td>0.942808</td>\n",
       "    </tr>\n",
       "    <tr>\n",
       "      <th>702</th>\n",
       "      <td>tQC_NA_NA_32_F1_R1</td>\n",
       "      <td>tQC_NA_NA_124_F1_R1</td>\n",
       "      <td>0.959221</td>\n",
       "    </tr>\n",
       "  </tbody>\n",
       "</table>\n",
       "<p>703 rows × 3 columns</p>\n",
       "</div>"
      ],
      "text/plain": [
       "                     Row               Column  Correlation\n",
       "0    tQC_NA_NA_379_F1_R1  tQC_NA_NA_226_F1_R1     0.893680\n",
       "1    tQC_NA_NA_114_F1_R1  tQC_NA_NA_226_F1_R1     0.946643\n",
       "2    tQC_NA_NA_114_F1_R1  tQC_NA_NA_379_F1_R1     0.935681\n",
       "3    tQC_NA_NA_165_F1_R1  tQC_NA_NA_226_F1_R1     0.946841\n",
       "4    tQC_NA_NA_165_F1_R1  tQC_NA_NA_379_F1_R1     0.929850\n",
       "..                   ...                  ...          ...\n",
       "698   tQC_NA_NA_32_F1_R1   tQC_NA_NA_93_F1_R1     0.959137\n",
       "699   tQC_NA_NA_32_F1_R1  tQC_NA_NA_246_F1_R1     0.926929\n",
       "700   tQC_NA_NA_32_F1_R1  tQC_NA_NA_185_F1_R1     0.935840\n",
       "701   tQC_NA_NA_32_F1_R1  tQC_NA_NA_216_F1_R1     0.942808\n",
       "702   tQC_NA_NA_32_F1_R1  tQC_NA_NA_124_F1_R1     0.959221\n",
       "\n",
       "[703 rows x 3 columns]"
      ]
     },
     "execution_count": 8,
     "metadata": {},
     "output_type": "execute_result"
    }
   ],
   "source": [
    "# sFigure-3A STAVER data\n",
    "data = pd.read_excel(\"/Users/ranpeng/Library/Mobile Documents/com~apple~CloudDocs/Desktop/Manuscript/Supplementary-Tables/Supplementary-Table3(2023-4-26).xlsx\", sheet_name=\"4.Spearman_Cor_QC_STAVER\", index_col=0)\n",
    "result_df = extract_lower_triangular(data)\n",
    "get_IQR(result_df['Correlation'])\n",
    "result_df"
   ]
  },
  {
   "cell_type": "code",
   "execution_count": null,
   "metadata": {},
   "outputs": [],
   "source": []
  }
 ],
 "metadata": {
  "kernelspec": {
   "display_name": "chatgpt",
   "language": "python",
   "name": "python3"
  },
  "language_info": {
   "codemirror_mode": {
    "name": "ipython",
    "version": 3
   },
   "file_extension": ".py",
   "mimetype": "text/x-python",
   "name": "python",
   "nbconvert_exporter": "python",
   "pygments_lexer": "ipython3",
   "version": "3.9.12"
  },
  "orig_nbformat": 4
 },
 "nbformat": 4,
 "nbformat_minor": 2
}
